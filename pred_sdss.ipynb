{
 "cells": [
  {
   "cell_type": "code",
   "execution_count": 1,
   "metadata": {
    "collapsed": true
   },
   "outputs": [],
   "source": [
    "import torch\n",
    "import os\n",
    "import numpy as np\n",
    "import pandas as pd"
   ]
  },
  {
   "cell_type": "code",
   "execution_count": 2,
   "outputs": [],
   "source": [
    "MODEL_PATH = \"/data/renhaoye/decals_2022/trained_model/x_ception-LR_0.0001-LOSS_focal_loss-CLASS_7-BATCHSIZE_32-OPTIM_torch.optim.AdamW-OTHER_graduation_weightdecay0.01/model_5.pt\""
   ],
   "metadata": {
    "collapsed": false,
    "pycharm": {
     "name": "#%%\n"
    }
   }
  },
  {
   "cell_type": "code",
   "execution_count": 7,
   "outputs": [
    {
     "name": "stdout",
     "output_type": "stream",
     "text": [
      "<class 'pandas.core.frame.DataFrame'>\n",
      "RangeIndex: 313382 entries, 0 to 313381\n",
      "Data columns (total 92 columns):\n",
      " #   Column                                             Non-Null Count   Dtype  \n",
      "---  ------                                             --------------   -----  \n",
      " 0   Unnamed: 0                                         313382 non-null  int64  \n",
      " 1   ra                                                 313382 non-null  float64\n",
      " 2   dec                                                313382 non-null  float64\n",
      " 3   iauname                                            313382 non-null  object \n",
      " 4   petro_theta                                        313382 non-null  float64\n",
      " 5   petro_th50                                         313382 non-null  float64\n",
      " 6   petro_th90                                         313382 non-null  float64\n",
      " 7   elpetro_absmag_r                                   313378 non-null  float64\n",
      " 8   sersic_nmgy_r                                      313382 non-null  float64\n",
      " 9   redshift                                           313382 non-null  float64\n",
      " 10  mag_r                                              313333 non-null  float64\n",
      " 11  smooth_or_featured_smooth_concentration            313382 non-null  object \n",
      " 12  smooth_or_featured_featured_or_disk_concentration  313382 non-null  object \n",
      " 13  smooth_or_featured_artifact_concentration          313382 non-null  object \n",
      " 14  disk_edge_on_yes_concentration                     313382 non-null  object \n",
      " 15  disk_edge_on_no_concentration                      313382 non-null  object \n",
      " 16  has_spiral_arms_yes_concentration                  313382 non-null  object \n",
      " 17  has_spiral_arms_no_concentration                   313382 non-null  object \n",
      " 18  bar_strong_concentration                           313382 non-null  object \n",
      " 19  bar_weak_concentration                             313382 non-null  object \n",
      " 20  bar_no_concentration                               313382 non-null  object \n",
      " 21  bulge_size_dominant_concentration                  313382 non-null  object \n",
      " 22  bulge_size_large_concentration                     313382 non-null  object \n",
      " 23  bulge_size_moderate_concentration                  313382 non-null  object \n",
      " 24  bulge_size_small_concentration                     313382 non-null  object \n",
      " 25  bulge_size_none_concentration                      313382 non-null  object \n",
      " 26  how_rounded_round_concentration                    313382 non-null  object \n",
      " 27  how_rounded_in_between_concentration               313382 non-null  object \n",
      " 28  how_rounded_cigar_shaped_concentration             313382 non-null  object \n",
      " 29  edge_on_bulge_boxy_concentration                   313382 non-null  object \n",
      " 30  edge_on_bulge_none_concentration                   313382 non-null  object \n",
      " 31  edge_on_bulge_rounded_concentration                313382 non-null  object \n",
      " 32  spiral_winding_tight_concentration                 313382 non-null  object \n",
      " 33  spiral_winding_medium_concentration                313382 non-null  object \n",
      " 34  spiral_winding_loose_concentration                 313382 non-null  object \n",
      " 35  spiral_arm_count_1_concentration                   313382 non-null  object \n",
      " 36  spiral_arm_count_2_concentration                   313382 non-null  object \n",
      " 37  spiral_arm_count_3_concentration                   313382 non-null  object \n",
      " 38  spiral_arm_count_4_concentration                   313382 non-null  object \n",
      " 39  spiral_arm_count_more_than_4_concentration         313382 non-null  object \n",
      " 40  spiral_arm_count_cant_tell_concentration           313382 non-null  object \n",
      " 41  merging_none_concentration                         313382 non-null  object \n",
      " 42  merging_minor_disturbance_concentration            313382 non-null  object \n",
      " 43  merging_major_disturbance_concentration            313382 non-null  object \n",
      " 44  merging_merger_concentration                       313382 non-null  object \n",
      " 45  smooth_or_featured_smooth_fraction                 313382 non-null  float64\n",
      " 46  smooth_or_featured_featured_or_disk_fraction       313382 non-null  float64\n",
      " 47  smooth_or_featured_artifact_fraction               313382 non-null  float64\n",
      " 48  disk_edge_on_yes_fraction                          313382 non-null  float64\n",
      " 49  disk_edge_on_no_fraction                           313382 non-null  float64\n",
      " 50  has_spiral_arms_yes_fraction                       313382 non-null  float64\n",
      " 51  has_spiral_arms_no_fraction                        313382 non-null  float64\n",
      " 52  bar_strong_fraction                                313382 non-null  float64\n",
      " 53  bar_weak_fraction                                  313382 non-null  float64\n",
      " 54  bar_no_fraction                                    313382 non-null  float64\n",
      " 55  bulge_size_dominant_fraction                       313382 non-null  float64\n",
      " 56  bulge_size_large_fraction                          313382 non-null  float64\n",
      " 57  bulge_size_moderate_fraction                       313382 non-null  float64\n",
      " 58  bulge_size_small_fraction                          313382 non-null  float64\n",
      " 59  bulge_size_none_fraction                           313382 non-null  float64\n",
      " 60  how_rounded_round_fraction                         313382 non-null  float64\n",
      " 61  how_rounded_in_between_fraction                    313382 non-null  float64\n",
      " 62  how_rounded_cigar_shaped_fraction                  313382 non-null  float64\n",
      " 63  edge_on_bulge_boxy_fraction                        313382 non-null  float64\n",
      " 64  edge_on_bulge_none_fraction                        313382 non-null  float64\n",
      " 65  edge_on_bulge_rounded_fraction                     313382 non-null  float64\n",
      " 66  spiral_winding_tight_fraction                      313382 non-null  float64\n",
      " 67  spiral_winding_medium_fraction                     313382 non-null  float64\n",
      " 68  spiral_winding_loose_fraction                      313382 non-null  float64\n",
      " 69  spiral_arm_count_1_fraction                        313382 non-null  float64\n",
      " 70  spiral_arm_count_2_fraction                        313382 non-null  float64\n",
      " 71  spiral_arm_count_3_fraction                        313382 non-null  float64\n",
      " 72  spiral_arm_count_4_fraction                        313382 non-null  float64\n",
      " 73  spiral_arm_count_more_than_4_fraction              313382 non-null  float64\n",
      " 74  spiral_arm_count_cant_tell_fraction                313382 non-null  float64\n",
      " 75  merging_none_fraction                              313382 non-null  float64\n",
      " 76  merging_minor_disturbance_fraction                 313382 non-null  float64\n",
      " 77  merging_major_disturbance_fraction                 313382 non-null  float64\n",
      " 78  merging_merger_fraction                            313382 non-null  float64\n",
      " 79  smooth_or_featured_proportion_volunteers_asked     313382 non-null  float64\n",
      " 80  disk_edge_on_proportion_volunteers_asked           313382 non-null  float64\n",
      " 81  has_spiral_arms_proportion_volunteers_asked        313382 non-null  float64\n",
      " 82  bar_proportion_volunteers_asked                    313382 non-null  float64\n",
      " 83  bulge_size_proportion_volunteers_asked             313382 non-null  float64\n",
      " 84  how_rounded_proportion_volunteers_asked            313382 non-null  float64\n",
      " 85  edge_on_bulge_proportion_volunteers_asked          313382 non-null  float64\n",
      " 86  spiral_winding_proportion_volunteers_asked         313382 non-null  float64\n",
      " 87  spiral_arm_count_proportion_volunteers_asked       313382 non-null  float64\n",
      " 88  merging_proportion_volunteers_asked                313382 non-null  float64\n",
      " 89  file_loc                                           313382 non-null  object \n",
      " 90  wrong_size_statistic                               313345 non-null  float64\n",
      " 91  wrong_size_warning                                 313382 non-null  bool   \n",
      "dtypes: bool(1), float64(54), int64(1), object(36)\n",
      "memory usage: 217.9+ MB\n",
      "220431 None\n"
     ]
    }
   ],
   "source": [
    "sdss_dir = \"/data/renhaoye/sdss_dr7_decals_overlap/scaled/\"\n",
    "decals_csv = \"/data/renhaoye/decals_2022/fits.csv\"\n",
    "sdss_files = os.listdir(sdss_dir)\n",
    "decals_df = pd.read_csv(decals_csv)\n",
    "print(len(sdss_files), decals_df.info())"
   ],
   "metadata": {
    "collapsed": false,
    "pycharm": {
     "name": "#%%\n"
    }
   }
  },
  {
   "cell_type": "code",
   "execution_count": 4,
   "outputs": [],
   "source": [
    "decals_df = decals_df.loc[:,[\"ra\", \"dec\", \"redshift\", \"iauname\", \"petro_theta\", \"petro_th50\", \"petro_th90\", \"elpetro_absmag_r\", \"mag_r\"]]"
   ],
   "metadata": {
    "collapsed": false,
    "pycharm": {
     "name": "#%%\n"
    }
   }
  },
  {
   "cell_type": "code",
   "execution_count": 5,
   "outputs": [
    {
     "data": {
      "text/plain": "           ra        dec  redshift              iauname  petro_theta  \\\n0  234.869207  21.759190  0.041684  J153928.61+214533.1     4.724053   \n1  195.388715   5.035083  0.037408  J130133.28+050206.2     3.841845   \n2  200.468517  -0.949762  0.082486  J132152.44-005659.1     5.593759   \n3  203.926529   6.158162  0.138541  J133542.36+060929.4     3.210471   \n4  170.696841  -0.525081  0.128299  J112247.24-003129.2     5.253455   \n\n   petro_th50  petro_th90  elpetro_absmag_r      mag_r  \n0    2.160871    6.341927        -18.504347  16.911097  \n1    1.777867    4.949468        -18.230358  17.036488  \n2    2.859202    6.280983        -19.807608  17.171646  \n3    1.468530    4.227541        -20.725206  17.638443  \n4    2.737622    5.304429        -19.098269  19.133171  ",
      "text/html": "<div>\n<style scoped>\n    .dataframe tbody tr th:only-of-type {\n        vertical-align: middle;\n    }\n\n    .dataframe tbody tr th {\n        vertical-align: top;\n    }\n\n    .dataframe thead th {\n        text-align: right;\n    }\n</style>\n<table border=\"1\" class=\"dataframe\">\n  <thead>\n    <tr style=\"text-align: right;\">\n      <th></th>\n      <th>ra</th>\n      <th>dec</th>\n      <th>redshift</th>\n      <th>iauname</th>\n      <th>petro_theta</th>\n      <th>petro_th50</th>\n      <th>petro_th90</th>\n      <th>elpetro_absmag_r</th>\n      <th>mag_r</th>\n    </tr>\n  </thead>\n  <tbody>\n    <tr>\n      <th>0</th>\n      <td>234.869207</td>\n      <td>21.759190</td>\n      <td>0.041684</td>\n      <td>J153928.61+214533.1</td>\n      <td>4.724053</td>\n      <td>2.160871</td>\n      <td>6.341927</td>\n      <td>-18.504347</td>\n      <td>16.911097</td>\n    </tr>\n    <tr>\n      <th>1</th>\n      <td>195.388715</td>\n      <td>5.035083</td>\n      <td>0.037408</td>\n      <td>J130133.28+050206.2</td>\n      <td>3.841845</td>\n      <td>1.777867</td>\n      <td>4.949468</td>\n      <td>-18.230358</td>\n      <td>17.036488</td>\n    </tr>\n    <tr>\n      <th>2</th>\n      <td>200.468517</td>\n      <td>-0.949762</td>\n      <td>0.082486</td>\n      <td>J132152.44-005659.1</td>\n      <td>5.593759</td>\n      <td>2.859202</td>\n      <td>6.280983</td>\n      <td>-19.807608</td>\n      <td>17.171646</td>\n    </tr>\n    <tr>\n      <th>3</th>\n      <td>203.926529</td>\n      <td>6.158162</td>\n      <td>0.138541</td>\n      <td>J133542.36+060929.4</td>\n      <td>3.210471</td>\n      <td>1.468530</td>\n      <td>4.227541</td>\n      <td>-20.725206</td>\n      <td>17.638443</td>\n    </tr>\n    <tr>\n      <th>4</th>\n      <td>170.696841</td>\n      <td>-0.525081</td>\n      <td>0.128299</td>\n      <td>J112247.24-003129.2</td>\n      <td>5.253455</td>\n      <td>2.737622</td>\n      <td>5.304429</td>\n      <td>-19.098269</td>\n      <td>19.133171</td>\n    </tr>\n  </tbody>\n</table>\n</div>"
     },
     "execution_count": 5,
     "metadata": {},
     "output_type": "execute_result"
    }
   ],
   "source": [
    "decals_df.head(5)"
   ],
   "metadata": {
    "collapsed": false,
    "pycharm": {
     "name": "#%%\n"
    }
   }
  },
  {
   "cell_type": "code",
   "execution_count": 19,
   "outputs": [],
   "source": [
    "from sklearn.model_selection import train_test_split\n",
    "threshold = 0.5\n",
    "threshold2 = 0.6\n",
    "merger = major = decals_df.query('merging_minor_disturbance_fraction > %f '\n",
    "                               '| merging_major_disturbance_fraction > %f '\n",
    "                               '| merging_merger_fraction > %f '\n",
    "                               % (threshold2, threshold2, threshold2))\n",
    "smoothRounded = decals_df.query('smooth_or_featured_smooth_fraction >  %f '\n",
    "                              '& how_rounded_round_fraction > %f' % (0.7, 0.8))\n",
    "smoothInBetween = decals_df.query('smooth_or_featured_smooth_fraction >  %f '\n",
    "                                '& how_rounded_in_between_fraction > %f' % (0.7, 0.85))\n",
    "smoothCigarShaped = decals_df.query('smooth_or_featured_smooth_fraction > %f '\n",
    "                                  '& how_rounded_cigar_shaped_fraction > %f' % (threshold, threshold2))\n",
    "edgeOn = decals_df.query('smooth_or_featured_featured_or_disk_fraction > %f '\n",
    "                       '& disk_edge_on_yes_fraction > %f'\n",
    "                       % (threshold, 0.7))\n",
    "diskNoBar = decals_df.query('smooth_or_featured_featured_or_disk_fraction > %f '\n",
    "                          '& disk_edge_on_no_fraction > %f '\n",
    "                          '& bar_no_fraction > %f '\n",
    "                          % (threshold, threshold, 0.7))\n",
    "diskStrongBar = decals_df.query('smooth_or_featured_featured_or_disk_fraction > %f '\n",
    "                              '& disk_edge_on_no_fraction > %f '\n",
    "                              '&bar_strong_fraction > %f '\n",
    "                              % (threshold, threshold, threshold2))\n",
    "merger.loc[:,\"label\"] = 0\n",
    "smoothRounded.loc[:,\"label\"] = 1\n",
    "smoothInBetween.loc[:,\"label\"] = 2\n",
    "smoothCigarShaped.loc[:,\"label\"] = 3\n",
    "edgeOn.loc[:,\"label\"] = 4\n",
    "diskNoBar.loc[:,\"label\"] = 5\n",
    "diskStrongBar.loc[:,\"label\"] = 6\n",
    "merger_train, merger_test = train_test_split(merger, test_size=0.1, random_state=1926)\n",
    "merger_train, merger_valid = train_test_split(merger_train, test_size=0.1, random_state=1926)\n",
    "\n",
    "smoothRounded_train, smoothRounded_test = train_test_split(smoothRounded, test_size=0.1, random_state=1926)\n",
    "smoothRounded_train, smoothRounded_valid = train_test_split(smoothRounded_train, test_size=0.1, random_state=1926)\n",
    "\n",
    "smoothInBetween_train, smoothInBetween_test = train_test_split(smoothInBetween, test_size=0.1, random_state=1926)\n",
    "smoothInBetween_train, smoothInBetween_valid = train_test_split(smoothInBetween_train, test_size=0.1,\n",
    "                                                                random_state=1926)\n",
    "\n",
    "smoothCigarShaped_train, smoothCigarShaped_test = train_test_split(smoothCigarShaped, test_size=0.1,\n",
    "                                                                   random_state=1926)\n",
    "smoothCigarShaped_train, smoothCigarShaped_valid = train_test_split(smoothCigarShaped_train, test_size=0.1,\n",
    "                                                                    random_state=1926)\n",
    "\n",
    "edgeOn_train, edgeOn_test = train_test_split(edgeOn, test_size=0.1, random_state=1926)\n",
    "edgeOn_train, edgeOn_valid = train_test_split(edgeOn_train, test_size=0.1, random_state=1926)\n",
    "\n",
    "diskNoBar_train, diskNoBar_test = train_test_split(diskNoBar, test_size=0.1, random_state=1926)\n",
    "diskNoBar_train, diskNoBar_valid = train_test_split(diskNoBar_train, test_size=0.1, random_state=1926)\n",
    "\n",
    "diskStrongBar_train, diskStrongBar_test = train_test_split(diskStrongBar, test_size=0.1, random_state=1926)\n",
    "diskStrongBar_train, diskStrongBar_valid = train_test_split(diskStrongBar_train, test_size=0.1, random_state=1926)"
   ],
   "metadata": {
    "collapsed": false,
    "pycharm": {
     "name": "#%%\n"
    }
   }
  },
  {
   "cell_type": "code",
   "execution_count": 23,
   "outputs": [],
   "source": [
    "merger_train = merger_train.loc[:,[\"ra\", \"dec\", \"redshift\", \"iauname\", \"petro_theta\", \"petro_th50\", \"petro_th90\", \"elpetro_absmag_r\", \"mag_r\", \"label\"]]\n",
    "merger_test = merger_test.loc[:,[\"ra\", \"dec\", \"redshift\", \"iauname\", \"petro_theta\", \"petro_th50\", \"petro_th90\", \"elpetro_absmag_r\", \"mag_r\", \"label\"]]\n",
    "merger_valid = merger_valid.loc[:,[\"ra\", \"dec\", \"redshift\", \"iauname\", \"petro_theta\", \"petro_th50\", \"petro_th90\", \"elpetro_absmag_r\", \"mag_r\", \"label\"]]\n",
    "merger_train.loc[:, \"func\"] = \"train\"\n",
    "merger_test.loc[:, \"func\"] = \"test\"\n",
    "merger_valid.loc[:, \"func\"] = \"valid\"\n",
    "\n",
    "smoothRounded_train = smoothRounded_train.loc[:,[\"ra\", \"dec\", \"redshift\", \"iauname\", \"petro_theta\", \"petro_th50\", \"petro_th90\", \"elpetro_absmag_r\", \"mag_r\", \"label\"]]\n",
    "smoothRounded_test = smoothRounded_test.loc[:,[\"ra\", \"dec\", \"redshift\", \"iauname\", \"petro_theta\", \"petro_th50\", \"petro_th90\", \"elpetro_absmag_r\", \"mag_r\", \"label\"]]\n",
    "smoothRounded_valid = smoothRounded_valid.loc[:,[\"ra\", \"dec\", \"redshift\", \"iauname\", \"petro_theta\", \"petro_th50\", \"petro_th90\", \"elpetro_absmag_r\", \"mag_r\", \"label\"]]\n",
    "smoothRounded_train.loc[:, \"func\"] = \"train\"\n",
    "smoothRounded_test.loc[:, \"func\"] = \"test\"\n",
    "smoothRounded_valid.loc[:, \"func\"] = \"valid\"\n",
    "\n",
    "smoothInBetween_train = smoothInBetween_train.loc[:,[\"ra\", \"dec\", \"redshift\", \"iauname\", \"petro_theta\", \"petro_th50\", \"petro_th90\", \"elpetro_absmag_r\", \"mag_r\", \"label\"]]\n",
    "smoothInBetween_test = smoothInBetween_test.loc[:,[\"ra\", \"dec\", \"redshift\", \"iauname\", \"petro_theta\", \"petro_th50\", \"petro_th90\", \"elpetro_absmag_r\", \"mag_r\", \"label\"]]\n",
    "smoothInBetween_valid = smoothInBetween_valid.loc[:,[\"ra\", \"dec\", \"redshift\", \"iauname\", \"petro_theta\", \"petro_th50\", \"petro_th90\", \"elpetro_absmag_r\", \"mag_r\", \"label\"]]\n",
    "smoothInBetween_train.loc[:, \"func\"] = \"train\"\n",
    "smoothInBetween_test.loc[:, \"func\"] = \"test\"\n",
    "smoothInBetween_valid.loc[:, \"func\"] = \"valid\"\n",
    "\n",
    "smoothCigarShaped_train = smoothCigarShaped_train.loc[:,[\"ra\", \"dec\", \"redshift\", \"iauname\", \"petro_theta\", \"petro_th50\", \"petro_th90\", \"elpetro_absmag_r\", \"mag_r\", \"label\"]]\n",
    "smoothCigarShaped_test = smoothCigarShaped_test.loc[:,[\"ra\", \"dec\", \"redshift\", \"iauname\", \"petro_theta\", \"petro_th50\", \"petro_th90\", \"elpetro_absmag_r\", \"mag_r\", \"label\"]]\n",
    "smoothCigarShaped_valid = smoothCigarShaped_valid.loc[:,[\"ra\", \"dec\", \"redshift\", \"iauname\", \"petro_theta\", \"petro_th50\", \"petro_th90\", \"elpetro_absmag_r\", \"mag_r\", \"label\"]]\n",
    "smoothCigarShaped_train.loc[:, \"func\"] = \"train\"\n",
    "smoothCigarShaped_test.loc[:, \"func\"] = \"test\"\n",
    "smoothCigarShaped_valid.loc[:, \"func\"] = \"valid\"\n",
    "\n",
    "edgeOn_train = edgeOn_train.loc[:,[\"ra\", \"dec\", \"redshift\", \"iauname\", \"petro_theta\", \"petro_th50\", \"petro_th90\", \"elpetro_absmag_r\", \"mag_r\", \"label\"]]\n",
    "edgeOn_test = edgeOn_test.loc[:,[\"ra\", \"dec\", \"redshift\", \"iauname\", \"petro_theta\", \"petro_th50\", \"petro_th90\", \"elpetro_absmag_r\", \"mag_r\", \"label\"]]\n",
    "edgeOn_valid = edgeOn_valid.loc[:,[\"ra\", \"dec\", \"redshift\", \"iauname\", \"petro_theta\", \"petro_th50\", \"petro_th90\", \"elpetro_absmag_r\", \"mag_r\", \"label\"]]\n",
    "edgeOn_train.loc[:, \"func\"] = \"train\"\n",
    "edgeOn_test.loc[:, \"func\"] = \"test\"\n",
    "edgeOn_valid.loc[:, \"func\"] = \"valid\"\n",
    "\n",
    "diskNoBar_train = diskNoBar_train.loc[:,[\"ra\", \"dec\", \"redshift\", \"iauname\", \"petro_theta\", \"petro_th50\", \"petro_th90\", \"elpetro_absmag_r\", \"mag_r\", \"label\"]]\n",
    "diskNoBar_test = diskNoBar_test.loc[:,[\"ra\", \"dec\", \"redshift\", \"iauname\", \"petro_theta\", \"petro_th50\", \"petro_th90\", \"elpetro_absmag_r\", \"mag_r\", \"label\"]]\n",
    "diskNoBar_valid = diskNoBar_valid.loc[:,[\"ra\", \"dec\", \"redshift\", \"iauname\", \"petro_theta\", \"petro_th50\", \"petro_th90\", \"elpetro_absmag_r\", \"mag_r\", \"label\"]]\n",
    "diskNoBar_train.loc[:, \"func\"] = \"train\"\n",
    "diskNoBar_test.loc[:, \"func\"] = \"test\"\n",
    "diskNoBar_valid.loc[:, \"func\"] = \"valid\"\n",
    "\n",
    "diskStrongBar_train = diskStrongBar_train.loc[:,[\"ra\", \"dec\", \"redshift\", \"iauname\", \"petro_theta\", \"petro_th50\", \"petro_th90\", \"elpetro_absmag_r\", \"mag_r\", \"label\"]]\n",
    "diskStrongBar_test = diskStrongBar_test.loc[:,[\"ra\", \"dec\", \"redshift\", \"iauname\", \"petro_theta\", \"petro_th50\", \"petro_th90\", \"elpetro_absmag_r\", \"mag_r\", \"label\"]]\n",
    "diskStrongBar_valid = diskStrongBar_valid.loc[:,[\"ra\", \"dec\", \"redshift\", \"iauname\", \"petro_theta\", \"petro_th50\", \"petro_th90\", \"elpetro_absmag_r\", \"mag_r\", \"label\"]]\n",
    "diskStrongBar_train.loc[:, \"func\"] = \"train\"\n",
    "diskStrongBar_test.loc[:, \"func\"] = \"test\"\n",
    "diskStrongBar_valid.loc[:, \"func\"] = \"valid\""
   ],
   "metadata": {
    "collapsed": false,
    "pycharm": {
     "name": "#%%\n"
    }
   }
  },
  {
   "cell_type": "code",
   "execution_count": 27,
   "outputs": [],
   "source": [
    "df = pd.concat([merger_train, merger_test, merger_valid, smoothRounded_train, smoothRounded_test, smoothRounded_valid, smoothInBetween_train, smoothInBetween_test, smoothInBetween_valid, smoothCigarShaped_train, smoothCigarShaped_test, smoothCigarShaped_valid, edgeOn_train, edgeOn_test, edgeOn_valid, diskNoBar_train, diskNoBar_test, diskNoBar_valid, diskStrongBar_train, diskStrongBar_test, diskStrongBar_valid])"
   ],
   "metadata": {
    "collapsed": false,
    "pycharm": {
     "name": "#%%\n"
    }
   }
  },
  {
   "cell_type": "code",
   "execution_count": 28,
   "outputs": [],
   "source": [
    "df.to_csv(\"/data/renhaoye/decals_2022/dataset_decals.csv\")"
   ],
   "metadata": {
    "collapsed": false,
    "pycharm": {
     "name": "#%%\n"
    }
   }
  },
  {
   "cell_type": "code",
   "execution_count": 29,
   "outputs": [
    {
     "name": "stdout",
     "output_type": "stream",
     "text": [
      "<class 'pandas.core.frame.DataFrame'>\n",
      "RangeIndex: 220431 entries, 0 to 220430\n",
      "Data columns (total 2 columns):\n",
      " #   Column  Non-Null Count   Dtype  \n",
      "---  ------  --------------   -----  \n",
      " 0   ra      220431 non-null  float64\n",
      " 1   dec     220431 non-null  float64\n",
      "dtypes: float64(2)\n",
      "memory usage: 3.4 MB\n",
      "None\n"
     ]
    }
   ],
   "source": [
    "sdss_list = []\n",
    "for sdss_file in sdss_files:\n",
    "    sdss_list.append([sdss_file.split(\"_\")[0], sdss_file.split(\".fits\")[0].split(\"_\")[1]])\n",
    "sdss_df = pd.DataFrame(sdss_list, columns=[\"ra\", \"dec\"], dtype=np.float64)\n",
    "print(sdss_df.info())"
   ],
   "metadata": {
    "collapsed": false,
    "pycharm": {
     "name": "#%%\n"
    }
   }
  },
  {
   "cell_type": "code",
   "execution_count": 30,
   "outputs": [],
   "source": [
    "import astropy.units as u\n",
    "from astropy.coordinates import SkyCoord"
   ],
   "metadata": {
    "collapsed": false,
    "pycharm": {
     "name": "#%%\n"
    }
   }
  },
  {
   "cell_type": "code",
   "execution_count": 162,
   "outputs": [],
   "source": [
    "def match(sdss2match, decals2match):\n",
    "    sdss = SkyCoord(ra=sdss2match.ra*u.degree, dec=sdss2match.dec*u.degree)\n",
    "    decals = SkyCoord(ra=decals2match.ra*u.degree, dec=decals2match.dec*u.degree)\n",
    "    idx, d2d, d3d = sdss.match_to_catalog_sky(decals)\n",
    "    max_sep = 4 * 0.396127 * u.arcsec\n",
    "    distance_idx = d2d < max_sep\n",
    "    # sdss_matches = sdss[distance_idx]   # sdss表中的坐标，顺序和decals_matches相同，和sdss_df顺序不同\n",
    "    # matches = idx[distance_idx]  # decals表中的坐标，顺序和decals_df不同\n",
    "    # decals_matches = decals[matches]  # decals表中的坐标，顺序和decals_df不同\n",
    "    sdss_matches = sdss2match.iloc[distance_idx]\n",
    "    matches = idx[distance_idx]\n",
    "    decal_matches = decals2match.iloc[matches]\n",
    "    test = sdss_matches.loc[:].rename(columns={\"ra\":\"sdss_ra\", \"dec\":\"sdss_dec\"})\n",
    "    test.insert(0, 'ID', range(len(test)))\n",
    "    decal_matches.insert(0, 'ID', range(len(decal_matches)))\n",
    "    new_df = pd.merge(test, decal_matches, how=\"inner\", on=[\"ID\"])\n",
    "    return new_df.drop(\"ID\", axis=1)"
   ],
   "metadata": {
    "collapsed": false,
    "pycharm": {
     "name": "#%%\n"
    }
   }
  },
  {
   "cell_type": "code",
   "execution_count": 167,
   "outputs": [],
   "source": [
    "sdss_matches = match(sdss_df, decals_df)\n",
    "\n",
    "sdss_merger = match(sdss_df, merger)\n",
    "sdss_merger_train = match(sdss_df, merger_train)\n",
    "sdss_merger_valid = match(sdss_df, merger_valid)\n",
    "sdss_merger_test = match(sdss_df, merger_test)\n",
    "\n",
    "sdss_smoothRounded = match(sdss_df, smoothRounded)\n",
    "sdss_smoothRounded_train = match(sdss_df, smoothRounded_train)\n",
    "sdss_smoothRounded_valid = match(sdss_df, smoothRounded_valid)\n",
    "sdss_smoothRounded_test = match(sdss_df, smoothRounded_test)\n",
    "\n",
    "sdss_smoothInBetween = match(sdss_df, smoothInBetween)\n",
    "sdss_smoothInBetween_train = match(sdss_df, smoothInBetween_train)\n",
    "sdss_smoothInBetween_valid = match(sdss_df, smoothInBetween_valid)\n",
    "sdss_smoothInBetween_test = match(sdss_df, smoothInBetween_test)\n",
    "\n",
    "sdss_smoothCigarShaped = match(sdss_df, smoothCigarShaped)\n",
    "sdss_smoothCigarShaped_train = match(sdss_df, smoothCigarShaped_train)\n",
    "sdss_smoothCigarShaped_valid = match(sdss_df, smoothCigarShaped_valid)\n",
    "sdss_smoothCigarShaped_test = match(sdss_df, smoothCigarShaped_test)\n",
    "\n",
    "sdss_edgeOn = match(sdss_df, edgeOn)\n",
    "sdss_edgeOn_train = match(sdss_df, edgeOn_train)\n",
    "sdss_edgeOn_valid = match(sdss_df, edgeOn_valid)\n",
    "sdss_edgeOn_test = match(sdss_df, edgeOn_test)\n",
    "\n",
    "sdss_diskNoBar = match(sdss_df, diskNoBar)\n",
    "sdss_diskNoBar_train = match(sdss_df, diskNoBar_train)\n",
    "sdss_diskNoBar_valid = match(sdss_df, diskNoBar_valid)\n",
    "sdss_diskNoBar_test = match(sdss_df, diskNoBar_test)\n",
    "\n",
    "sdss_diskStrongBar = match(sdss_df, diskStrongBar)\n",
    "sdss_diskStrongBar_train = match(sdss_df, diskStrongBar_train)\n",
    "sdss_diskStrongBar_valid = match(sdss_df, diskStrongBar_valid)\n",
    "sdss_diskStrongBar_test = match(sdss_df, diskStrongBar_test)"
   ],
   "metadata": {
    "collapsed": false,
    "pycharm": {
     "name": "#%%\n"
    }
   }
  },
  {
   "cell_type": "code",
   "execution_count": 193,
   "outputs": [],
   "source": [
    "def add0(x):\n",
    "    length = len(x.split(\".\")[1])\n",
    "    return x + (6 - length) * \"0\"\n",
    "\n",
    "def write_loc(sdss_catalog):\n",
    "    for row in range(len(sdss_catalog)):\n",
    "        ra, dec = str(sdss_catalog.loc[row].sdss_ra), str(sdss_catalog.loc[row].sdss_dec)\n",
    "        line11 = sdss_dir + ra + \"_\" + dec + \".fits\"\n",
    "        line00 = sdss_dir + add0(ra) + \"_\" + add0(dec) + \".fits\"\n",
    "        line10 = sdss_dir + ra + \"_\" + add0(dec) + \".fits\"\n",
    "        line01 = sdss_dir + add0(ra) + \"_\" + dec + \".fits\"\n",
    "        if os.path.exists(line11):\n",
    "            sdss_catalog.loc[row, \"sdss_loc\"] = line11\n",
    "            # print(\"11\")\n",
    "        elif os.path.exists(line00):\n",
    "            sdss_catalog.loc[row, \"sdss_loc\"] = line00\n",
    "        elif os.path.exists(line10):\n",
    "            sdss_catalog.loc[row, \"sdss_loc\"] = line10\n",
    "        elif os.path.exists(line01):\n",
    "            sdss_catalog.loc[row, \"sdss_loc\"] = line01\n",
    "        else:\n",
    "            print(line11)"
   ],
   "metadata": {
    "collapsed": false,
    "pycharm": {
     "name": "#%%\n"
    }
   }
  },
  {
   "cell_type": "code",
   "execution_count": 198,
   "outputs": [],
   "source": [
    "dataset = [sdss_merger_train, sdss_merger_test, sdss_merger_valid,\n",
    "                        sdss_smoothRounded_train, sdss_smoothRounded_test, sdss_smoothRounded_valid,\n",
    "                        sdss_smoothInBetween_train, sdss_smoothInBetween_test, sdss_smoothInBetween_valid,\n",
    "                        sdss_smoothCigarShaped_train, sdss_smoothCigarShaped_test, sdss_smoothCigarShaped_valid,\n",
    "                        sdss_edgeOn_train, sdss_edgeOn_test, sdss_edgeOn_valid,\n",
    "                        sdss_diskNoBar_train, sdss_diskNoBar_test, sdss_diskNoBar_valid,\n",
    "                        sdss_diskStrongBar_train, sdss_diskStrongBar_test, sdss_diskStrongBar_valid,\n",
    "                        ]\n",
    "for i in dataset:\n",
    "    write_loc(i)"
   ],
   "metadata": {
    "collapsed": false,
    "pycharm": {
     "name": "#%%\n"
    }
   }
  },
  {
   "cell_type": "code",
   "execution_count": 199,
   "outputs": [],
   "source": [
    "df_matches = pd.concat(dataset)"
   ],
   "metadata": {
    "collapsed": false,
    "pycharm": {
     "name": "#%%\n"
    }
   }
  },
  {
   "cell_type": "code",
   "execution_count": 201,
   "outputs": [],
   "source": [
    "df_matches.to_csv(\"/data/renhaoye/decals_2022/dataset_sdss_match_decals.csv\")"
   ],
   "metadata": {
    "collapsed": false,
    "pycharm": {
     "name": "#%%\n"
    }
   }
  },
  {
   "cell_type": "code",
   "execution_count": 10,
   "outputs": [
    {
     "name": "stdout",
     "output_type": "stream",
     "text": [
      "merger len:  2810 4178\n",
      "merger test_len:  275 418\n",
      "smoothRounded len:  20964 30541\n",
      "smoothRounded test_len:  2095 3055\n",
      "smoothInBetween len:  22591 32790\n",
      "smoothInBetween test_len:  2301 3279\n",
      "smoothCigarShaped len:  14638 21834\n",
      "smoothCigarShaped test_len:  1459 2184\n",
      "edgeOn len:  9284 14248\n",
      "edgeOn test_len:  923 1425\n",
      "diskNoBar len:  12338 18288\n",
      "diskNoBar test_len:  1236 1829\n",
      "diskStrongBar len:  1393 2075\n",
      "diskStrongBar test_len:  142 208\n"
     ]
    }
   ],
   "source": [
    "print(\"merger len: \", len(sdss_merger), len(merger))\n",
    "print(\"merger test_len: \", len(sdss_merger_test), len(merger_test))\n",
    "print(\"smoothRounded len: \", len(sdss_smoothRounded), len(smoothRounded))\n",
    "print(\"smoothRounded test_len: \", len(sdss_smoothRounded_test), len(smoothRounded_test))\n",
    "print(\"smoothInBetween len: \", len(sdss_smoothInBetween), len(smoothInBetween))\n",
    "print(\"smoothInBetween test_len: \", len(sdss_smoothInBetween_test), len(smoothInBetween_test))\n",
    "print(\"smoothCigarShaped len: \", len(sdss_smoothCigarShaped), len(smoothCigarShaped))\n",
    "print(\"smoothCigarShaped test_len: \", len(sdss_smoothCigarShaped_test), len(smoothCigarShaped_test))\n",
    "print(\"edgeOn len: \", len(sdss_edgeOn), len(edgeOn))\n",
    "print(\"edgeOn test_len: \", len(sdss_edgeOn_test), len(edgeOn_test))\n",
    "print(\"diskNoBar len: \", len(sdss_diskNoBar), len(diskNoBar))\n",
    "print(\"diskNoBar test_len: \", len(sdss_diskNoBar_test), len(diskNoBar_test))\n",
    "print(\"diskStrongBar len: \", len(sdss_diskStrongBar), len(diskStrongBar))\n",
    "print(\"diskStrongBar test_len: \", len(sdss_diskStrongBar_test), len(diskStrongBar_test))"
   ],
   "metadata": {
    "collapsed": false,
    "pycharm": {
     "name": "#%%\n"
    }
   }
  },
  {
   "cell_type": "code",
   "execution_count": 45,
   "outputs": [],
   "source": [
    "def add0(x):\n",
    "    length = len(x.split(\".\")[1])\n",
    "    return x + (6 - length) * \"0\"\n",
    "\n",
    "def write2txt_label(sdss_catalog, label, txt_path):\n",
    "    with open(txt_path, \"a\") as w:\n",
    "        for row in sdss_catalog:\n",
    "            ra, dec = str(row.ra.degree), str(row.dec.degree)\n",
    "            line11 = sdss_dir + ra + \"_\" + dec + \".fits\"\n",
    "            line00 = sdss_dir + add0(ra) + \"_\" + add0(dec) + \".fits\"\n",
    "            line10 = sdss_dir + ra + \"_\" + add0(dec) + \".fits\"\n",
    "            line01 = sdss_dir + add0(ra) + \"_\" + dec + \".fits\"\n",
    "            if os.path.exists(line11):\n",
    "                w.write(line11 + \" \" + str(label) + \"\\n\")\n",
    "            elif os.path.exists(line00):\n",
    "                w.write(line00 + \" \" + str(label) + \"\\n\")\n",
    "            elif os.path.exists(line10):\n",
    "                w.write(line10 + \" \" + str(label) + \"\\n\")\n",
    "            elif os.path.exists(line01):\n",
    "                w.write(line01 + \" \" + str(label) + \"\\n\")\n",
    "            else:\n",
    "                print(line11)"
   ],
   "metadata": {
    "collapsed": false,
    "pycharm": {
     "name": "#%%\n"
    }
   }
  },
  {
   "cell_type": "code",
   "execution_count": 46,
   "outputs": [
    {
     "name": "stderr",
     "output_type": "stream",
     "text": [
      "100%|██████████████████████████████████████████████████████████████████████████████████████| 7/7 [00:51<00:00,  7.39s/it]\n"
     ]
    }
   ],
   "source": [
    "from tqdm import tqdm\n",
    "save_path = \"/data/renhaoye/decals_2022/sdss_match_decals_label_all.txt\"\n",
    "w = open(save_path, \"w\")\n",
    "w.close()\n",
    "todo = [sdss_merger, sdss_smoothRounded, sdss_smoothInBetween, sdss_smoothCigarShaped, sdss_edgeOn, sdss_diskNoBar, sdss_diskStrongBar]\n",
    "for idx in tqdm(range(len(todo))):\n",
    "    write2txt_label(todo[idx], idx, save_path)"
   ],
   "metadata": {
    "collapsed": false,
    "pycharm": {
     "name": "#%%\n"
    }
   }
  },
  {
   "cell_type": "code",
   "execution_count": 47,
   "outputs": [
    {
     "name": "stderr",
     "output_type": "stream",
     "text": [
      "100%|██████████████████████████████████████████████████████████████████████████████████████| 7/7 [00:05<00:00,  1.35it/s]\n"
     ]
    }
   ],
   "source": [
    "save_path = \"/data/renhaoye/decals_2022/sdss_match_decals_label_test.txt\"\n",
    "w = open(save_path, \"w\")\n",
    "w.close()\n",
    "todo = [sdss_merger_test, sdss_smoothRounded_test, sdss_smoothInBetween_test, sdss_smoothCigarShaped_test, sdss_edgeOn_test, sdss_diskNoBar_test, sdss_diskStrongBar_test]\n",
    "for idx in tqdm(range(len(todo))):\n",
    "    write2txt_label(todo[idx], idx, save_path)"
   ],
   "metadata": {
    "collapsed": false,
    "pycharm": {
     "name": "#%%\n"
    }
   }
  },
  {
   "cell_type": "code",
   "execution_count": null,
   "outputs": [],
   "source": [],
   "metadata": {
    "collapsed": false,
    "pycharm": {
     "name": "#%%\n"
    }
   }
  }
 ],
 "metadata": {
  "kernelspec": {
   "display_name": "Python 3",
   "language": "python",
   "name": "python3"
  },
  "language_info": {
   "codemirror_mode": {
    "name": "ipython",
    "version": 2
   },
   "file_extension": ".py",
   "mimetype": "text/x-python",
   "name": "python",
   "nbconvert_exporter": "python",
   "pygments_lexer": "ipython2",
   "version": "2.7.6"
  }
 },
 "nbformat": 4,
 "nbformat_minor": 0
}