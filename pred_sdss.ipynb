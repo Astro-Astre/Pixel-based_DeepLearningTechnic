{
 "cells": [
  {
   "cell_type": "code",
   "execution_count": null,
   "metadata": {
    "collapsed": true,
    "pycharm": {
     "is_executing": true
    }
   },
   "outputs": [],
   "source": [
    "import torch\n",
    "import os\n",
    "import numpy as np\n",
    "import pandas as pd"
   ]
  },
  {
   "cell_type": "code",
   "execution_count": 2,
   "outputs": [],
   "source": [
    "MODEL_PATH = \"/data/renhaoye/decals_2022/trained_model/x_ception-LR_0.0001-LOSS_focal_loss-CLASS_7-BATCHSIZE_32-OPTIM_torch.optim.AdamW-OTHER_graduation_weightdecay0.01/model_5.pt\""
   ],
   "metadata": {
    "collapsed": false,
    "pycharm": {
     "name": "#%%\n"
    }
   }
  },
  {
   "cell_type": "code",
   "execution_count": 6,
   "outputs": [
    {
     "name": "stdout",
     "output_type": "stream",
     "text": [
      "<class 'pandas.core.frame.DataFrame'>\n",
      "RangeIndex: 313382 entries, 0 to 313381\n",
      "Data columns (total 92 columns):\n",
      " #   Column                                             Non-Null Count   Dtype  \n",
      "---  ------                                             --------------   -----  \n",
      " 0   Unnamed: 0                                         313382 non-null  int64  \n",
      " 1   ra                                                 313382 non-null  float64\n",
      " 2   dec                                                313382 non-null  float64\n",
      " 3   iauname                                            313382 non-null  object \n",
      " 4   petro_theta                                        313382 non-null  float64\n",
      " 5   petro_th50                                         313382 non-null  float64\n",
      " 6   petro_th90                                         313382 non-null  float64\n",
      " 7   elpetro_absmag_r                                   313378 non-null  float64\n",
      " 8   sersic_nmgy_r                                      313382 non-null  float64\n",
      " 9   redshift                                           313382 non-null  float64\n",
      " 10  mag_r                                              313333 non-null  float64\n",
      " 11  smooth_or_featured_smooth_concentration            313382 non-null  object \n",
      " 12  smooth_or_featured_featured_or_disk_concentration  313382 non-null  object \n",
      " 13  smooth_or_featured_artifact_concentration          313382 non-null  object \n",
      " 14  disk_edge_on_yes_concentration                     313382 non-null  object \n",
      " 15  disk_edge_on_no_concentration                      313382 non-null  object \n",
      " 16  has_spiral_arms_yes_concentration                  313382 non-null  object \n",
      " 17  has_spiral_arms_no_concentration                   313382 non-null  object \n",
      " 18  bar_strong_concentration                           313382 non-null  object \n",
      " 19  bar_weak_concentration                             313382 non-null  object \n",
      " 20  bar_no_concentration                               313382 non-null  object \n",
      " 21  bulge_size_dominant_concentration                  313382 non-null  object \n",
      " 22  bulge_size_large_concentration                     313382 non-null  object \n",
      " 23  bulge_size_moderate_concentration                  313382 non-null  object \n",
      " 24  bulge_size_small_concentration                     313382 non-null  object \n",
      " 25  bulge_size_none_concentration                      313382 non-null  object \n",
      " 26  how_rounded_round_concentration                    313382 non-null  object \n",
      " 27  how_rounded_in_between_concentration               313382 non-null  object \n",
      " 28  how_rounded_cigar_shaped_concentration             313382 non-null  object \n",
      " 29  edge_on_bulge_boxy_concentration                   313382 non-null  object \n",
      " 30  edge_on_bulge_none_concentration                   313382 non-null  object \n",
      " 31  edge_on_bulge_rounded_concentration                313382 non-null  object \n",
      " 32  spiral_winding_tight_concentration                 313382 non-null  object \n",
      " 33  spiral_winding_medium_concentration                313382 non-null  object \n",
      " 34  spiral_winding_loose_concentration                 313382 non-null  object \n",
      " 35  spiral_arm_count_1_concentration                   313382 non-null  object \n",
      " 36  spiral_arm_count_2_concentration                   313382 non-null  object \n",
      " 37  spiral_arm_count_3_concentration                   313382 non-null  object \n",
      " 38  spiral_arm_count_4_concentration                   313382 non-null  object \n",
      " 39  spiral_arm_count_more_than_4_concentration         313382 non-null  object \n",
      " 40  spiral_arm_count_cant_tell_concentration           313382 non-null  object \n",
      " 41  merging_none_concentration                         313382 non-null  object \n",
      " 42  merging_minor_disturbance_concentration            313382 non-null  object \n",
      " 43  merging_major_disturbance_concentration            313382 non-null  object \n",
      " 44  merging_merger_concentration                       313382 non-null  object \n",
      " 45  smooth_or_featured_smooth_fraction                 313382 non-null  float64\n",
      " 46  smooth_or_featured_featured_or_disk_fraction       313382 non-null  float64\n",
      " 47  smooth_or_featured_artifact_fraction               313382 non-null  float64\n",
      " 48  disk_edge_on_yes_fraction                          313382 non-null  float64\n",
      " 49  disk_edge_on_no_fraction                           313382 non-null  float64\n",
      " 50  has_spiral_arms_yes_fraction                       313382 non-null  float64\n",
      " 51  has_spiral_arms_no_fraction                        313382 non-null  float64\n",
      " 52  bar_strong_fraction                                313382 non-null  float64\n",
      " 53  bar_weak_fraction                                  313382 non-null  float64\n",
      " 54  bar_no_fraction                                    313382 non-null  float64\n",
      " 55  bulge_size_dominant_fraction                       313382 non-null  float64\n",
      " 56  bulge_size_large_fraction                          313382 non-null  float64\n",
      " 57  bulge_size_moderate_fraction                       313382 non-null  float64\n",
      " 58  bulge_size_small_fraction                          313382 non-null  float64\n",
      " 59  bulge_size_none_fraction                           313382 non-null  float64\n",
      " 60  how_rounded_round_fraction                         313382 non-null  float64\n",
      " 61  how_rounded_in_between_fraction                    313382 non-null  float64\n",
      " 62  how_rounded_cigar_shaped_fraction                  313382 non-null  float64\n",
      " 63  edge_on_bulge_boxy_fraction                        313382 non-null  float64\n",
      " 64  edge_on_bulge_none_fraction                        313382 non-null  float64\n",
      " 65  edge_on_bulge_rounded_fraction                     313382 non-null  float64\n",
      " 66  spiral_winding_tight_fraction                      313382 non-null  float64\n",
      " 67  spiral_winding_medium_fraction                     313382 non-null  float64\n",
      " 68  spiral_winding_loose_fraction                      313382 non-null  float64\n",
      " 69  spiral_arm_count_1_fraction                        313382 non-null  float64\n",
      " 70  spiral_arm_count_2_fraction                        313382 non-null  float64\n",
      " 71  spiral_arm_count_3_fraction                        313382 non-null  float64\n",
      " 72  spiral_arm_count_4_fraction                        313382 non-null  float64\n",
      " 73  spiral_arm_count_more_than_4_fraction              313382 non-null  float64\n",
      " 74  spiral_arm_count_cant_tell_fraction                313382 non-null  float64\n",
      " 75  merging_none_fraction                              313382 non-null  float64\n",
      " 76  merging_minor_disturbance_fraction                 313382 non-null  float64\n",
      " 77  merging_major_disturbance_fraction                 313382 non-null  float64\n",
      " 78  merging_merger_fraction                            313382 non-null  float64\n",
      " 79  smooth_or_featured_proportion_volunteers_asked     313382 non-null  float64\n",
      " 80  disk_edge_on_proportion_volunteers_asked           313382 non-null  float64\n",
      " 81  has_spiral_arms_proportion_volunteers_asked        313382 non-null  float64\n",
      " 82  bar_proportion_volunteers_asked                    313382 non-null  float64\n",
      " 83  bulge_size_proportion_volunteers_asked             313382 non-null  float64\n",
      " 84  how_rounded_proportion_volunteers_asked            313382 non-null  float64\n",
      " 85  edge_on_bulge_proportion_volunteers_asked          313382 non-null  float64\n",
      " 86  spiral_winding_proportion_volunteers_asked         313382 non-null  float64\n",
      " 87  spiral_arm_count_proportion_volunteers_asked       313382 non-null  float64\n",
      " 88  merging_proportion_volunteers_asked                313382 non-null  float64\n",
      " 89  file_loc                                           313382 non-null  object \n",
      " 90  wrong_size_statistic                               313345 non-null  float64\n",
      " 91  wrong_size_warning                                 313382 non-null  bool   \n",
      "dtypes: bool(1), float64(54), int64(1), object(36)\n",
      "memory usage: 217.9+ MB\n",
      "220431 None\n"
     ]
    }
   ],
   "source": [
    "sdss_dir = \"/data/renhaoye/sdss_dr7_decals_overlap/scaled/\"\n",
    "decals_csv = \"/data/renhaoye/decals_2022/fits.csv\"\n",
    "sdss_files = os.listdir(sdss_dir)\n",
    "decals_df = pd.read_csv(decals_csv)\n",
    "print(len(sdss_files), decals_df.info())"
   ],
   "metadata": {
    "collapsed": false,
    "pycharm": {
     "name": "#%%\n"
    }
   }
  },
  {
   "cell_type": "code",
   "execution_count": 7,
   "outputs": [
    {
     "name": "stderr",
     "output_type": "stream",
     "text": [
      "/home/renhaoye/miniconda3/envs/decals/lib/python3.8/site-packages/pandas/core/indexing.py:1667: SettingWithCopyWarning: \n",
      "A value is trying to be set on a copy of a slice from a DataFrame.\n",
      "Try using .loc[row_indexer,col_indexer] = value instead\n",
      "\n",
      "See the caveats in the documentation: https://pandas.pydata.org/pandas-docs/stable/user_guide/indexing.html#returning-a-view-versus-a-copy\n",
      "  self.obj[key] = value\n"
     ]
    }
   ],
   "source": [
    "from sklearn.model_selection import train_test_split\n",
    "threshold = 0.5\n",
    "threshold2 = 0.6\n",
    "merger = decals_df.query('merging_minor_disturbance_fraction > %f '\n",
    "                               '| merging_major_disturbance_fraction > %f '\n",
    "                               '| merging_merger_fraction > %f '\n",
    "                               % (threshold2, threshold2, threshold2))\n",
    "smoothRounded = decals_df.query('smooth_or_featured_smooth_fraction >  %f '\n",
    "                              '& how_rounded_round_fraction > %f' % (0.7, 0.8))\n",
    "smoothInBetween = decals_df.query('smooth_or_featured_smooth_fraction >  %f '\n",
    "                                '& how_rounded_in_between_fraction > %f' % (0.7, 0.85))\n",
    "smoothCigarShaped = decals_df.query('smooth_or_featured_smooth_fraction > %f '\n",
    "                                  '& how_rounded_cigar_shaped_fraction > %f' % (threshold, threshold2))\n",
    "edgeOn = decals_df.query('smooth_or_featured_featured_or_disk_fraction > %f '\n",
    "                       '& disk_edge_on_yes_fraction > %f'\n",
    "                       % (threshold, 0.7))\n",
    "diskNoBar = decals_df.query('smooth_or_featured_featured_or_disk_fraction > %f '\n",
    "                          '& disk_edge_on_no_fraction > %f '\n",
    "                          '& bar_no_fraction > %f '\n",
    "                          % (threshold, threshold, 0.7))\n",
    "diskStrongBar = decals_df.query('smooth_or_featured_featured_or_disk_fraction > %f '\n",
    "                              '& disk_edge_on_no_fraction > %f '\n",
    "                              '&bar_strong_fraction > %f '\n",
    "                              % (threshold, threshold, threshold2))\n",
    "merger.loc[:,\"label\"] = 0\n",
    "smoothRounded.loc[:,\"label\"] = 1\n",
    "smoothInBetween.loc[:,\"label\"] = 2\n",
    "smoothCigarShaped.loc[:,\"label\"] = 3\n",
    "edgeOn.loc[:,\"label\"] = 4\n",
    "diskNoBar.loc[:,\"label\"] = 5\n",
    "diskStrongBar.loc[:,\"label\"] = 6\n",
    "merger_train, merger_test = train_test_split(merger, test_size=0.1, random_state=1926)\n",
    "merger_train, merger_valid = train_test_split(merger_train, test_size=0.1, random_state=1926)\n",
    "\n",
    "smoothRounded_train, smoothRounded_test = train_test_split(smoothRounded, test_size=0.1, random_state=1926)\n",
    "smoothRounded_train, smoothRounded_valid = train_test_split(smoothRounded_train, test_size=0.1, random_state=1926)\n",
    "\n",
    "smoothInBetween_train, smoothInBetween_test = train_test_split(smoothInBetween, test_size=0.1, random_state=1926)\n",
    "smoothInBetween_train, smoothInBetween_valid = train_test_split(smoothInBetween_train, test_size=0.1,\n",
    "                                                                random_state=1926)\n",
    "\n",
    "smoothCigarShaped_train, smoothCigarShaped_test = train_test_split(smoothCigarShaped, test_size=0.1,\n",
    "                                                                   random_state=1926)\n",
    "smoothCigarShaped_train, smoothCigarShaped_valid = train_test_split(smoothCigarShaped_train, test_size=0.1,\n",
    "                                                                    random_state=1926)\n",
    "\n",
    "edgeOn_train, edgeOn_test = train_test_split(edgeOn, test_size=0.1, random_state=1926)\n",
    "edgeOn_train, edgeOn_valid = train_test_split(edgeOn_train, test_size=0.1, random_state=1926)\n",
    "\n",
    "diskNoBar_train, diskNoBar_test = train_test_split(diskNoBar, test_size=0.1, random_state=1926)\n",
    "diskNoBar_train, diskNoBar_valid = train_test_split(diskNoBar_train, test_size=0.1, random_state=1926)\n",
    "\n",
    "diskStrongBar_train, diskStrongBar_test = train_test_split(diskStrongBar, test_size=0.1, random_state=1926)\n",
    "diskStrongBar_train, diskStrongBar_valid = train_test_split(diskStrongBar_train, test_size=0.1, random_state=1926)"
   ],
   "metadata": {
    "collapsed": false,
    "pycharm": {
     "name": "#%%\n"
    }
   }
  },
  {
   "cell_type": "code",
   "execution_count": 8,
   "outputs": [],
   "source": [
    "merger_train = merger_train.loc[:,[\"ra\", \"dec\", \"redshift\", \"iauname\", \"petro_theta\", \"petro_th50\", \"petro_th90\", \"elpetro_absmag_r\", \"mag_r\", \"label\"]]\n",
    "merger_test = merger_test.loc[:,[\"ra\", \"dec\", \"redshift\", \"iauname\", \"petro_theta\", \"petro_th50\", \"petro_th90\", \"elpetro_absmag_r\", \"mag_r\", \"label\"]]\n",
    "merger_valid = merger_valid.loc[:,[\"ra\", \"dec\", \"redshift\", \"iauname\", \"petro_theta\", \"petro_th50\", \"petro_th90\", \"elpetro_absmag_r\", \"mag_r\", \"label\"]]\n",
    "merger_train.loc[:, \"func\"] = \"train\"\n",
    "merger_test.loc[:, \"func\"] = \"test\"\n",
    "merger_valid.loc[:, \"func\"] = \"valid\"\n",
    "\n",
    "smoothRounded_train = smoothRounded_train.loc[:,[\"ra\", \"dec\", \"redshift\", \"iauname\", \"petro_theta\", \"petro_th50\", \"petro_th90\", \"elpetro_absmag_r\", \"mag_r\", \"label\"]]\n",
    "smoothRounded_test = smoothRounded_test.loc[:,[\"ra\", \"dec\", \"redshift\", \"iauname\", \"petro_theta\", \"petro_th50\", \"petro_th90\", \"elpetro_absmag_r\", \"mag_r\", \"label\"]]\n",
    "smoothRounded_valid = smoothRounded_valid.loc[:,[\"ra\", \"dec\", \"redshift\", \"iauname\", \"petro_theta\", \"petro_th50\", \"petro_th90\", \"elpetro_absmag_r\", \"mag_r\", \"label\"]]\n",
    "smoothRounded_train.loc[:, \"func\"] = \"train\"\n",
    "smoothRounded_test.loc[:, \"func\"] = \"test\"\n",
    "smoothRounded_valid.loc[:, \"func\"] = \"valid\"\n",
    "\n",
    "smoothInBetween_train = smoothInBetween_train.loc[:,[\"ra\", \"dec\", \"redshift\", \"iauname\", \"petro_theta\", \"petro_th50\", \"petro_th90\", \"elpetro_absmag_r\", \"mag_r\", \"label\"]]\n",
    "smoothInBetween_test = smoothInBetween_test.loc[:,[\"ra\", \"dec\", \"redshift\", \"iauname\", \"petro_theta\", \"petro_th50\", \"petro_th90\", \"elpetro_absmag_r\", \"mag_r\", \"label\"]]\n",
    "smoothInBetween_valid = smoothInBetween_valid.loc[:,[\"ra\", \"dec\", \"redshift\", \"iauname\", \"petro_theta\", \"petro_th50\", \"petro_th90\", \"elpetro_absmag_r\", \"mag_r\", \"label\"]]\n",
    "smoothInBetween_train.loc[:, \"func\"] = \"train\"\n",
    "smoothInBetween_test.loc[:, \"func\"] = \"test\"\n",
    "smoothInBetween_valid.loc[:, \"func\"] = \"valid\"\n",
    "\n",
    "smoothCigarShaped_train = smoothCigarShaped_train.loc[:,[\"ra\", \"dec\", \"redshift\", \"iauname\", \"petro_theta\", \"petro_th50\", \"petro_th90\", \"elpetro_absmag_r\", \"mag_r\", \"label\"]]\n",
    "smoothCigarShaped_test = smoothCigarShaped_test.loc[:,[\"ra\", \"dec\", \"redshift\", \"iauname\", \"petro_theta\", \"petro_th50\", \"petro_th90\", \"elpetro_absmag_r\", \"mag_r\", \"label\"]]\n",
    "smoothCigarShaped_valid = smoothCigarShaped_valid.loc[:,[\"ra\", \"dec\", \"redshift\", \"iauname\", \"petro_theta\", \"petro_th50\", \"petro_th90\", \"elpetro_absmag_r\", \"mag_r\", \"label\"]]\n",
    "smoothCigarShaped_train.loc[:, \"func\"] = \"train\"\n",
    "smoothCigarShaped_test.loc[:, \"func\"] = \"test\"\n",
    "smoothCigarShaped_valid.loc[:, \"func\"] = \"valid\"\n",
    "\n",
    "edgeOn_train = edgeOn_train.loc[:,[\"ra\", \"dec\", \"redshift\", \"iauname\", \"petro_theta\", \"petro_th50\", \"petro_th90\", \"elpetro_absmag_r\", \"mag_r\", \"label\"]]\n",
    "edgeOn_test = edgeOn_test.loc[:,[\"ra\", \"dec\", \"redshift\", \"iauname\", \"petro_theta\", \"petro_th50\", \"petro_th90\", \"elpetro_absmag_r\", \"mag_r\", \"label\"]]\n",
    "edgeOn_valid = edgeOn_valid.loc[:,[\"ra\", \"dec\", \"redshift\", \"iauname\", \"petro_theta\", \"petro_th50\", \"petro_th90\", \"elpetro_absmag_r\", \"mag_r\", \"label\"]]\n",
    "edgeOn_train.loc[:, \"func\"] = \"train\"\n",
    "edgeOn_test.loc[:, \"func\"] = \"test\"\n",
    "edgeOn_valid.loc[:, \"func\"] = \"valid\"\n",
    "\n",
    "diskNoBar_train = diskNoBar_train.loc[:,[\"ra\", \"dec\", \"redshift\", \"iauname\", \"petro_theta\", \"petro_th50\", \"petro_th90\", \"elpetro_absmag_r\", \"mag_r\", \"label\"]]\n",
    "diskNoBar_test = diskNoBar_test.loc[:,[\"ra\", \"dec\", \"redshift\", \"iauname\", \"petro_theta\", \"petro_th50\", \"petro_th90\", \"elpetro_absmag_r\", \"mag_r\", \"label\"]]\n",
    "diskNoBar_valid = diskNoBar_valid.loc[:,[\"ra\", \"dec\", \"redshift\", \"iauname\", \"petro_theta\", \"petro_th50\", \"petro_th90\", \"elpetro_absmag_r\", \"mag_r\", \"label\"]]\n",
    "diskNoBar_train.loc[:, \"func\"] = \"train\"\n",
    "diskNoBar_test.loc[:, \"func\"] = \"test\"\n",
    "diskNoBar_valid.loc[:, \"func\"] = \"valid\"\n",
    "\n",
    "diskStrongBar_train = diskStrongBar_train.loc[:,[\"ra\", \"dec\", \"redshift\", \"iauname\", \"petro_theta\", \"petro_th50\", \"petro_th90\", \"elpetro_absmag_r\", \"mag_r\", \"label\"]]\n",
    "diskStrongBar_test = diskStrongBar_test.loc[:,[\"ra\", \"dec\", \"redshift\", \"iauname\", \"petro_theta\", \"petro_th50\", \"petro_th90\", \"elpetro_absmag_r\", \"mag_r\", \"label\"]]\n",
    "diskStrongBar_valid = diskStrongBar_valid.loc[:,[\"ra\", \"dec\", \"redshift\", \"iauname\", \"petro_theta\", \"petro_th50\", \"petro_th90\", \"elpetro_absmag_r\", \"mag_r\", \"label\"]]\n",
    "diskStrongBar_train.loc[:, \"func\"] = \"train\"\n",
    "diskStrongBar_test.loc[:, \"func\"] = \"test\"\n",
    "diskStrongBar_valid.loc[:, \"func\"] = \"valid\""
   ],
   "metadata": {
    "collapsed": false,
    "pycharm": {
     "name": "#%%\n"
    }
   }
  },
  {
   "cell_type": "code",
   "execution_count": 9,
   "outputs": [],
   "source": [
    "df = pd.concat([merger_train, merger_test, merger_valid, smoothRounded_train, smoothRounded_test, smoothRounded_valid, smoothInBetween_train, smoothInBetween_test, smoothInBetween_valid, smoothCigarShaped_train, smoothCigarShaped_test, smoothCigarShaped_valid, edgeOn_train, edgeOn_test, edgeOn_valid, diskNoBar_train, diskNoBar_test, diskNoBar_valid, diskStrongBar_train, diskStrongBar_test, diskStrongBar_valid])"
   ],
   "metadata": {
    "collapsed": false,
    "pycharm": {
     "name": "#%%\n"
    }
   }
  },
  {
   "cell_type": "code",
   "execution_count": 24,
   "outputs": [],
   "source": [
    "df.loc[:, 'fname'] = \"nan\"\n",
    "for i in range(len(df)):\n",
    "    line = str(df.iloc[i].ra) + \"_\" + str(df.iloc[i].dec) + \".fits\"\n",
    "    df.loc[i, 'fname'] = line"
   ],
   "metadata": {
    "collapsed": false,
    "pycharm": {
     "name": "#%%\n"
    }
   }
  },
  {
   "cell_type": "code",
   "execution_count": 25,
   "outputs": [
    {
     "data": {
      "text/plain": "                ra        dec  redshift              iauname petro_theta  \\\n280684  228.253553  17.001007  0.128372  J151300.84+170003.6     6.97497   \n308571   18.403378   1.242624  0.120664  J011336.81+011433.4    5.357219   \n268979  356.932802  -2.610917  0.030901  J234744.50-023646.9   15.164274   \n296601  215.997519  -0.890637  0.133594  J142359.39-005326.2   10.527441   \n174192  155.049169  14.096121  0.146089  J102011.79+140546.1    9.513814   \n...            ...        ...       ...                  ...         ...   \n123947         NaN        NaN       NaN                  NaN         NaN   \n123948         NaN        NaN       NaN                  NaN         NaN   \n123949         NaN        NaN       NaN                  NaN         NaN   \n123953         NaN        NaN       NaN                  NaN         NaN   \n123954         NaN        NaN       NaN                  NaN         NaN   \n\n       petro_th50 petro_th90 elpetro_absmag_r      mag_r label   func  \\\n280684   3.530749   8.043182        -21.39746  16.741436     0  train   \n308571   2.873933   7.314268       -21.831284  16.062775     0  train   \n268979   5.864809  18.633486       -19.064878  15.318168     0  train   \n296601    4.22471  14.072979       -22.040115  16.286236     0  train   \n174192    5.17791  12.710546        -22.37852  15.564474     0  train   \n...           ...        ...              ...        ...   ...    ...   \n123947        NaN        NaN              NaN        NaN   NaN    NaN   \n123948        NaN        NaN              NaN        NaN   NaN    NaN   \n123949        NaN        NaN              NaN        NaN   NaN    NaN   \n123953        NaN        NaN              NaN        NaN   NaN    NaN   \n123954        NaN        NaN              NaN        NaN   NaN    NaN   \n\n                            fname  \n280684                        nan  \n308571                        nan  \n268979                        nan  \n296601                        nan  \n174192                        nan  \n...                           ...  \n123947    205.08812_2.786511.fits  \n123948  359.016286_-0.988534.fits  \n123949   24.653104_-4.682799.fits  \n123953    156.5398_18.409219.fits  \n123954               nan_nan.fits  \n\n[199184 rows x 12 columns]",
      "text/html": "<div>\n<style scoped>\n    .dataframe tbody tr th:only-of-type {\n        vertical-align: middle;\n    }\n\n    .dataframe tbody tr th {\n        vertical-align: top;\n    }\n\n    .dataframe thead th {\n        text-align: right;\n    }\n</style>\n<table border=\"1\" class=\"dataframe\">\n  <thead>\n    <tr style=\"text-align: right;\">\n      <th></th>\n      <th>ra</th>\n      <th>dec</th>\n      <th>redshift</th>\n      <th>iauname</th>\n      <th>petro_theta</th>\n      <th>petro_th50</th>\n      <th>petro_th90</th>\n      <th>elpetro_absmag_r</th>\n      <th>mag_r</th>\n      <th>label</th>\n      <th>func</th>\n      <th>fname</th>\n    </tr>\n  </thead>\n  <tbody>\n    <tr>\n      <th>280684</th>\n      <td>228.253553</td>\n      <td>17.001007</td>\n      <td>0.128372</td>\n      <td>J151300.84+170003.6</td>\n      <td>6.97497</td>\n      <td>3.530749</td>\n      <td>8.043182</td>\n      <td>-21.39746</td>\n      <td>16.741436</td>\n      <td>0</td>\n      <td>train</td>\n      <td>nan</td>\n    </tr>\n    <tr>\n      <th>308571</th>\n      <td>18.403378</td>\n      <td>1.242624</td>\n      <td>0.120664</td>\n      <td>J011336.81+011433.4</td>\n      <td>5.357219</td>\n      <td>2.873933</td>\n      <td>7.314268</td>\n      <td>-21.831284</td>\n      <td>16.062775</td>\n      <td>0</td>\n      <td>train</td>\n      <td>nan</td>\n    </tr>\n    <tr>\n      <th>268979</th>\n      <td>356.932802</td>\n      <td>-2.610917</td>\n      <td>0.030901</td>\n      <td>J234744.50-023646.9</td>\n      <td>15.164274</td>\n      <td>5.864809</td>\n      <td>18.633486</td>\n      <td>-19.064878</td>\n      <td>15.318168</td>\n      <td>0</td>\n      <td>train</td>\n      <td>nan</td>\n    </tr>\n    <tr>\n      <th>296601</th>\n      <td>215.997519</td>\n      <td>-0.890637</td>\n      <td>0.133594</td>\n      <td>J142359.39-005326.2</td>\n      <td>10.527441</td>\n      <td>4.22471</td>\n      <td>14.072979</td>\n      <td>-22.040115</td>\n      <td>16.286236</td>\n      <td>0</td>\n      <td>train</td>\n      <td>nan</td>\n    </tr>\n    <tr>\n      <th>174192</th>\n      <td>155.049169</td>\n      <td>14.096121</td>\n      <td>0.146089</td>\n      <td>J102011.79+140546.1</td>\n      <td>9.513814</td>\n      <td>5.17791</td>\n      <td>12.710546</td>\n      <td>-22.37852</td>\n      <td>15.564474</td>\n      <td>0</td>\n      <td>train</td>\n      <td>nan</td>\n    </tr>\n    <tr>\n      <th>...</th>\n      <td>...</td>\n      <td>...</td>\n      <td>...</td>\n      <td>...</td>\n      <td>...</td>\n      <td>...</td>\n      <td>...</td>\n      <td>...</td>\n      <td>...</td>\n      <td>...</td>\n      <td>...</td>\n      <td>...</td>\n    </tr>\n    <tr>\n      <th>123947</th>\n      <td>NaN</td>\n      <td>NaN</td>\n      <td>NaN</td>\n      <td>NaN</td>\n      <td>NaN</td>\n      <td>NaN</td>\n      <td>NaN</td>\n      <td>NaN</td>\n      <td>NaN</td>\n      <td>NaN</td>\n      <td>NaN</td>\n      <td>205.08812_2.786511.fits</td>\n    </tr>\n    <tr>\n      <th>123948</th>\n      <td>NaN</td>\n      <td>NaN</td>\n      <td>NaN</td>\n      <td>NaN</td>\n      <td>NaN</td>\n      <td>NaN</td>\n      <td>NaN</td>\n      <td>NaN</td>\n      <td>NaN</td>\n      <td>NaN</td>\n      <td>NaN</td>\n      <td>359.016286_-0.988534.fits</td>\n    </tr>\n    <tr>\n      <th>123949</th>\n      <td>NaN</td>\n      <td>NaN</td>\n      <td>NaN</td>\n      <td>NaN</td>\n      <td>NaN</td>\n      <td>NaN</td>\n      <td>NaN</td>\n      <td>NaN</td>\n      <td>NaN</td>\n      <td>NaN</td>\n      <td>NaN</td>\n      <td>24.653104_-4.682799.fits</td>\n    </tr>\n    <tr>\n      <th>123953</th>\n      <td>NaN</td>\n      <td>NaN</td>\n      <td>NaN</td>\n      <td>NaN</td>\n      <td>NaN</td>\n      <td>NaN</td>\n      <td>NaN</td>\n      <td>NaN</td>\n      <td>NaN</td>\n      <td>NaN</td>\n      <td>NaN</td>\n      <td>156.5398_18.409219.fits</td>\n    </tr>\n    <tr>\n      <th>123954</th>\n      <td>NaN</td>\n      <td>NaN</td>\n      <td>NaN</td>\n      <td>NaN</td>\n      <td>NaN</td>\n      <td>NaN</td>\n      <td>NaN</td>\n      <td>NaN</td>\n      <td>NaN</td>\n      <td>NaN</td>\n      <td>NaN</td>\n      <td>nan_nan.fits</td>\n    </tr>\n  </tbody>\n</table>\n<p>199184 rows × 12 columns</p>\n</div>"
     },
     "execution_count": 25,
     "metadata": {},
     "output_type": "execute_result"
    }
   ],
   "source": [
    "df"
   ],
   "metadata": {
    "collapsed": false,
    "pycharm": {
     "name": "#%%\n"
    }
   }
  },
  {
   "cell_type": "code",
   "execution_count": 28,
   "outputs": [],
   "source": [
    "df.to_csv(\"/data/renhaoye/decals_2022/dataset_decals.csv\")"
   ],
   "metadata": {
    "collapsed": false,
    "pycharm": {
     "name": "#%%\n"
    }
   }
  },
  {
   "cell_type": "code",
   "execution_count": 29,
   "outputs": [],
   "source": [
    "x = pd.read_csv(\"/data/renhaoye/decals_2022/dataset_decals.csv\", index_col=0)"
   ],
   "metadata": {
    "collapsed": false,
    "pycharm": {
     "name": "#%%\n"
    }
   }
  },
  {
   "cell_type": "code",
   "execution_count": 49,
   "outputs": [
    {
     "ename": "UFuncTypeError",
     "evalue": "ufunc 'add' did not contain a loop with signature matching types (dtype('<U32'), dtype('<U32')) -> dtype('<U32')",
     "output_type": "error",
     "traceback": [
      "\u001B[0;31m---------------------------------------------------------------------------\u001B[0m",
      "\u001B[0;31mUFuncTypeError\u001B[0m                            Traceback (most recent call last)",
      "Input \u001B[0;32mIn [49]\u001B[0m, in \u001B[0;36m<cell line: 1>\u001B[0;34m()\u001B[0m\n\u001B[0;32m----> 1\u001B[0m x\u001B[38;5;241m.\u001B[39mloc[:, \u001B[38;5;124m'\u001B[39m\u001B[38;5;124mfname\u001B[39m\u001B[38;5;124m'\u001B[39m] \u001B[38;5;241m=\u001B[39m \u001B[43mx\u001B[49m\u001B[38;5;241;43m.\u001B[39;49m\u001B[43mloc\u001B[49m\u001B[43m[\u001B[49m\u001B[43m:\u001B[49m\u001B[43m,\u001B[49m\u001B[43m \u001B[49m\u001B[38;5;124;43m'\u001B[39;49m\u001B[38;5;124;43mra\u001B[39;49m\u001B[38;5;124;43m'\u001B[39;49m\u001B[43m]\u001B[49m\u001B[43m \u001B[49m\u001B[38;5;241;43m+\u001B[39;49m\u001B[43m \u001B[49m\u001B[38;5;124;43m\"\u001B[39;49m\u001B[38;5;124;43m_\u001B[39;49m\u001B[38;5;124;43m\"\u001B[39;49m \u001B[38;5;241m+\u001B[39m x\u001B[38;5;241m.\u001B[39mloc[:, \u001B[38;5;124m'\u001B[39m\u001B[38;5;124mdec\u001B[39m\u001B[38;5;124m'\u001B[39m] \u001B[38;5;241m+\u001B[39m \u001B[38;5;124m\"\u001B[39m\u001B[38;5;124m.fits\u001B[39m\u001B[38;5;124m\"\u001B[39m\n",
      "File \u001B[0;32m~/miniconda3/envs/decals/lib/python3.8/site-packages/pandas/core/ops/common.py:69\u001B[0m, in \u001B[0;36m_unpack_zerodim_and_defer.<locals>.new_method\u001B[0;34m(self, other)\u001B[0m\n\u001B[1;32m     65\u001B[0m             \u001B[38;5;28;01mreturn\u001B[39;00m \u001B[38;5;28mNotImplemented\u001B[39m\n\u001B[1;32m     67\u001B[0m other \u001B[38;5;241m=\u001B[39m item_from_zerodim(other)\n\u001B[0;32m---> 69\u001B[0m \u001B[38;5;28;01mreturn\u001B[39;00m \u001B[43mmethod\u001B[49m\u001B[43m(\u001B[49m\u001B[38;5;28;43mself\u001B[39;49m\u001B[43m,\u001B[49m\u001B[43m \u001B[49m\u001B[43mother\u001B[49m\u001B[43m)\u001B[49m\n",
      "File \u001B[0;32m~/miniconda3/envs/decals/lib/python3.8/site-packages/pandas/core/arraylike.py:92\u001B[0m, in \u001B[0;36mOpsMixin.__add__\u001B[0;34m(self, other)\u001B[0m\n\u001B[1;32m     90\u001B[0m \u001B[38;5;129m@unpack_zerodim_and_defer\u001B[39m(\u001B[38;5;124m\"\u001B[39m\u001B[38;5;124m__add__\u001B[39m\u001B[38;5;124m\"\u001B[39m)\n\u001B[1;32m     91\u001B[0m \u001B[38;5;28;01mdef\u001B[39;00m \u001B[38;5;21m__add__\u001B[39m(\u001B[38;5;28mself\u001B[39m, other):\n\u001B[0;32m---> 92\u001B[0m     \u001B[38;5;28;01mreturn\u001B[39;00m \u001B[38;5;28;43mself\u001B[39;49m\u001B[38;5;241;43m.\u001B[39;49m\u001B[43m_arith_method\u001B[49m\u001B[43m(\u001B[49m\u001B[43mother\u001B[49m\u001B[43m,\u001B[49m\u001B[43m \u001B[49m\u001B[43moperator\u001B[49m\u001B[38;5;241;43m.\u001B[39;49m\u001B[43madd\u001B[49m\u001B[43m)\u001B[49m\n",
      "File \u001B[0;32m~/miniconda3/envs/decals/lib/python3.8/site-packages/pandas/core/series.py:5526\u001B[0m, in \u001B[0;36mSeries._arith_method\u001B[0;34m(self, other, op)\u001B[0m\n\u001B[1;32m   5523\u001B[0m rvalues \u001B[38;5;241m=\u001B[39m ensure_wrapped_if_datetimelike(rvalues)\n\u001B[1;32m   5525\u001B[0m \u001B[38;5;28;01mwith\u001B[39;00m np\u001B[38;5;241m.\u001B[39merrstate(\u001B[38;5;28mall\u001B[39m\u001B[38;5;241m=\u001B[39m\u001B[38;5;124m\"\u001B[39m\u001B[38;5;124mignore\u001B[39m\u001B[38;5;124m\"\u001B[39m):\n\u001B[0;32m-> 5526\u001B[0m     result \u001B[38;5;241m=\u001B[39m \u001B[43mops\u001B[49m\u001B[38;5;241;43m.\u001B[39;49m\u001B[43marithmetic_op\u001B[49m\u001B[43m(\u001B[49m\u001B[43mlvalues\u001B[49m\u001B[43m,\u001B[49m\u001B[43m \u001B[49m\u001B[43mrvalues\u001B[49m\u001B[43m,\u001B[49m\u001B[43m \u001B[49m\u001B[43mop\u001B[49m\u001B[43m)\u001B[49m\n\u001B[1;32m   5528\u001B[0m \u001B[38;5;28;01mreturn\u001B[39;00m \u001B[38;5;28mself\u001B[39m\u001B[38;5;241m.\u001B[39m_construct_result(result, name\u001B[38;5;241m=\u001B[39mres_name)\n",
      "File \u001B[0;32m~/miniconda3/envs/decals/lib/python3.8/site-packages/pandas/core/ops/array_ops.py:224\u001B[0m, in \u001B[0;36marithmetic_op\u001B[0;34m(left, right, op)\u001B[0m\n\u001B[1;32m    219\u001B[0m \u001B[38;5;28;01melse\u001B[39;00m:\n\u001B[1;32m    220\u001B[0m     \u001B[38;5;66;03m# TODO we should handle EAs consistently and move this check before the if/else\u001B[39;00m\n\u001B[1;32m    221\u001B[0m     \u001B[38;5;66;03m# (https://github.com/pandas-dev/pandas/issues/41165)\u001B[39;00m\n\u001B[1;32m    222\u001B[0m     _bool_arith_check(op, left, right)\n\u001B[0;32m--> 224\u001B[0m     res_values \u001B[38;5;241m=\u001B[39m \u001B[43m_na_arithmetic_op\u001B[49m\u001B[43m(\u001B[49m\u001B[43mleft\u001B[49m\u001B[43m,\u001B[49m\u001B[43m \u001B[49m\u001B[43mright\u001B[49m\u001B[43m,\u001B[49m\u001B[43m \u001B[49m\u001B[43mop\u001B[49m\u001B[43m)\u001B[49m\n\u001B[1;32m    226\u001B[0m \u001B[38;5;28;01mreturn\u001B[39;00m res_values\n",
      "File \u001B[0;32m~/miniconda3/envs/decals/lib/python3.8/site-packages/pandas/core/ops/array_ops.py:166\u001B[0m, in \u001B[0;36m_na_arithmetic_op\u001B[0;34m(left, right, op, is_cmp)\u001B[0m\n\u001B[1;32m    163\u001B[0m     func \u001B[38;5;241m=\u001B[39m partial(expressions\u001B[38;5;241m.\u001B[39mevaluate, op)\n\u001B[1;32m    165\u001B[0m \u001B[38;5;28;01mtry\u001B[39;00m:\n\u001B[0;32m--> 166\u001B[0m     result \u001B[38;5;241m=\u001B[39m \u001B[43mfunc\u001B[49m\u001B[43m(\u001B[49m\u001B[43mleft\u001B[49m\u001B[43m,\u001B[49m\u001B[43m \u001B[49m\u001B[43mright\u001B[49m\u001B[43m)\u001B[49m\n\u001B[1;32m    167\u001B[0m \u001B[38;5;28;01mexcept\u001B[39;00m \u001B[38;5;167;01mTypeError\u001B[39;00m:\n\u001B[1;32m    168\u001B[0m     \u001B[38;5;28;01mif\u001B[39;00m is_object_dtype(left) \u001B[38;5;129;01mor\u001B[39;00m is_object_dtype(right) \u001B[38;5;129;01mand\u001B[39;00m \u001B[38;5;129;01mnot\u001B[39;00m is_cmp:\n\u001B[1;32m    169\u001B[0m         \u001B[38;5;66;03m# For object dtype, fallback to a masked operation (only operating\u001B[39;00m\n\u001B[1;32m    170\u001B[0m         \u001B[38;5;66;03m#  on the non-missing values)\u001B[39;00m\n\u001B[1;32m    171\u001B[0m         \u001B[38;5;66;03m# Don't do this for comparisons, as that will handle complex numbers\u001B[39;00m\n\u001B[1;32m    172\u001B[0m         \u001B[38;5;66;03m#  incorrectly, see GH#32047\u001B[39;00m\n",
      "\u001B[0;31mUFuncTypeError\u001B[0m: ufunc 'add' did not contain a loop with signature matching types (dtype('<U32'), dtype('<U32')) -> dtype('<U32')"
     ]
    }
   ],
   "source": [
    "x.loc[:, 'fname'] = x.loc[:, 'ra'].astype(str) + \"_\" + x.loc[:, 'dec'] + \".fits\""
   ],
   "metadata": {
    "collapsed": false,
    "pycharm": {
     "name": "#%%\n"
    }
   }
  },
  {
   "cell_type": "code",
   "execution_count": 48,
   "outputs": [
    {
     "data": {
      "text/plain": "'280684    228.253553\\n308571     18.403378\\n268979    356.932802\\n296601    215.997519\\n174192    155.049169\\n             ...    \\n219841     24.653104\\n110592    243.579343\\n152632     17.974347\\n25118      32.648135\\n299065    156.539800\\nName: ra, Length: 123954, dtype: float64_280684    17.001007\\n308571     1.242624\\n268979    -2.610917\\n296601    -0.890637\\n174192    14.096121\\n            ...    \\n219841    -4.682799\\n110592    30.214586\\n152632    -4.618883\\n25118     -0.937623\\n299065    18.409219\\nName: dec, Length: 123954, dtype: float64.fits'"
     },
     "execution_count": 48,
     "metadata": {},
     "output_type": "execute_result"
    }
   ],
   "source": [
    "x.iloc[1].fname"
   ],
   "metadata": {
    "collapsed": false,
    "pycharm": {
     "name": "#%%\n"
    }
   }
  },
  {
   "cell_type": "code",
   "execution_count": 40,
   "outputs": [
    {
     "ename": "AttributeError",
     "evalue": "'str' object has no attribute 'ra'",
     "output_type": "error",
     "traceback": [
      "\u001B[0;31m---------------------------------------------------------------------------\u001B[0m",
      "\u001B[0;31mAttributeError\u001B[0m                            Traceback (most recent call last)",
      "Input \u001B[0;32mIn [40]\u001B[0m, in \u001B[0;36m<cell line: 1>\u001B[0;34m()\u001B[0m\n\u001B[0;32m----> 1\u001B[0m x\u001B[38;5;241m.\u001B[39mfname \u001B[38;5;241m=\u001B[39m \u001B[43mx\u001B[49m\u001B[38;5;241;43m.\u001B[39;49m\u001B[43mfname\u001B[49m\u001B[38;5;241;43m.\u001B[39;49m\u001B[43mmap\u001B[49m\u001B[43m(\u001B[49m\u001B[38;5;28;43;01mlambda\u001B[39;49;00m\u001B[43m \u001B[49m\u001B[43mx\u001B[49m\u001B[43m:\u001B[49m\u001B[43m \u001B[49m\u001B[38;5;28;43mstr\u001B[39;49m\u001B[43m(\u001B[49m\u001B[43mx\u001B[49m\u001B[38;5;241;43m.\u001B[39;49m\u001B[43mra\u001B[49m\u001B[43m)\u001B[49m\u001B[43m \u001B[49m\u001B[38;5;241;43m+\u001B[39;49m\u001B[43m \u001B[49m\u001B[38;5;124;43m\"\u001B[39;49m\u001B[38;5;124;43m_\u001B[39;49m\u001B[38;5;124;43m\"\u001B[39;49m\u001B[43m \u001B[49m\u001B[38;5;241;43m+\u001B[39;49m\u001B[43m \u001B[49m\u001B[38;5;28;43mstr\u001B[39;49m\u001B[43m(\u001B[49m\u001B[43mx\u001B[49m\u001B[38;5;241;43m.\u001B[39;49m\u001B[43mdec\u001B[49m\u001B[43m)\u001B[49m\u001B[43m \u001B[49m\u001B[38;5;241;43m+\u001B[39;49m\u001B[43m \u001B[49m\u001B[38;5;124;43m\"\u001B[39;49m\u001B[38;5;124;43m.fits\u001B[39;49m\u001B[38;5;124;43m\"\u001B[39;49m\u001B[43m)\u001B[49m\n",
      "File \u001B[0;32m~/miniconda3/envs/decals/lib/python3.8/site-packages/pandas/core/series.py:4161\u001B[0m, in \u001B[0;36mSeries.map\u001B[0;34m(self, arg, na_action)\u001B[0m\n\u001B[1;32m   4086\u001B[0m \u001B[38;5;28;01mdef\u001B[39;00m \u001B[38;5;21mmap\u001B[39m(\u001B[38;5;28mself\u001B[39m, arg, na_action\u001B[38;5;241m=\u001B[39m\u001B[38;5;28;01mNone\u001B[39;00m) \u001B[38;5;241m-\u001B[39m\u001B[38;5;241m>\u001B[39m Series:\n\u001B[1;32m   4087\u001B[0m     \u001B[38;5;124;03m\"\"\"\u001B[39;00m\n\u001B[1;32m   4088\u001B[0m \u001B[38;5;124;03m    Map values of Series according to input correspondence.\u001B[39;00m\n\u001B[1;32m   4089\u001B[0m \n\u001B[0;32m   (...)\u001B[0m\n\u001B[1;32m   4159\u001B[0m \u001B[38;5;124;03m    dtype: object\u001B[39;00m\n\u001B[1;32m   4160\u001B[0m \u001B[38;5;124;03m    \"\"\"\u001B[39;00m\n\u001B[0;32m-> 4161\u001B[0m     new_values \u001B[38;5;241m=\u001B[39m \u001B[38;5;28;43msuper\u001B[39;49m\u001B[43m(\u001B[49m\u001B[43m)\u001B[49m\u001B[38;5;241;43m.\u001B[39;49m\u001B[43m_map_values\u001B[49m\u001B[43m(\u001B[49m\u001B[43marg\u001B[49m\u001B[43m,\u001B[49m\u001B[43m \u001B[49m\u001B[43mna_action\u001B[49m\u001B[38;5;241;43m=\u001B[39;49m\u001B[43mna_action\u001B[49m\u001B[43m)\u001B[49m\n\u001B[1;32m   4162\u001B[0m     \u001B[38;5;28;01mreturn\u001B[39;00m \u001B[38;5;28mself\u001B[39m\u001B[38;5;241m.\u001B[39m_constructor(new_values, index\u001B[38;5;241m=\u001B[39m\u001B[38;5;28mself\u001B[39m\u001B[38;5;241m.\u001B[39mindex)\u001B[38;5;241m.\u001B[39m__finalize__(\n\u001B[1;32m   4163\u001B[0m         \u001B[38;5;28mself\u001B[39m, method\u001B[38;5;241m=\u001B[39m\u001B[38;5;124m\"\u001B[39m\u001B[38;5;124mmap\u001B[39m\u001B[38;5;124m\"\u001B[39m\n\u001B[1;32m   4164\u001B[0m     )\n",
      "File \u001B[0;32m~/miniconda3/envs/decals/lib/python3.8/site-packages/pandas/core/base.py:870\u001B[0m, in \u001B[0;36mIndexOpsMixin._map_values\u001B[0;34m(self, mapper, na_action)\u001B[0m\n\u001B[1;32m    867\u001B[0m         \u001B[38;5;28;01mraise\u001B[39;00m \u001B[38;5;167;01mValueError\u001B[39;00m(msg)\n\u001B[1;32m    869\u001B[0m \u001B[38;5;66;03m# mapper is a function\u001B[39;00m\n\u001B[0;32m--> 870\u001B[0m new_values \u001B[38;5;241m=\u001B[39m \u001B[43mmap_f\u001B[49m\u001B[43m(\u001B[49m\u001B[43mvalues\u001B[49m\u001B[43m,\u001B[49m\u001B[43m \u001B[49m\u001B[43mmapper\u001B[49m\u001B[43m)\u001B[49m\n\u001B[1;32m    872\u001B[0m \u001B[38;5;28;01mreturn\u001B[39;00m new_values\n",
      "File \u001B[0;32m~/miniconda3/envs/decals/lib/python3.8/site-packages/pandas/_libs/lib.pyx:2859\u001B[0m, in \u001B[0;36mpandas._libs.lib.map_infer\u001B[0;34m()\u001B[0m\n",
      "Input \u001B[0;32mIn [40]\u001B[0m, in \u001B[0;36m<lambda>\u001B[0;34m(x)\u001B[0m\n\u001B[0;32m----> 1\u001B[0m x\u001B[38;5;241m.\u001B[39mfname \u001B[38;5;241m=\u001B[39m x\u001B[38;5;241m.\u001B[39mfname\u001B[38;5;241m.\u001B[39mmap(\u001B[38;5;28;01mlambda\u001B[39;00m x: \u001B[38;5;28mstr\u001B[39m(\u001B[43mx\u001B[49m\u001B[38;5;241;43m.\u001B[39;49m\u001B[43mra\u001B[49m) \u001B[38;5;241m+\u001B[39m \u001B[38;5;124m\"\u001B[39m\u001B[38;5;124m_\u001B[39m\u001B[38;5;124m\"\u001B[39m \u001B[38;5;241m+\u001B[39m \u001B[38;5;28mstr\u001B[39m(x\u001B[38;5;241m.\u001B[39mdec) \u001B[38;5;241m+\u001B[39m \u001B[38;5;124m\"\u001B[39m\u001B[38;5;124m.fits\u001B[39m\u001B[38;5;124m\"\u001B[39m)\n",
      "\u001B[0;31mAttributeError\u001B[0m: 'str' object has no attribute 'ra'"
     ]
    }
   ],
   "source": [
    "x.fname = x.fname.map(lambda x: str(x.ra) + \"_\" + str(x.dec) + \".fits\")"
   ],
   "metadata": {
    "collapsed": false,
    "pycharm": {
     "name": "#%%\n"
    }
   }
  },
  {
   "cell_type": "code",
   "execution_count": null,
   "outputs": [],
   "source": [
    "x"
   ],
   "metadata": {
    "collapsed": false,
    "pycharm": {
     "name": "#%%\n"
    }
   }
  },
  {
   "cell_type": "code",
   "execution_count": 38,
   "outputs": [
    {
     "name": "stdout",
     "output_type": "stream",
     "text": [
      "ra\n",
      "dec\n",
      "redshift\n",
      "iauname\n",
      "petro_theta\n",
      "petro_th50\n",
      "petro_th90\n",
      "elpetro_absmag_r\n",
      "mag_r\n",
      "label\n",
      "func\n",
      "fname\n"
     ]
    }
   ],
   "source": [
    "for i in x:\n",
    "    print(i)\n",
    "    # line = str(i.ra) + \"_\" + str(i.dec) + \".fits\"\n",
    "    # i.fname = line"
   ],
   "metadata": {
    "collapsed": false,
    "pycharm": {
     "name": "#%%\n"
    }
   }
  },
  {
   "cell_type": "code",
   "execution_count": 28,
   "outputs": [
    {
     "data": {
      "text/plain": "                ra        dec  redshift              iauname  petro_theta  \\\n280684  228.253553  17.001007  0.128372  J151300.84+170003.6     6.974970   \n308571   18.403378   1.242624  0.120664  J011336.81+011433.4     5.357219   \n268979  356.932802  -2.610917  0.030901  J234744.50-023646.9    15.164274   \n296601  215.997519  -0.890637  0.133594  J142359.39-005326.2    10.527441   \n174192  155.049169  14.096121  0.146089  J102011.79+140546.1     9.513814   \n...            ...        ...       ...                  ...          ...   \n199175         NaN        NaN       NaN                  NaN          NaN   \n199177         NaN        NaN       NaN                  NaN          NaN   \n199178         NaN        NaN       NaN                  NaN          NaN   \n199179         NaN        NaN       NaN                  NaN          NaN   \n199181         NaN        NaN       NaN                  NaN          NaN   \n\n        petro_th50  petro_th90  elpetro_absmag_r      mag_r  label   func  \\\n280684    3.530749    8.043182        -21.397460  16.741436    0.0  train   \n308571    2.873933    7.314268        -21.831284  16.062775    0.0  train   \n268979    5.864809   18.633486        -19.064878  15.318168    0.0  train   \n296601    4.224710   14.072979        -22.040115  16.286236    0.0  train   \n174192    5.177910   12.710546        -22.378520  15.564474    0.0  train   \n...            ...         ...               ...        ...    ...    ...   \n199175         NaN         NaN               NaN        NaN    NaN    NaN   \n199177         NaN         NaN               NaN        NaN    NaN    NaN   \n199178         NaN         NaN               NaN        NaN    NaN    NaN   \n199179         NaN         NaN               NaN        NaN    NaN    NaN   \n199181         NaN         NaN               NaN        NaN    NaN    NaN   \n\n               fname  \n280684           nan  \n308571           nan  \n268979           nan  \n296601           nan  \n174192  nan_nan.fits  \n...              ...  \n199175  nan_nan.fits  \n199177  nan_nan.fits  \n199178  nan_nan.fits  \n199179  nan_nan.fits  \n199181  nan_nan.fits  \n\n[244806 rows x 12 columns]",
      "text/html": "<div>\n<style scoped>\n    .dataframe tbody tr th:only-of-type {\n        vertical-align: middle;\n    }\n\n    .dataframe tbody tr th {\n        vertical-align: top;\n    }\n\n    .dataframe thead th {\n        text-align: right;\n    }\n</style>\n<table border=\"1\" class=\"dataframe\">\n  <thead>\n    <tr style=\"text-align: right;\">\n      <th></th>\n      <th>ra</th>\n      <th>dec</th>\n      <th>redshift</th>\n      <th>iauname</th>\n      <th>petro_theta</th>\n      <th>petro_th50</th>\n      <th>petro_th90</th>\n      <th>elpetro_absmag_r</th>\n      <th>mag_r</th>\n      <th>label</th>\n      <th>func</th>\n      <th>fname</th>\n    </tr>\n  </thead>\n  <tbody>\n    <tr>\n      <th>280684</th>\n      <td>228.253553</td>\n      <td>17.001007</td>\n      <td>0.128372</td>\n      <td>J151300.84+170003.6</td>\n      <td>6.974970</td>\n      <td>3.530749</td>\n      <td>8.043182</td>\n      <td>-21.397460</td>\n      <td>16.741436</td>\n      <td>0.0</td>\n      <td>train</td>\n      <td>nan</td>\n    </tr>\n    <tr>\n      <th>308571</th>\n      <td>18.403378</td>\n      <td>1.242624</td>\n      <td>0.120664</td>\n      <td>J011336.81+011433.4</td>\n      <td>5.357219</td>\n      <td>2.873933</td>\n      <td>7.314268</td>\n      <td>-21.831284</td>\n      <td>16.062775</td>\n      <td>0.0</td>\n      <td>train</td>\n      <td>nan</td>\n    </tr>\n    <tr>\n      <th>268979</th>\n      <td>356.932802</td>\n      <td>-2.610917</td>\n      <td>0.030901</td>\n      <td>J234744.50-023646.9</td>\n      <td>15.164274</td>\n      <td>5.864809</td>\n      <td>18.633486</td>\n      <td>-19.064878</td>\n      <td>15.318168</td>\n      <td>0.0</td>\n      <td>train</td>\n      <td>nan</td>\n    </tr>\n    <tr>\n      <th>296601</th>\n      <td>215.997519</td>\n      <td>-0.890637</td>\n      <td>0.133594</td>\n      <td>J142359.39-005326.2</td>\n      <td>10.527441</td>\n      <td>4.224710</td>\n      <td>14.072979</td>\n      <td>-22.040115</td>\n      <td>16.286236</td>\n      <td>0.0</td>\n      <td>train</td>\n      <td>nan</td>\n    </tr>\n    <tr>\n      <th>174192</th>\n      <td>155.049169</td>\n      <td>14.096121</td>\n      <td>0.146089</td>\n      <td>J102011.79+140546.1</td>\n      <td>9.513814</td>\n      <td>5.177910</td>\n      <td>12.710546</td>\n      <td>-22.378520</td>\n      <td>15.564474</td>\n      <td>0.0</td>\n      <td>train</td>\n      <td>nan_nan.fits</td>\n    </tr>\n    <tr>\n      <th>...</th>\n      <td>...</td>\n      <td>...</td>\n      <td>...</td>\n      <td>...</td>\n      <td>...</td>\n      <td>...</td>\n      <td>...</td>\n      <td>...</td>\n      <td>...</td>\n      <td>...</td>\n      <td>...</td>\n      <td>...</td>\n    </tr>\n    <tr>\n      <th>199175</th>\n      <td>NaN</td>\n      <td>NaN</td>\n      <td>NaN</td>\n      <td>NaN</td>\n      <td>NaN</td>\n      <td>NaN</td>\n      <td>NaN</td>\n      <td>NaN</td>\n      <td>NaN</td>\n      <td>NaN</td>\n      <td>NaN</td>\n      <td>nan_nan.fits</td>\n    </tr>\n    <tr>\n      <th>199177</th>\n      <td>NaN</td>\n      <td>NaN</td>\n      <td>NaN</td>\n      <td>NaN</td>\n      <td>NaN</td>\n      <td>NaN</td>\n      <td>NaN</td>\n      <td>NaN</td>\n      <td>NaN</td>\n      <td>NaN</td>\n      <td>NaN</td>\n      <td>nan_nan.fits</td>\n    </tr>\n    <tr>\n      <th>199178</th>\n      <td>NaN</td>\n      <td>NaN</td>\n      <td>NaN</td>\n      <td>NaN</td>\n      <td>NaN</td>\n      <td>NaN</td>\n      <td>NaN</td>\n      <td>NaN</td>\n      <td>NaN</td>\n      <td>NaN</td>\n      <td>NaN</td>\n      <td>nan_nan.fits</td>\n    </tr>\n    <tr>\n      <th>199179</th>\n      <td>NaN</td>\n      <td>NaN</td>\n      <td>NaN</td>\n      <td>NaN</td>\n      <td>NaN</td>\n      <td>NaN</td>\n      <td>NaN</td>\n      <td>NaN</td>\n      <td>NaN</td>\n      <td>NaN</td>\n      <td>NaN</td>\n      <td>nan_nan.fits</td>\n    </tr>\n    <tr>\n      <th>199181</th>\n      <td>NaN</td>\n      <td>NaN</td>\n      <td>NaN</td>\n      <td>NaN</td>\n      <td>NaN</td>\n      <td>NaN</td>\n      <td>NaN</td>\n      <td>NaN</td>\n      <td>NaN</td>\n      <td>NaN</td>\n      <td>NaN</td>\n      <td>nan_nan.fits</td>\n    </tr>\n  </tbody>\n</table>\n<p>244806 rows × 12 columns</p>\n</div>"
     },
     "execution_count": 28,
     "metadata": {},
     "output_type": "execute_result"
    }
   ],
   "source": [
    "x"
   ],
   "metadata": {
    "collapsed": false,
    "pycharm": {
     "name": "#%%\n"
    }
   }
  },
  {
   "cell_type": "code",
   "execution_count": 202,
   "outputs": [
    {
     "data": {
      "text/plain": "                ra        dec  redshift              iauname  petro_theta  \\\n280684  228.253553  17.001007  0.128372  J151300.84+170003.6     6.974970   \n308571   18.403378   1.242624  0.120664  J011336.81+011433.4     5.357219   \n268979  356.932802  -2.610917  0.030901  J234744.50-023646.9    15.164274   \n296601  215.997519  -0.890637  0.133594  J142359.39-005326.2    10.527441   \n174192  155.049169  14.096121  0.146089  J102011.79+140546.1     9.513814   \n...            ...        ...       ...                  ...          ...   \n219841   24.653104  -4.682799  0.048784  J013836.69-044058.0    17.698072   \n110592  243.579343  30.214586  0.094828  J161419.04+301252.5     7.391881   \n152632   17.974347  -4.618883  0.053374  J011153.89-043708.0    11.637828   \n25118    32.648135  -0.937623  0.068009  J021035.54-005615.3    12.270542   \n299065  156.539800  18.409219  0.079966  J102609.54+182433.2     8.000845   \n\n        petro_th50  petro_th90  elpetro_absmag_r      mag_r  label   func  \n280684    3.530749    8.043182        -21.397460  16.741436      0  train  \n308571    2.873933    7.314268        -21.831284  16.062775      0  train  \n268979    5.864809   18.633486        -19.064878  15.318168      0  train  \n296601    4.224710   14.072979        -22.040115  16.286236      0  train  \n174192    5.177910   12.710546        -22.378520  15.564474      0  train  \n...            ...         ...               ...        ...    ...    ...  \n219841    7.415717   20.187800        -21.068200  14.825631      6  valid  \n110592    3.314074    8.751869        -21.017754  16.270058      6  valid  \n152632    5.300970   11.823557        -20.770077  15.467412      6  valid  \n25118     5.666851   12.626719        -21.048773  15.494813      6  valid  \n299065    3.821622    9.081242        -21.003073  15.747681      6  valid  \n\n[123954 rows x 11 columns]",
      "text/html": "<div>\n<style scoped>\n    .dataframe tbody tr th:only-of-type {\n        vertical-align: middle;\n    }\n\n    .dataframe tbody tr th {\n        vertical-align: top;\n    }\n\n    .dataframe thead th {\n        text-align: right;\n    }\n</style>\n<table border=\"1\" class=\"dataframe\">\n  <thead>\n    <tr style=\"text-align: right;\">\n      <th></th>\n      <th>ra</th>\n      <th>dec</th>\n      <th>redshift</th>\n      <th>iauname</th>\n      <th>petro_theta</th>\n      <th>petro_th50</th>\n      <th>petro_th90</th>\n      <th>elpetro_absmag_r</th>\n      <th>mag_r</th>\n      <th>label</th>\n      <th>func</th>\n    </tr>\n  </thead>\n  <tbody>\n    <tr>\n      <th>280684</th>\n      <td>228.253553</td>\n      <td>17.001007</td>\n      <td>0.128372</td>\n      <td>J151300.84+170003.6</td>\n      <td>6.974970</td>\n      <td>3.530749</td>\n      <td>8.043182</td>\n      <td>-21.397460</td>\n      <td>16.741436</td>\n      <td>0</td>\n      <td>train</td>\n    </tr>\n    <tr>\n      <th>308571</th>\n      <td>18.403378</td>\n      <td>1.242624</td>\n      <td>0.120664</td>\n      <td>J011336.81+011433.4</td>\n      <td>5.357219</td>\n      <td>2.873933</td>\n      <td>7.314268</td>\n      <td>-21.831284</td>\n      <td>16.062775</td>\n      <td>0</td>\n      <td>train</td>\n    </tr>\n    <tr>\n      <th>268979</th>\n      <td>356.932802</td>\n      <td>-2.610917</td>\n      <td>0.030901</td>\n      <td>J234744.50-023646.9</td>\n      <td>15.164274</td>\n      <td>5.864809</td>\n      <td>18.633486</td>\n      <td>-19.064878</td>\n      <td>15.318168</td>\n      <td>0</td>\n      <td>train</td>\n    </tr>\n    <tr>\n      <th>296601</th>\n      <td>215.997519</td>\n      <td>-0.890637</td>\n      <td>0.133594</td>\n      <td>J142359.39-005326.2</td>\n      <td>10.527441</td>\n      <td>4.224710</td>\n      <td>14.072979</td>\n      <td>-22.040115</td>\n      <td>16.286236</td>\n      <td>0</td>\n      <td>train</td>\n    </tr>\n    <tr>\n      <th>174192</th>\n      <td>155.049169</td>\n      <td>14.096121</td>\n      <td>0.146089</td>\n      <td>J102011.79+140546.1</td>\n      <td>9.513814</td>\n      <td>5.177910</td>\n      <td>12.710546</td>\n      <td>-22.378520</td>\n      <td>15.564474</td>\n      <td>0</td>\n      <td>train</td>\n    </tr>\n    <tr>\n      <th>...</th>\n      <td>...</td>\n      <td>...</td>\n      <td>...</td>\n      <td>...</td>\n      <td>...</td>\n      <td>...</td>\n      <td>...</td>\n      <td>...</td>\n      <td>...</td>\n      <td>...</td>\n      <td>...</td>\n    </tr>\n    <tr>\n      <th>219841</th>\n      <td>24.653104</td>\n      <td>-4.682799</td>\n      <td>0.048784</td>\n      <td>J013836.69-044058.0</td>\n      <td>17.698072</td>\n      <td>7.415717</td>\n      <td>20.187800</td>\n      <td>-21.068200</td>\n      <td>14.825631</td>\n      <td>6</td>\n      <td>valid</td>\n    </tr>\n    <tr>\n      <th>110592</th>\n      <td>243.579343</td>\n      <td>30.214586</td>\n      <td>0.094828</td>\n      <td>J161419.04+301252.5</td>\n      <td>7.391881</td>\n      <td>3.314074</td>\n      <td>8.751869</td>\n      <td>-21.017754</td>\n      <td>16.270058</td>\n      <td>6</td>\n      <td>valid</td>\n    </tr>\n    <tr>\n      <th>152632</th>\n      <td>17.974347</td>\n      <td>-4.618883</td>\n      <td>0.053374</td>\n      <td>J011153.89-043708.0</td>\n      <td>11.637828</td>\n      <td>5.300970</td>\n      <td>11.823557</td>\n      <td>-20.770077</td>\n      <td>15.467412</td>\n      <td>6</td>\n      <td>valid</td>\n    </tr>\n    <tr>\n      <th>25118</th>\n      <td>32.648135</td>\n      <td>-0.937623</td>\n      <td>0.068009</td>\n      <td>J021035.54-005615.3</td>\n      <td>12.270542</td>\n      <td>5.666851</td>\n      <td>12.626719</td>\n      <td>-21.048773</td>\n      <td>15.494813</td>\n      <td>6</td>\n      <td>valid</td>\n    </tr>\n    <tr>\n      <th>299065</th>\n      <td>156.539800</td>\n      <td>18.409219</td>\n      <td>0.079966</td>\n      <td>J102609.54+182433.2</td>\n      <td>8.000845</td>\n      <td>3.821622</td>\n      <td>9.081242</td>\n      <td>-21.003073</td>\n      <td>15.747681</td>\n      <td>6</td>\n      <td>valid</td>\n    </tr>\n  </tbody>\n</table>\n<p>123954 rows × 11 columns</p>\n</div>"
     },
     "execution_count": 202,
     "metadata": {},
     "output_type": "execute_result"
    }
   ],
   "source": [
    "df"
   ],
   "metadata": {
    "collapsed": false,
    "pycharm": {
     "name": "#%%\n"
    }
   }
  },
  {
   "cell_type": "code",
   "execution_count": 29,
   "outputs": [
    {
     "name": "stdout",
     "output_type": "stream",
     "text": [
      "<class 'pandas.core.frame.DataFrame'>\n",
      "RangeIndex: 220431 entries, 0 to 220430\n",
      "Data columns (total 2 columns):\n",
      " #   Column  Non-Null Count   Dtype  \n",
      "---  ------  --------------   -----  \n",
      " 0   ra      220431 non-null  float64\n",
      " 1   dec     220431 non-null  float64\n",
      "dtypes: float64(2)\n",
      "memory usage: 3.4 MB\n",
      "None\n"
     ]
    }
   ],
   "source": [
    "sdss_list = []\n",
    "for sdss_file in sdss_files:\n",
    "    sdss_list.append([sdss_file.split(\"_\")[0], sdss_file.split(\".fits\")[0].split(\"_\")[1]])\n",
    "sdss_df = pd.DataFrame(sdss_list, columns=[\"ra\", \"dec\"], dtype=np.float64)\n",
    "print(sdss_df.info())"
   ],
   "metadata": {
    "collapsed": false,
    "pycharm": {
     "name": "#%%\n"
    }
   }
  },
  {
   "cell_type": "code",
   "execution_count": 30,
   "outputs": [],
   "source": [
    "import astropy.units as u\n",
    "from astropy.coordinates import SkyCoord"
   ],
   "metadata": {
    "collapsed": false,
    "pycharm": {
     "name": "#%%\n"
    }
   }
  },
  {
   "cell_type": "code",
   "execution_count": 162,
   "outputs": [],
   "source": [
    "def match(sdss2match, decals2match):\n",
    "    sdss = SkyCoord(ra=sdss2match.ra*u.degree, dec=sdss2match.dec*u.degree)\n",
    "    decals = SkyCoord(ra=decals2match.ra*u.degree, dec=decals2match.dec*u.degree)\n",
    "    idx, d2d, d3d = sdss.match_to_catalog_sky(decals)\n",
    "    max_sep = 4 * 0.396127 * u.arcsec\n",
    "    distance_idx = d2d < max_sep\n",
    "    # sdss_matches = sdss[distance_idx]   # sdss表中的坐标，顺序和decals_matches相同，和sdss_df顺序不同\n",
    "    # matches = idx[distance_idx]  # decals表中的坐标，顺序和decals_df不同\n",
    "    # decals_matches = decals[matches]  # decals表中的坐标，顺序和decals_df不同\n",
    "    sdss_matches = sdss2match.iloc[distance_idx]\n",
    "    matches = idx[distance_idx]\n",
    "    decal_matches = decals2match.iloc[matches]\n",
    "    test = sdss_matches.loc[:].rename(columns={\"ra\":\"sdss_ra\", \"dec\":\"sdss_dec\"})\n",
    "    test.insert(0, 'ID', range(len(test)))\n",
    "    decal_matches.insert(0, 'ID', range(len(decal_matches)))\n",
    "    new_df = pd.merge(test, decal_matches, how=\"inner\", on=[\"ID\"])\n",
    "    return new_df.drop(\"ID\", axis=1)"
   ],
   "metadata": {
    "collapsed": false,
    "pycharm": {
     "name": "#%%\n"
    }
   }
  },
  {
   "cell_type": "code",
   "execution_count": 167,
   "outputs": [],
   "source": [
    "sdss_matches = match(sdss_df, decals_df)\n",
    "\n",
    "sdss_merger = match(sdss_df, merger)\n",
    "sdss_merger_train = match(sdss_df, merger_train)\n",
    "sdss_merger_valid = match(sdss_df, merger_valid)\n",
    "sdss_merger_test = match(sdss_df, merger_test)\n",
    "\n",
    "sdss_smoothRounded = match(sdss_df, smoothRounded)\n",
    "sdss_smoothRounded_train = match(sdss_df, smoothRounded_train)\n",
    "sdss_smoothRounded_valid = match(sdss_df, smoothRounded_valid)\n",
    "sdss_smoothRounded_test = match(sdss_df, smoothRounded_test)\n",
    "\n",
    "sdss_smoothInBetween = match(sdss_df, smoothInBetween)\n",
    "sdss_smoothInBetween_train = match(sdss_df, smoothInBetween_train)\n",
    "sdss_smoothInBetween_valid = match(sdss_df, smoothInBetween_valid)\n",
    "sdss_smoothInBetween_test = match(sdss_df, smoothInBetween_test)\n",
    "\n",
    "sdss_smoothCigarShaped = match(sdss_df, smoothCigarShaped)\n",
    "sdss_smoothCigarShaped_train = match(sdss_df, smoothCigarShaped_train)\n",
    "sdss_smoothCigarShaped_valid = match(sdss_df, smoothCigarShaped_valid)\n",
    "sdss_smoothCigarShaped_test = match(sdss_df, smoothCigarShaped_test)\n",
    "\n",
    "sdss_edgeOn = match(sdss_df, edgeOn)\n",
    "sdss_edgeOn_train = match(sdss_df, edgeOn_train)\n",
    "sdss_edgeOn_valid = match(sdss_df, edgeOn_valid)\n",
    "sdss_edgeOn_test = match(sdss_df, edgeOn_test)\n",
    "\n",
    "sdss_diskNoBar = match(sdss_df, diskNoBar)\n",
    "sdss_diskNoBar_train = match(sdss_df, diskNoBar_train)\n",
    "sdss_diskNoBar_valid = match(sdss_df, diskNoBar_valid)\n",
    "sdss_diskNoBar_test = match(sdss_df, diskNoBar_test)\n",
    "\n",
    "sdss_diskStrongBar = match(sdss_df, diskStrongBar)\n",
    "sdss_diskStrongBar_train = match(sdss_df, diskStrongBar_train)\n",
    "sdss_diskStrongBar_valid = match(sdss_df, diskStrongBar_valid)\n",
    "sdss_diskStrongBar_test = match(sdss_df, diskStrongBar_test)"
   ],
   "metadata": {
    "collapsed": false,
    "pycharm": {
     "name": "#%%\n"
    }
   }
  },
  {
   "cell_type": "code",
   "execution_count": 193,
   "outputs": [],
   "source": [
    "def add0(x):\n",
    "    length = len(x.split(\".\")[1])\n",
    "    return x + (6 - length) * \"0\"\n",
    "\n",
    "def write_loc(sdss_catalog):\n",
    "    for row in range(len(sdss_catalog)):\n",
    "        ra, dec = str(sdss_catalog.loc[row].sdss_ra), str(sdss_catalog.loc[row].sdss_dec)\n",
    "        line11 = sdss_dir + ra + \"_\" + dec + \".fits\"\n",
    "        line00 = sdss_dir + add0(ra) + \"_\" + add0(dec) + \".fits\"\n",
    "        line10 = sdss_dir + ra + \"_\" + add0(dec) + \".fits\"\n",
    "        line01 = sdss_dir + add0(ra) + \"_\" + dec + \".fits\"\n",
    "        if os.path.exists(line11):\n",
    "            sdss_catalog.loc[row, \"sdss_loc\"] = line11\n",
    "            # print(\"11\")\n",
    "        elif os.path.exists(line00):\n",
    "            sdss_catalog.loc[row, \"sdss_loc\"] = line00\n",
    "        elif os.path.exists(line10):\n",
    "            sdss_catalog.loc[row, \"sdss_loc\"] = line10\n",
    "        elif os.path.exists(line01):\n",
    "            sdss_catalog.loc[row, \"sdss_loc\"] = line01\n",
    "        else:\n",
    "            print(line11)"
   ],
   "metadata": {
    "collapsed": false,
    "pycharm": {
     "name": "#%%\n"
    }
   }
  },
  {
   "cell_type": "code",
   "execution_count": 198,
   "outputs": [],
   "source": [
    "dataset = [sdss_merger_train, sdss_merger_test, sdss_merger_valid,\n",
    "                        sdss_smoothRounded_train, sdss_smoothRounded_test, sdss_smoothRounded_valid,\n",
    "                        sdss_smoothInBetween_train, sdss_smoothInBetween_test, sdss_smoothInBetween_valid,\n",
    "                        sdss_smoothCigarShaped_train, sdss_smoothCigarShaped_test, sdss_smoothCigarShaped_valid,\n",
    "                        sdss_edgeOn_train, sdss_edgeOn_test, sdss_edgeOn_valid,\n",
    "                        sdss_diskNoBar_train, sdss_diskNoBar_test, sdss_diskNoBar_valid,\n",
    "                        sdss_diskStrongBar_train, sdss_diskStrongBar_test, sdss_diskStrongBar_valid,\n",
    "                        ]\n",
    "for i in dataset:\n",
    "    write_loc(i)"
   ],
   "metadata": {
    "collapsed": false,
    "pycharm": {
     "name": "#%%\n"
    }
   }
  },
  {
   "cell_type": "code",
   "execution_count": 199,
   "outputs": [],
   "source": [
    "df_matches = pd.concat(dataset)"
   ],
   "metadata": {
    "collapsed": false,
    "pycharm": {
     "name": "#%%\n"
    }
   }
  },
  {
   "cell_type": "code",
   "execution_count": 201,
   "outputs": [],
   "source": [
    "df_matches.to_csv(\"/data/renhaoye/decals_2022/dataset_sdss_match_decals.csv\")"
   ],
   "metadata": {
    "collapsed": false,
    "pycharm": {
     "name": "#%%\n"
    }
   }
  },
  {
   "cell_type": "code",
   "execution_count": 10,
   "outputs": [
    {
     "name": "stdout",
     "output_type": "stream",
     "text": [
      "merger len:  2810 4178\n",
      "merger test_len:  275 418\n",
      "smoothRounded len:  20964 30541\n",
      "smoothRounded test_len:  2095 3055\n",
      "smoothInBetween len:  22591 32790\n",
      "smoothInBetween test_len:  2301 3279\n",
      "smoothCigarShaped len:  14638 21834\n",
      "smoothCigarShaped test_len:  1459 2184\n",
      "edgeOn len:  9284 14248\n",
      "edgeOn test_len:  923 1425\n",
      "diskNoBar len:  12338 18288\n",
      "diskNoBar test_len:  1236 1829\n",
      "diskStrongBar len:  1393 2075\n",
      "diskStrongBar test_len:  142 208\n"
     ]
    }
   ],
   "source": [
    "print(\"merger len: \", len(sdss_merger), len(merger))\n",
    "print(\"merger test_len: \", len(sdss_merger_test), len(merger_test))\n",
    "print(\"smoothRounded len: \", len(sdss_smoothRounded), len(smoothRounded))\n",
    "print(\"smoothRounded test_len: \", len(sdss_smoothRounded_test), len(smoothRounded_test))\n",
    "print(\"smoothInBetween len: \", len(sdss_smoothInBetween), len(smoothInBetween))\n",
    "print(\"smoothInBetween test_len: \", len(sdss_smoothInBetween_test), len(smoothInBetween_test))\n",
    "print(\"smoothCigarShaped len: \", len(sdss_smoothCigarShaped), len(smoothCigarShaped))\n",
    "print(\"smoothCigarShaped test_len: \", len(sdss_smoothCigarShaped_test), len(smoothCigarShaped_test))\n",
    "print(\"edgeOn len: \", len(sdss_edgeOn), len(edgeOn))\n",
    "print(\"edgeOn test_len: \", len(sdss_edgeOn_test), len(edgeOn_test))\n",
    "print(\"diskNoBar len: \", len(sdss_diskNoBar), len(diskNoBar))\n",
    "print(\"diskNoBar test_len: \", len(sdss_diskNoBar_test), len(diskNoBar_test))\n",
    "print(\"diskStrongBar len: \", len(sdss_diskStrongBar), len(diskStrongBar))\n",
    "print(\"diskStrongBar test_len: \", len(sdss_diskStrongBar_test), len(diskStrongBar_test))"
   ],
   "metadata": {
    "collapsed": false,
    "pycharm": {
     "name": "#%%\n"
    }
   }
  },
  {
   "cell_type": "code",
   "execution_count": 45,
   "outputs": [],
   "source": [
    "# def add0(x):\n",
    "#     length = len(x.split(\".\")[1])\n",
    "#     return x + (6 - length) * \"0\"\n",
    "#\n",
    "# def write2txt_label(sdss_catalog, label, txt_path):\n",
    "#     with open(txt_path, \"a\") as w:\n",
    "#         for row in sdss_catalog:\n",
    "#             ra, dec = str(row.ra.degree), str(row.dec.degree)\n",
    "#             line11 = sdss_dir + ra + \"_\" + dec + \".fits\"\n",
    "#             line00 = sdss_dir + add0(ra) + \"_\" + add0(dec) + \".fits\"\n",
    "#             line10 = sdss_dir + ra + \"_\" + add0(dec) + \".fits\"\n",
    "#             line01 = sdss_dir + add0(ra) + \"_\" + dec + \".fits\"\n",
    "#             if os.path.exists(line11):\n",
    "#                 w.write(line11 + \" \" + str(label) + \"\\n\")\n",
    "#             elif os.path.exists(line00):\n",
    "#                 w.write(line00 + \" \" + str(label) + \"\\n\")\n",
    "#             elif os.path.exists(line10):\n",
    "#                 w.write(line10 + \" \" + str(label) + \"\\n\")\n",
    "#             elif os.path.exists(line01):\n",
    "#                 w.write(line01 + \" \" + str(label) + \"\\n\")\n",
    "#             else:\n",
    "#                 print(line11)"
   ],
   "metadata": {
    "collapsed": false,
    "pycharm": {
     "name": "#%%\n"
    }
   }
  },
  {
   "cell_type": "code",
   "execution_count": 46,
   "outputs": [
    {
     "name": "stderr",
     "output_type": "stream",
     "text": [
      "100%|██████████████████████████████████████████████████████████████████████████████████████| 7/7 [00:51<00:00,  7.39s/it]\n"
     ]
    }
   ],
   "source": [
    "# from tqdm import tqdm\n",
    "# save_path = \"/data/renhaoye/decals_2022/sdss_match_decals_label_all.txt\"\n",
    "# w = open(save_path, \"w\")\n",
    "# w.close()\n",
    "# todo = [sdss_merger, sdss_smoothRounded, sdss_smoothInBetween, sdss_smoothCigarShaped, sdss_edgeOn, sdss_diskNoBar, sdss_diskStrongBar]\n",
    "# for idx in tqdm(range(len(todo))):\n",
    "#     write2txt_label(todo[idx], idx, save_path)"
   ],
   "metadata": {
    "collapsed": false,
    "pycharm": {
     "name": "#%%\n"
    }
   }
  },
  {
   "cell_type": "code",
   "execution_count": 47,
   "outputs": [
    {
     "name": "stderr",
     "output_type": "stream",
     "text": [
      "100%|██████████████████████████████████████████████████████████████████████████████████████| 7/7 [00:05<00:00,  1.35it/s]\n"
     ]
    }
   ],
   "source": [
    "# save_path = \"/data/renhaoye/decals_2022/sdss_match_decals_label_test.txt\"\n",
    "# w = open(save_path, \"w\")\n",
    "# w.close()\n",
    "# todo = [sdss_merger_test, sdss_smoothRounded_test, sdss_smoothInBetween_test, sdss_smoothCigarShaped_test, sdss_edgeOn_test, sdss_diskNoBar_test, sdss_diskStrongBar_test]\n",
    "# for idx in tqdm(range(len(todo))):\n",
    "#     write2txt_label(todo[idx], idx, save_path)"
   ],
   "metadata": {
    "collapsed": false,
    "pycharm": {
     "name": "#%%\n"
    }
   }
  },
  {
   "cell_type": "code",
   "execution_count": null,
   "outputs": [],
   "source": [],
   "metadata": {
    "collapsed": false,
    "pycharm": {
     "name": "#%%\n"
    }
   }
  }
 ],
 "metadata": {
  "kernelspec": {
   "display_name": "Python 3",
   "language": "python",
   "name": "python3"
  },
  "language_info": {
   "codemirror_mode": {
    "name": "ipython",
    "version": 2
   },
   "file_extension": ".py",
   "mimetype": "text/x-python",
   "name": "python",
   "nbconvert_exporter": "python",
   "pygments_lexer": "ipython2",
   "version": "2.7.6"
  }
 },
 "nbformat": 4,
 "nbformat_minor": 0
}