{
 "cells": [
  {
   "cell_type": "markdown",
   "id": "minus-henry",
   "metadata": {
    "pycharm": {
     "name": "#%% md\n"
    }
   },
   "source": [
    "### MGS (SDSS Main Galaxy Sample, r<17.77) 'VAGC_MGS-m14_1777--20180116.fits'\n",
    "### MGS galaxies got classification in  DECaLS footprint, i.e. GZ DECaLS --> \"gz_decals_volunteers_ab.csv\" \"gz_decals_volunteers_c.csv\"\n",
    "### stamps of GZ DECaLS galaxies have been dowloaded and stored in either  /data/pair/nomerge/ or /data/pair/merge/ (i.e. merge.tar, nomerge.tar) \n",
    "### These DECaLS stamps are  matched with DECaLS catalog and generate \"decals_ab_image.dat\" \"decals_c_image.dat\" for convience\n",
    "### MGS galaxies not in DECals footprint is listed in 'MGS_out_DECaLS.fits', these galaxies need AI morphology classfication. The stamps of these files are stored in MGS_out_DECaLS.tar"
   ]
  },
  {
   "cell_type": "code",
   "execution_count": 75,
   "id": "unavailable-platform",
   "metadata": {
    "pycharm": {
     "name": "#%%\n"
    }
   },
   "outputs": [],
   "source": [
    "import astropy\n",
    "from astropy.io import fits\n",
    "import pandas as pd\n",
    "import numpy as np\n",
    "from astropy.coordinates import SkyCoord\n",
    "from astropy import units as u\n",
    "import matplotlib.pyplot as plt\n",
    "from astropy.table import Table"
   ]
  },
  {
   "cell_type": "code",
   "execution_count": 62,
   "id": "varied-scroll",
   "metadata": {
    "pycharm": {
     "name": "#%%\n"
    }
   },
   "outputs": [
    {
     "name": "stdout",
     "output_type": "stream",
     "text": [
      "746950 gals in MGS catalog\n"
     ]
    }
   ],
   "source": [
    "# read SDSS VAGC MGS sample\n",
    "hdus=fits.open('VAGC_MGS-m14_1777--20180116.fits')\n",
    "MGS=hdus[1].data\n",
    "Ra=MGS['RA']\n",
    "Dec=MGS['DEC']\n",
    "redshift=MGS['Z']\n",
    "zflag=MGS['ZFLAG']\n",
    "NV=len(Ra)\n",
    "print(NV,'gals in MGS catalog')\n",
    "\n",
    "#read DECals GZ data\n",
    "Decas_ab = pd.read_csv(\"gz_decals_volunteers_ab.csv\")\n",
    "Decas_c = pd.read_csv(\"gz_decals_volunteers_c.csv\")\n",
    "Ra1=Decas_ab['ra']\n",
    "Dec1=Decas_ab['dec']\n",
    "Ra2=Decas_c['ra']\n",
    "Dec2=Decas_c['dec']\n",
    "Ra_D=np.hstack((Ra1,Ra2))\n",
    "Dec_D=np.hstack((Dec1,Dec2))"
   ]
  },
  {
   "cell_type": "code",
   "execution_count": 67,
   "id": "divided-satin",
   "metadata": {
    "pycharm": {
     "name": "#%%\n"
    }
   },
   "outputs": [],
   "source": [
    "vagc = SkyCoord(ra=Ra*u.degree, dec=Dec*u.degree)  \n",
    "decals = SkyCoord(ra=Ra_D*u.degree, dec=Dec_D*u.degree)  \n",
    "idx, d2d, d3d = decals.match_to_catalog_sky(vagc)\n",
    "sel=np.where(d2d.degree < 0.00002)\n",
    "Dflag=np.zeros(NV,dtype=int)\n",
    "Dflag[idx]=1\n",
    "sel2=np.where(Dflag == 0)\n",
    "Nout=len(sel2[0])\n"
   ]
  },
  {
   "cell_type": "code",
   "execution_count": 83,
   "id": "false-inflation",
   "metadata": {
    "pycharm": {
     "name": "#%%\n"
    }
   },
   "outputs": [
    {
     "name": "stdout",
     "output_type": "stream",
     "text": [
      "476890 MGS galaxies not in DECals footprint\n"
     ]
    },
    {
     "data": {
      "image/png": "[encoded data removed]",
      "text/plain": [
       "<Figure size 432x288 with 1 Axes>"
      ]
     },
     "metadata": {
      "needs_background": "light"
     },
     "output_type": "display_data"
    }
   ],
   "source": [
    "print(Nout,'MGS galaxies not in DECals footprint')\n",
    "plt.plot(Ra[sel2[0][0:200000]],Dec[sel2[0]][0:200000],'.')\n",
    "MGS_out=MGS[sel2]\n",
    "Table(MGS_out).write('MGS_out_DECaLS.fits', format='fits')"
   ]
  },
  {
   "cell_type": "code",
   "execution_count": 94,
   "id": "fancy-curtis",
   "metadata": {
    "pycharm": {
     "name": "#%%\n"
    }
   },
   "outputs": [],
   "source": [
    "check=fits.open('MGS_out_DECaLS.fits')\n",
    "cdata=check[1].data"
   ]
  },
  {
   "cell_type": "code",
   "execution_count": null,
   "id": "drawn-wichita",
   "metadata": {
    "pycharm": {
     "name": "#%%\n",
     "is_executing": true
    }
   },
   "outputs": [],
   "source": [
    "import glob\n",
    "from tqdm import trange\n",
    "\n",
    "voteab = pd.read_csv(\"gz_decals_volunteers_ab.csv\")\n",
    "votec = pd.read_csv(\"gz_decals_volunteers_c.csv\")\n",
    "Nab=len(voteab)\n",
    "Nc=len(votec)\n",
    "fileout = open(\"decals_ab_image.dat\", \"w\")\n",
    "#filename=np.array(Nobj,dtype=object)\n",
    "for i in trange(Nab):\n",
    "    bname=str(voteab.iloc[i, 1])+'_'+str(voteab.iloc[i, 2])\n",
    "    filename=bname+'_?.fits'\n",
    "    fname1=glob.glob('/data/pair/nomerge/' + filename)\n",
    "    fname='not exist'\n",
    "    if len(fname1) !=0:\n",
    "        fname=fname1[0]\n",
    "    else:\n",
    "        fname2=glob.glob('/data/pair/merge/' + filename)\n",
    "        if len(fname2) !=0:\n",
    "            fname=fname2[0]\n",
    "    if fname == 'not exist':\n",
    "        print(filename,'not exist')\n",
    "    fname=os.path.basename(fname)\n",
    "    #print(fname)\n",
    "    fileout.write(fname+'\\n')\n",
    "fileout.close()"
   ]
  },
  {
   "cell_type": "code",
   "execution_count": null,
   "id": "tracked-thomson",
   "metadata": {
    "pycharm": {
     "name": "#%%\n",
     "is_executing": true
    }
   },
   "outputs": [],
   "source": [
    "fileout = open(\"decals_c_image.dat\", \"w\")\n",
    "#filename=np.array(Nobj,dtype=object)\n",
    "for i in trange(Nc):\n",
    "    bname=str(votec.iloc[i, 1])+'_'+str(votec.iloc[i, 2])\n",
    "    filename=bname+'_?.fits'\n",
    "    fname1=glob.glob('/data/pair/nomerge/' + filename)\n",
    "    fname='not exist'\n",
    "    if len(fname1) !=0:\n",
    "        fname=fname1[0]\n",
    "    else:\n",
    "        fname2=glob.glob('/data/pair/merge/' + filename)\n",
    "        if len(fname2) !=0:\n",
    "            fname=fname2[0]\n",
    "    if fname == 'not exist':\n",
    "        print(filename,'not exist')\n",
    "    fname=os.path.basename(fname)\n",
    "    #print(fname)\n",
    "    fileout.write(fname+'\\n')\n",
    "fileout.close()"
   ]
  }
 ],
 "metadata": {
  "kernelspec": {
   "display_name": "Python 3 (ipykernel)",
   "language": "python",
   "name": "python3"
  },
  "language_info": {
   "codemirror_mode": {
    "name": "ipython",
    "version": 3
   },
   "file_extension": ".py",
   "mimetype": "text/x-python",
   "name": "python",
   "nbconvert_exporter": "python",
   "pygments_lexer": "ipython3",
   "version": "3.8.3"
  }
 },
 "nbformat": 4,
 "nbformat_minor": 5
}