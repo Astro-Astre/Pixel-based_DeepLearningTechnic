{
 "cells": [
  {
   "cell_type": "code",
   "execution_count": 1,
   "metadata": {
    "collapsed": true,
    "pycharm": {
     "name": "#%%\n"
    }
   },
   "outputs": [],
   "source": [
    "import pandas as pd\n",
    "import os\n",
    "import matplotlib.pyplot as plt\n",
    "from sklearn.model_selection import train_test_split\n",
    "%matplotlib inline"
   ]
  },
  {
   "cell_type": "code",
   "execution_count": 2,
   "outputs": [],
   "source": [
    "df_auto = pd.read_csv(\"/data/renhaoye/decals_2022/fits.csv\")"
   ],
   "metadata": {
    "collapsed": false,
    "pycharm": {
     "name": "#%%\n"
    }
   }
  },
  {
   "cell_type": "code",
   "execution_count": 3,
   "outputs": [],
   "source": [
    "threshold = 0.5\n",
    "threshold2 = 0.6\n",
    "merger = major = df_auto.query('merging_minor_disturbance_fraction > %f '\n",
    "                               '| merging_major_disturbance_fraction > %f '\n",
    "                               '| merging_merger_fraction > %f '\n",
    "                               % (threshold2, threshold2, threshold2))\n",
    "smoothRounded = df_auto.query('smooth_or_featured_smooth_fraction >  %f '\n",
    "                       '& how_rounded_round_fraction > %f' % (0.7, 0.8))\n",
    "smoothInBetween = df_auto.query('smooth_or_featured_smooth_fraction >  %f '\n",
    "                       '& how_rounded_in_between_fraction > %f' % (0.7, 0.85))\n",
    "smoothCigarShaped = df_auto.query('smooth_or_featured_smooth_fraction > %f '\n",
    "                                  '& how_rounded_cigar_shaped_fraction > %f' % (threshold, threshold2))\n",
    "edgeOn = df_auto.query('smooth_or_featured_featured_or_disk_fraction > %f '\n",
    "                            '& disk_edge_on_yes_fraction > %f'\n",
    "                            % (threshold, 0.7))\n",
    "diskNoBar = df_auto.query('smooth_or_featured_featured_or_disk_fraction > %f '\n",
    "                                '& disk_edge_on_no_fraction > %f '\n",
    "                                '& bar_no_fraction > %f '\n",
    "                                % (threshold, threshold, 0.7))\n",
    "diskStrongBar = df_auto.query('smooth_or_featured_featured_or_disk_fraction > %f '\n",
    "                                '& disk_edge_on_no_fraction > %f '\n",
    "                                '&bar_strong_fraction > %f '\n",
    "                                % (threshold, threshold, threshold2))\n",
    "merger_train, merger_test = train_test_split(merger, test_size=0.1, random_state=1926)\n",
    "merger_train, merger_valid = train_test_split(merger_train, test_size=0.1, random_state=1926)\n",
    "\n",
    "smoothRounded_train, smoothRounded_test = train_test_split(smoothRounded, test_size=0.1, random_state=1926)\n",
    "smoothRounded_train, smoothRounded_valid = train_test_split(smoothRounded_train, test_size=0.1, random_state=1926)\n",
    "\n",
    "smoothInBetween_train, smoothInBetween_test = train_test_split(smoothInBetween, test_size=0.1, random_state=1926)\n",
    "smoothInBetween_train, smoothInBetween_valid = train_test_split(smoothInBetween_train, test_size=0.1, random_state=1926)\n",
    "\n",
    "smoothCigarShaped_train, smoothCigarShaped_test = train_test_split(smoothCigarShaped, test_size=0.1, random_state=1926)\n",
    "smoothCigarShaped_train, smoothCigarShaped_valid = train_test_split(smoothCigarShaped_train, test_size=0.1, random_state=1926)\n",
    "\n",
    "edgeOn_train, edgeOn_test = train_test_split(edgeOn, test_size=0.1, random_state=1926)\n",
    "edgeOn_train, edgeOn_valid = train_test_split(edgeOn_train, test_size=0.1, random_state=1926)\n",
    "\n",
    "diskNoBar_train, diskNoBar_test = train_test_split(diskNoBar, test_size=0.1, random_state=1926)\n",
    "diskNoBar_train, diskNoBar_valid = train_test_split(diskNoBar_train, test_size=0.1, random_state=1926)\n",
    "\n",
    "diskStrongBar_train, diskStrongBar_test = train_test_split(diskStrongBar, test_size=0.1, random_state=1926)\n",
    "diskStrongBar_train, diskStrongBar_valid = train_test_split(diskStrongBar_train, test_size=0.1, random_state=1926)"
   ],
   "metadata": {
    "collapsed": false,
    "pycharm": {
     "name": "#%%\n"
    }
   }
  },
  {
   "cell_type": "code",
   "execution_count": 4,
   "outputs": [
    {
     "data": {
      "text/plain": "<Figure size 576x288 with 1 Axes>",
      "image/png": "[encoded data removed]"
     },
     "metadata": {
      "needs_background": "light"
     },
     "output_type": "display_data"
    }
   ],
   "source": [
    "plt.figure(figsize=(8, 4))\n",
    "plt.hist(merger.redshift, histtype=\"step\", label = \"merger\", bins=20, density=True)\n",
    "# plt.hist(smoothRounded.redshift, histtype=\"step\", label = \"smoothRounded\", bins=20,density=True)\n",
    "# plt.hist(smoothInBetween.redshift, histtype=\"step\", label = \"smoothInBetween\", bins=20,density=True)\n",
    "# plt.hist(smoothCigarShaped.redshift, histtype=\"step\", label = \"smoothCigarShaped\", bins=20,density=True)\n",
    "# plt.hist(edgeOn.redshift, histtype=\"step\", label = \"edgeOn\", bins=20,density=True)\n",
    "plt.hist(diskNoBar.redshift, histtype=\"step\", label = \"diskNoWeakBar\", bins=20, density=True)\n",
    "# plt.hist(diskStrongBar.redshift, histtype=\"step\", label = \"diskStrongBar\", bins=20,density=True)\n",
    "plt.xlabel(\"redshift\")\n",
    "plt.ylabel(\"percent\")\n",
    "plt.legend(loc=\"best\")\n",
    "plt.tight_layout()\n",
    "plt.show()"
   ],
   "metadata": {
    "collapsed": false,
    "pycharm": {
     "name": "#%%\n"
    }
   }
  },
  {
   "cell_type": "code",
   "execution_count": 5,
   "outputs": [],
   "source": [
    "decals_df = pd.read_csv(\"/data/renhaoye/decals_2022/dataset_decals.csv\", index_col=0)\n",
    "sdss_df = pd.read_csv(\"/data/renhaoye/decals_2022/dataset_sdss_match_decals.csv\", index_col=0)\n",
    "\n",
    "decals_dataset = [decals_df.query(\"func == 'train'\"), decals_df.query(\"func == 'test'\"), decals_df.query(\"func == 'valid'\")]\n",
    "sdss_dataset = [sdss_df.query(\"func == 'train'\"), sdss_df.query(\"func == 'test'\"), sdss_df.query(\"func == 'valid'\")]"
   ],
   "metadata": {
    "collapsed": false,
    "pycharm": {
     "name": "#%%\n"
    }
   }
  },
  {
   "cell_type": "code",
   "execution_count": 64,
   "outputs": [
    {
     "data": {
      "text/plain": "<Figure size 720x720 with 1 Axes>",
      "image/png": "[encoded data removed]"
     },
     "metadata": {
      "needs_background": "light"
     },
     "output_type": "display_data"
    }
   ],
   "source": [
    "plt.figure(figsize=(10, 10))\n",
    "plt.hist(a, density=True, bins=100, histtype=\"step\", range=(12, 24), label=\"0\")\n",
    "plt.hist(b, density=True, bins=100, histtype=\"step\", range=(12, 24), label=\"1\")\n",
    "plt.hist(c, density=True, bins=100, histtype=\"step\", range=(12, 24), label=\"2\")\n",
    "plt.hist(d, density=True, bins=100, histtype=\"step\", range=(12, 24), label=\"3\")\n",
    "plt.hist(e, density=True, bins=100, histtype=\"step\", range=(12, 24), label=\"4\")\n",
    "plt.legend(fontsize=10)\n",
    "plt.show()"
   ],
   "metadata": {
    "collapsed": false,
    "pycharm": {
     "name": "#%%\n"
    }
   }
  },
  {
   "cell_type": "code",
   "execution_count": 14,
   "outputs": [
    {
     "data": {
      "text/plain": "                ra        dec  redshift              iauname  petro_theta  \\\n280684  228.253553  17.001007  0.128372  J151300.84+170003.6     6.974970   \n308571   18.403378   1.242624  0.120664  J011336.81+011433.4     5.357219   \n268979  356.932802  -2.610917  0.030901  J234744.50-023646.9    15.164274   \n296601  215.997519  -0.890637  0.133594  J142359.39-005326.2    10.527441   \n174192  155.049169  14.096121  0.146089  J102011.79+140546.1     9.513814   \n...            ...        ...       ...                  ...          ...   \n92483   171.437735  14.676566  0.034013  J112545.04+144035.6    16.061323   \n2383    229.708304   0.010939  0.039043  J151849.99+000039.4     9.217144   \n52759   147.252899  26.758983  0.085023  J094900.69+264532.3     4.886440   \n184487  201.325654  11.148845  0.086667  J132518.15+110855.8     6.655635   \n116622  222.328342  23.207587  0.039589  J144918.80+231227.3     7.124522   \n\n        petro_th50  petro_th90  elpetro_absmag_r      mag_r  label   func  \n280684    3.530749    8.043182        -21.397460  16.741436      0  train  \n308571    2.873933    7.314268        -21.831284  16.062775      0  train  \n268979    5.864809   18.633486        -19.064878  15.318168      0  train  \n296601    4.224710   14.072979        -22.040115  16.286236      0  train  \n174192    5.177910   12.710546        -22.378520  15.564474      0  train  \n...            ...         ...               ...        ...    ...    ...  \n92483     7.708339   19.809471        -21.058968  13.976057      6  train  \n2383      3.906558   11.521922        -20.022610  15.237208      6  train  \n52759     2.267761    5.540004        -20.411213  16.694221      6  train  \n184487    3.044413    6.591675        -20.898727  16.483297      6  train  \n116622    2.528761    8.314960        -19.721052  15.504882      6  train  \n\n[97888 rows x 11 columns]",
      "text/html": "<div>\n<style scoped>\n    .dataframe tbody tr th:only-of-type {\n        vertical-align: middle;\n    }\n\n    .dataframe tbody tr th {\n        vertical-align: top;\n    }\n\n    .dataframe thead th {\n        text-align: right;\n    }\n</style>\n<table border=\"1\" class=\"dataframe\">\n  <thead>\n    <tr style=\"text-align: right;\">\n      <th></th>\n      <th>ra</th>\n      <th>dec</th>\n      <th>redshift</th>\n      <th>iauname</th>\n      <th>petro_theta</th>\n      <th>petro_th50</th>\n      <th>petro_th90</th>\n      <th>elpetro_absmag_r</th>\n      <th>mag_r</th>\n      <th>label</th>\n      <th>func</th>\n    </tr>\n  </thead>\n  <tbody>\n    <tr>\n      <th>280684</th>\n      <td>228.253553</td>\n      <td>17.001007</td>\n      <td>0.128372</td>\n      <td>J151300.84+170003.6</td>\n      <td>6.974970</td>\n      <td>3.530749</td>\n      <td>8.043182</td>\n      <td>-21.397460</td>\n      <td>16.741436</td>\n      <td>0</td>\n      <td>train</td>\n    </tr>\n    <tr>\n      <th>308571</th>\n      <td>18.403378</td>\n      <td>1.242624</td>\n      <td>0.120664</td>\n      <td>J011336.81+011433.4</td>\n      <td>5.357219</td>\n      <td>2.873933</td>\n      <td>7.314268</td>\n      <td>-21.831284</td>\n      <td>16.062775</td>\n      <td>0</td>\n      <td>train</td>\n    </tr>\n    <tr>\n      <th>268979</th>\n      <td>356.932802</td>\n      <td>-2.610917</td>\n      <td>0.030901</td>\n      <td>J234744.50-023646.9</td>\n      <td>15.164274</td>\n      <td>5.864809</td>\n      <td>18.633486</td>\n      <td>-19.064878</td>\n      <td>15.318168</td>\n      <td>0</td>\n      <td>train</td>\n    </tr>\n    <tr>\n      <th>296601</th>\n      <td>215.997519</td>\n      <td>-0.890637</td>\n      <td>0.133594</td>\n      <td>J142359.39-005326.2</td>\n      <td>10.527441</td>\n      <td>4.224710</td>\n      <td>14.072979</td>\n      <td>-22.040115</td>\n      <td>16.286236</td>\n      <td>0</td>\n      <td>train</td>\n    </tr>\n    <tr>\n      <th>174192</th>\n      <td>155.049169</td>\n      <td>14.096121</td>\n      <td>0.146089</td>\n      <td>J102011.79+140546.1</td>\n      <td>9.513814</td>\n      <td>5.177910</td>\n      <td>12.710546</td>\n      <td>-22.378520</td>\n      <td>15.564474</td>\n      <td>0</td>\n      <td>train</td>\n    </tr>\n    <tr>\n      <th>...</th>\n      <td>...</td>\n      <td>...</td>\n      <td>...</td>\n      <td>...</td>\n      <td>...</td>\n      <td>...</td>\n      <td>...</td>\n      <td>...</td>\n      <td>...</td>\n      <td>...</td>\n      <td>...</td>\n    </tr>\n    <tr>\n      <th>92483</th>\n      <td>171.437735</td>\n      <td>14.676566</td>\n      <td>0.034013</td>\n      <td>J112545.04+144035.6</td>\n      <td>16.061323</td>\n      <td>7.708339</td>\n      <td>19.809471</td>\n      <td>-21.058968</td>\n      <td>13.976057</td>\n      <td>6</td>\n      <td>train</td>\n    </tr>\n    <tr>\n      <th>2383</th>\n      <td>229.708304</td>\n      <td>0.010939</td>\n      <td>0.039043</td>\n      <td>J151849.99+000039.4</td>\n      <td>9.217144</td>\n      <td>3.906558</td>\n      <td>11.521922</td>\n      <td>-20.022610</td>\n      <td>15.237208</td>\n      <td>6</td>\n      <td>train</td>\n    </tr>\n    <tr>\n      <th>52759</th>\n      <td>147.252899</td>\n      <td>26.758983</td>\n      <td>0.085023</td>\n      <td>J094900.69+264532.3</td>\n      <td>4.886440</td>\n      <td>2.267761</td>\n      <td>5.540004</td>\n      <td>-20.411213</td>\n      <td>16.694221</td>\n      <td>6</td>\n      <td>train</td>\n    </tr>\n    <tr>\n      <th>184487</th>\n      <td>201.325654</td>\n      <td>11.148845</td>\n      <td>0.086667</td>\n      <td>J132518.15+110855.8</td>\n      <td>6.655635</td>\n      <td>3.044413</td>\n      <td>6.591675</td>\n      <td>-20.898727</td>\n      <td>16.483297</td>\n      <td>6</td>\n      <td>train</td>\n    </tr>\n    <tr>\n      <th>116622</th>\n      <td>222.328342</td>\n      <td>23.207587</td>\n      <td>0.039589</td>\n      <td>J144918.80+231227.3</td>\n      <td>7.124522</td>\n      <td>2.528761</td>\n      <td>8.314960</td>\n      <td>-19.721052</td>\n      <td>15.504882</td>\n      <td>6</td>\n      <td>train</td>\n    </tr>\n  </tbody>\n</table>\n<p>97888 rows × 11 columns</p>\n</div>"
     },
     "execution_count": 14,
     "metadata": {},
     "output_type": "execute_result"
    }
   ],
   "source": [
    "cut = decals_dataset[0].query(\"petro_theta < 17.77\")\n",
    "cut"
   ],
   "metadata": {
    "collapsed": false,
    "pycharm": {
     "name": "#%%\n"
    }
   }
  },
  {
   "cell_type": "code",
   "execution_count": 10,
   "outputs": [
    {
     "data": {
      "text/plain": "<Figure size 720x720 with 1 Axes>",
      "image/png": "[encoded data removed]"
     },
     "metadata": {
      "needs_background": "light"
     },
     "output_type": "display_data"
    }
   ],
   "source": [
    "plt.figure(figsize=(10, 10))\n",
    "plt.hist(decals_dataset[0].petro_theta, density=True, bins=100, range=(0, 50))\n",
    "plt.show()"
   ],
   "metadata": {
    "collapsed": false,
    "pycharm": {
     "name": "#%%\n"
    }
   }
  },
  {
   "cell_type": "code",
   "execution_count": 30,
   "outputs": [
    {
     "data": {
      "text/plain": "100398"
     },
     "execution_count": 30,
     "metadata": {},
     "output_type": "execute_result"
    }
   ],
   "source": [
    "len(decals_dataset[0])"
   ],
   "metadata": {
    "collapsed": false,
    "pycharm": {
     "name": "#%%\n"
    }
   }
  },
  {
   "cell_type": "code",
   "execution_count": 31,
   "outputs": [],
   "source": [
    "decals_dataset[0].drop_duplicates(['ra','dec'], keep=False, inplace=True)"
   ],
   "metadata": {
    "collapsed": false,
    "pycharm": {
     "name": "#%%\n"
    }
   }
  },
  {
   "cell_type": "code",
   "execution_count": 32,
   "outputs": [
    {
     "data": {
      "text/plain": "99568"
     },
     "execution_count": 32,
     "metadata": {},
     "output_type": "execute_result"
    }
   ],
   "source": [
    "len(decals_dataset[0])"
   ],
   "metadata": {
    "collapsed": false,
    "pycharm": {
     "name": "#%%\n"
    }
   }
  },
  {
   "cell_type": "code",
   "execution_count": 9,
   "outputs": [
    {
     "data": {
      "text/plain": "               ra       dec  redshift              iauname  petro_theta  \\\n50937  225.624158  0.128242  0.086066  J150229.94+000738.5     5.028457   \n50937  225.624158  0.128242  0.086066  J150229.94+000738.5     5.028457   \n\n       petro_th50  petro_th90  elpetro_absmag_r      mag_r  label   func  \n50937    2.127303    6.342862         -21.42352  15.655346      0  train  \n50937    2.127303    6.342862         -21.42352  15.655346      5  train  ",
      "text/html": "<div>\n<style scoped>\n    .dataframe tbody tr th:only-of-type {\n        vertical-align: middle;\n    }\n\n    .dataframe tbody tr th {\n        vertical-align: top;\n    }\n\n    .dataframe thead th {\n        text-align: right;\n    }\n</style>\n<table border=\"1\" class=\"dataframe\">\n  <thead>\n    <tr style=\"text-align: right;\">\n      <th></th>\n      <th>ra</th>\n      <th>dec</th>\n      <th>redshift</th>\n      <th>iauname</th>\n      <th>petro_theta</th>\n      <th>petro_th50</th>\n      <th>petro_th90</th>\n      <th>elpetro_absmag_r</th>\n      <th>mag_r</th>\n      <th>label</th>\n      <th>func</th>\n    </tr>\n  </thead>\n  <tbody>\n    <tr>\n      <th>50937</th>\n      <td>225.624158</td>\n      <td>0.128242</td>\n      <td>0.086066</td>\n      <td>J150229.94+000738.5</td>\n      <td>5.028457</td>\n      <td>2.127303</td>\n      <td>6.342862</td>\n      <td>-21.42352</td>\n      <td>15.655346</td>\n      <td>0</td>\n      <td>train</td>\n    </tr>\n    <tr>\n      <th>50937</th>\n      <td>225.624158</td>\n      <td>0.128242</td>\n      <td>0.086066</td>\n      <td>J150229.94+000738.5</td>\n      <td>5.028457</td>\n      <td>2.127303</td>\n      <td>6.342862</td>\n      <td>-21.42352</td>\n      <td>15.655346</td>\n      <td>5</td>\n      <td>train</td>\n    </tr>\n  </tbody>\n</table>\n</div>"
     },
     "execution_count": 9,
     "metadata": {},
     "output_type": "execute_result"
    }
   ],
   "source": [
    "decals_dataset[0].query(\"ra==225.624158\")"
   ],
   "metadata": {
    "collapsed": false,
    "pycharm": {
     "name": "#%%\n"
    }
   }
  },
  {
   "cell_type": "code",
   "execution_count": 13,
   "outputs": [],
   "source": [
    "ROOT = \"/data/renhaoye/decals_2022/\"  # 根目录\n",
    "FUNC = [\"train\", \"test\", \"valid\"]  # 三类数据都做\n",
    "TAIL = [\".fits\", \"_flipped.fits\", \"_rotated.fits\", \"_shifted.fits\"]  # 数据增强后缀\n",
    "AGMTN = [True, False, False, False, False, False, True]  # 数据增强判断"
   ],
   "metadata": {
    "collapsed": false,
    "pycharm": {
     "name": "#%%\n"
    }
   }
  },
  {
   "cell_type": "code",
   "execution_count": 14,
   "outputs": [],
   "source": [
    "def decals_txt(df_list: list, name):\n",
    "    for idx in range(len(FUNC)):  # 三类数据共三轮，只有第一轮需要数据增强判断\n",
    "        with open(ROOT + \"dataset_txt/\" + name + \"-\" + FUNC[idx] + \".txt\", \"w\") as w:  # 需要输入txt的特征文件名\n",
    "            for i in range(len(df_list[idx])):  # 整个df的循环\n",
    "                label = str(df_list[idx].iloc[i].label)\n",
    "                if SDSS:\n",
    "                    temp = str(df_list[idx].iloc[i].sdss_loc).split(\".fits\")[0].split(\"/\")[-1]\n",
    "                    ra, dec = temp.split(\"_\")\n",
    "                else:\n",
    "                    ra, dec = str(df_list[idx].iloc[i].ra), str(df_list[idx].iloc[i].dec),   # 先拿坐标和标签，这一步仅适用于decals的，sdss匹配的不可以\n",
    "                if AGMTN[int(label)] and idx == 0:\n",
    "                    for tail in TAIL:\n",
    "                        w.write(DATASET_PATH + ra + \"_\" + dec + tail + \" \" + str(label) + \"\\n\")\n",
    "                else:\n",
    "                    w.write(DATASET_PATH + ra + \"_\" + dec + TAIL[0] + \" \" + str(label) +\"\\n\")"
   ],
   "metadata": {
    "collapsed": false,
    "pycharm": {
     "name": "#%%\n"
    }
   }
  },
  {
   "cell_type": "code",
   "execution_count": 15,
   "outputs": [],
   "source": [
    "train, test, valid = sdss_df.query(\"func == 'train'\"), sdss_df.query(\"func == 'test'\"), sdss_df.query(\"func == 'valid'\")"
   ],
   "metadata": {
    "collapsed": false,
    "pycharm": {
     "name": "#%%\n"
    }
   }
  },
  {
   "cell_type": "code",
   "execution_count": 16,
   "outputs": [
    {
     "name": "stdout",
     "output_type": "stream",
     "text": [
      "2283\n",
      "16972\n",
      "18245\n",
      "11842\n",
      "7529\n",
      "9991\n",
      "1122\n"
     ]
    }
   ],
   "source": [
    "\"\"\"去重之后的\"\"\"\n",
    "for i in range(7):\n",
    "    print(len(train.query(\"label == %d\" %i)))"
   ],
   "metadata": {
    "collapsed": false,
    "pycharm": {
     "name": "#%%\n"
    }
   }
  },
  {
   "cell_type": "code",
   "execution_count": 9,
   "outputs": [
    {
     "name": "stdout",
     "output_type": "stream",
     "text": [
      "2283\n",
      "16972\n",
      "18245\n",
      "11842\n",
      "7529\n",
      "9991\n",
      "1122\n"
     ]
    }
   ],
   "source": [
    "for i in range(7):\n",
    "    print(len(train.query(\"label == %d\" %i)))"
   ],
   "metadata": {
    "collapsed": false,
    "pycharm": {
     "name": "#%%\n"
    }
   }
  },
  {
   "cell_type": "code",
   "execution_count": 16,
   "outputs": [],
   "source": [
    "\"\"\"\n",
    "数据增强、拉伸过、无恒星蒙版\n",
    "\"\"\"\n",
    "SDSS = False\n",
    "DATASET_PATH = ROOT + \"in_decals/decals_best/\"\n",
    "decals_txt(decals_dataset, \"decals-CLASS_7-BEST\")"
   ],
   "metadata": {
    "collapsed": false,
    "pycharm": {
     "name": "#%%\n"
    }
   }
  },
  {
   "cell_type": "code",
   "execution_count": 17,
   "outputs": [],
   "source": [
    "\"\"\"\n",
    "无数据增强、拉伸过、无恒星蒙版\n",
    "\"\"\"\n",
    "SDSS = False\n",
    "AGMTN = [False, False, False, False, False, False, False]  # 数据增强判断\n",
    "DATASET_PATH = ROOT + \"in_decals/decals_NoAgmtn/\"\n",
    "decals_txt(decals_dataset, \"decals-CLASS_7-NoAgmtn\")"
   ],
   "metadata": {
    "collapsed": false,
    "pycharm": {
     "name": "#%%\n"
    }
   }
  },
  {
   "cell_type": "code",
   "execution_count": 35,
   "outputs": [],
   "source": [
    "\"\"\"\n",
    "数据增强、拉伸过、恒星蒙版\n",
    "\"\"\"\n",
    "SDSS = False\n",
    "AGMTN = [False, False, False, False, False, False, False]  # 数据增强判断\n",
    "DATASET_PATH = ROOT + \"in_decals/decals_masked/\"\n",
    "decals_txt(decals_dataset, \"decals-CLASS_7-masked\")"
   ],
   "metadata": {
    "collapsed": false,
    "pycharm": {
     "name": "#%%\n"
    }
   }
  },
  {
   "cell_type": "code",
   "execution_count": 20,
   "outputs": [],
   "source": [
    "from tqdm import tqdm"
   ],
   "metadata": {
    "collapsed": false,
    "pycharm": {
     "name": "#%%\n"
    }
   }
  },
  {
   "cell_type": "code",
   "execution_count": 36,
   "outputs": [],
   "source": [
    "with open(\"/data/renhaoye/decals_2022/dataset_txt/decals-CLASS_7-masked-train.txt\", \"r\") as r:\n",
    "    w = r.readlines()\n",
    "    for i in range(len(w)):\n",
    "        if not os.path.exists(w[i].split(\" \")[0]):\n",
    "            print((w[i].split(\" \")[0]))"
   ],
   "metadata": {
    "collapsed": false,
    "pycharm": {
     "name": "#%%\n"
    }
   }
  },
  {
   "cell_type": "code",
   "execution_count": 5,
   "outputs": [],
   "source": [
    "\"\"\"\n",
    "BEST全数据增强\n",
    "\"\"\"\n",
    "SDSS = False\n",
    "AGMTN = [True, True, True, True, True, True, True]  # 数据增强判断\n",
    "DATASET_PATH = ROOT + \"in_decals/decals_best/\"\n",
    "decals_txt(decals_dataset, \"decals-CLASS_7-best_allAgmtn\")"
   ],
   "metadata": {
    "collapsed": false,
    "pycharm": {
     "name": "#%%\n"
    }
   }
  },
  {
   "cell_type": "code",
   "execution_count": 19,
   "outputs": [],
   "source": [
    "\"\"\"\n",
    "无数据增强、无拉伸过、无恒星蒙版\n",
    "\"\"\"\n",
    "SDSS = False\n",
    "AGMTN = [False, False, False, False, False, False, False]  # 数据增强判断\n",
    "DATASET_PATH = ROOT + \"in_decals/decals_baseline/\"\n",
    "decals_txt(decals_dataset, \"decals-CLASS_7-baseline\")"
   ],
   "metadata": {
    "collapsed": false,
    "pycharm": {
     "name": "#%%\n"
    }
   }
  },
  {
   "cell_type": "code",
   "execution_count": null,
   "outputs": [],
   "source": [
    "SDSS = True\n",
    "DATASET_PATH = ROOT + \"in_decals/sdss_agmtn_scaled/\"\n",
    "decals_txt(sdss_dataset, \"sdss-CLASS_7-BEST\")"
   ],
   "metadata": {
    "collapsed": false,
    "pycharm": {
     "name": "#%%\n"
    }
   }
  },
  {
   "cell_type": "code",
   "execution_count": 8,
   "outputs": [
    {
     "data": {
      "text/plain": "(357.901193, -0.98241)"
     },
     "execution_count": 8,
     "metadata": {},
     "output_type": "execute_result"
    }
   ],
   "source": [
    "sdss_dataset[2].iloc[1].ra, sdss_dataset[2].iloc[1].dec"
   ],
   "metadata": {
    "collapsed": false,
    "pycharm": {
     "name": "#%%\n"
    }
   }
  },
  {
   "cell_type": "code",
   "execution_count": 58,
   "outputs": [
    {
     "name": "stdout",
     "output_type": "stream",
     "text": [
      "[3384, 24737, 26559, 17685, 11540, 14813, 1680]\n"
     ]
    }
   ],
   "source": [
    "num = []\n",
    "for i in range(7):\n",
    "    num.append(len(decals_df.query(\"func == 'train' and label == %s\" % str(i))))\n",
    "print(num)"
   ],
   "metadata": {
    "collapsed": false,
    "pycharm": {
     "name": "#%%\n"
    }
   }
  },
  {
   "cell_type": "code",
   "execution_count": 20,
   "outputs": [
    {
     "ename": "FileNotFoundError",
     "evalue": "[Errno 2] No such file or directory: '/data/renhaoye/decals_2022/in_decals/decals_baseline/'",
     "output_type": "error",
     "traceback": [
      "\u001B[0;31m---------------------------------------------------------------------------\u001B[0m",
      "\u001B[0;31mFileNotFoundError\u001B[0m                         Traceback (most recent call last)",
      "Input \u001B[0;32mIn [20]\u001B[0m, in \u001B[0;36m<cell line: 1>\u001B[0;34m()\u001B[0m\n\u001B[0;32m----> 1\u001B[0m c \u001B[38;5;241m=\u001B[39m \u001B[43mos\u001B[49m\u001B[38;5;241;43m.\u001B[39;49m\u001B[43mlistdir\u001B[49m\u001B[43m(\u001B[49m\u001B[38;5;124;43m\"\u001B[39;49m\u001B[38;5;124;43m/data/renhaoye/decals_2022/in_decals/decals_baseline/\u001B[39;49m\u001B[38;5;124;43m\"\u001B[39;49m\u001B[43m)\u001B[49m\n\u001B[1;32m      2\u001B[0m a \u001B[38;5;241m=\u001B[39m c\u001B[38;5;241m.\u001B[39msort()\n",
      "\u001B[0;31mFileNotFoundError\u001B[0m: [Errno 2] No such file or directory: '/data/renhaoye/decals_2022/in_decals/decals_baseline/'"
     ]
    }
   ],
   "source": [
    "c = os.listdir(\"/data/renhaoye/decals_2022/in_decals/decals_baseline/\")\n",
    "a = c.sort()"
   ],
   "metadata": {
    "collapsed": false,
    "pycharm": {
     "name": "#%%\n"
    }
   }
  },
  {
   "cell_type": "code",
   "execution_count": 14,
   "outputs": [
    {
     "data": {
      "text/plain": "      sdss_ra   sdss_dec          ra        dec  redshift  \\\n0  190.389330  12.412536  190.389350  12.412523  0.095130   \n1  150.776340  13.091443  150.776372  13.091446  0.084145   \n2  155.325830   9.407741  155.325840   9.407750  0.071703   \n3  145.393033  13.637970  145.393076  13.637963  0.127877   \n4  337.545973  -0.153992  337.545979  -0.153999  0.088534   \n\n               iauname  petro_theta  petro_th50  petro_th90  elpetro_absmag_r  \\\n0  J124133.43+122445.1     5.648035    2.633897    7.190163        -20.850252   \n1  J100306.31+130529.1     7.833712    3.841845    8.523943        -21.379004   \n2  J102118.20+092427.8     7.674768    3.647288   11.196910        -20.806263   \n3  J094134.33+133816.6    12.730249    5.135739   15.805613        -21.242468   \n4  J223011.03-000914.3     5.956107    3.149063    5.898870        -20.838923   \n\n       mag_r  label   func                                           sdss_loc  \n0  16.369423      0  train  /data/renhaoye/sdss_dr7_decals_overlap/scaled/...  \n1  15.812620      0  train  /data/renhaoye/sdss_dr7_decals_overlap/scaled/...  \n2  15.722494      0  train  /data/renhaoye/sdss_dr7_decals_overlap/scaled/...  \n3  17.109924      0  train  /data/renhaoye/sdss_dr7_decals_overlap/scaled/...  \n4  16.518898      0  train  /data/renhaoye/sdss_dr7_decals_overlap/scaled/...  ",
      "text/html": "<div>\n<style scoped>\n    .dataframe tbody tr th:only-of-type {\n        vertical-align: middle;\n    }\n\n    .dataframe tbody tr th {\n        vertical-align: top;\n    }\n\n    .dataframe thead th {\n        text-align: right;\n    }\n</style>\n<table border=\"1\" class=\"dataframe\">\n  <thead>\n    <tr style=\"text-align: right;\">\n      <th></th>\n      <th>sdss_ra</th>\n      <th>sdss_dec</th>\n      <th>ra</th>\n      <th>dec</th>\n      <th>redshift</th>\n      <th>iauname</th>\n      <th>petro_theta</th>\n      <th>petro_th50</th>\n      <th>petro_th90</th>\n      <th>elpetro_absmag_r</th>\n      <th>mag_r</th>\n      <th>label</th>\n      <th>func</th>\n      <th>sdss_loc</th>\n    </tr>\n  </thead>\n  <tbody>\n    <tr>\n      <th>0</th>\n      <td>190.389330</td>\n      <td>12.412536</td>\n      <td>190.389350</td>\n      <td>12.412523</td>\n      <td>0.095130</td>\n      <td>J124133.43+122445.1</td>\n      <td>5.648035</td>\n      <td>2.633897</td>\n      <td>7.190163</td>\n      <td>-20.850252</td>\n      <td>16.369423</td>\n      <td>0</td>\n      <td>train</td>\n      <td>/data/renhaoye/sdss_dr7_decals_overlap/scaled/...</td>\n    </tr>\n    <tr>\n      <th>1</th>\n      <td>150.776340</td>\n      <td>13.091443</td>\n      <td>150.776372</td>\n      <td>13.091446</td>\n      <td>0.084145</td>\n      <td>J100306.31+130529.1</td>\n      <td>7.833712</td>\n      <td>3.841845</td>\n      <td>8.523943</td>\n      <td>-21.379004</td>\n      <td>15.812620</td>\n      <td>0</td>\n      <td>train</td>\n      <td>/data/renhaoye/sdss_dr7_decals_overlap/scaled/...</td>\n    </tr>\n    <tr>\n      <th>2</th>\n      <td>155.325830</td>\n      <td>9.407741</td>\n      <td>155.325840</td>\n      <td>9.407750</td>\n      <td>0.071703</td>\n      <td>J102118.20+092427.8</td>\n      <td>7.674768</td>\n      <td>3.647288</td>\n      <td>11.196910</td>\n      <td>-20.806263</td>\n      <td>15.722494</td>\n      <td>0</td>\n      <td>train</td>\n      <td>/data/renhaoye/sdss_dr7_decals_overlap/scaled/...</td>\n    </tr>\n    <tr>\n      <th>3</th>\n      <td>145.393033</td>\n      <td>13.637970</td>\n      <td>145.393076</td>\n      <td>13.637963</td>\n      <td>0.127877</td>\n      <td>J094134.33+133816.6</td>\n      <td>12.730249</td>\n      <td>5.135739</td>\n      <td>15.805613</td>\n      <td>-21.242468</td>\n      <td>17.109924</td>\n      <td>0</td>\n      <td>train</td>\n      <td>/data/renhaoye/sdss_dr7_decals_overlap/scaled/...</td>\n    </tr>\n    <tr>\n      <th>4</th>\n      <td>337.545973</td>\n      <td>-0.153992</td>\n      <td>337.545979</td>\n      <td>-0.153999</td>\n      <td>0.088534</td>\n      <td>J223011.03-000914.3</td>\n      <td>5.956107</td>\n      <td>3.149063</td>\n      <td>5.898870</td>\n      <td>-20.838923</td>\n      <td>16.518898</td>\n      <td>0</td>\n      <td>train</td>\n      <td>/data/renhaoye/sdss_dr7_decals_overlap/scaled/...</td>\n    </tr>\n  </tbody>\n</table>\n</div>"
     },
     "execution_count": 14,
     "metadata": {},
     "output_type": "execute_result"
    }
   ],
   "source": [
    "sdss_dataset[0].head()"
   ],
   "metadata": {
    "collapsed": false,
    "pycharm": {
     "name": "#%%\n"
    }
   }
  },
  {
   "cell_type": "code",
   "execution_count": 27,
   "outputs": [],
   "source": [
    "from astropy.io import fits\n",
    "from astropy.wcs import WCS"
   ],
   "metadata": {
    "collapsed": false,
    "pycharm": {
     "name": "#%%\n"
    }
   }
  },
  {
   "cell_type": "code",
   "execution_count": 28,
   "outputs": [],
   "source": [
    "with fits.open(\"/data/renhaoye/sdss_dr7_decals_overlap/scaled/190.38933_12.412536.fits\") as hdul:\n",
    "    wcs = WCS(hdul[0].header)"
   ],
   "metadata": {
    "collapsed": false,
    "pycharm": {
     "name": "#%%\n"
    }
   }
  },
  {
   "cell_type": "code",
   "execution_count": 37,
   "outputs": [
    {
     "ename": "TypeError",
     "evalue": "WCS projection has 3 dimensions, so expected 2 (an Nx3 array and the origin argument) or 4 arguments (the position in each dimension, and the origin argument). Instead, 0 arguments were given.",
     "output_type": "error",
     "traceback": [
      "\u001B[0;31m---------------------------------------------------------------------------\u001B[0m",
      "\u001B[0;31mTypeError\u001B[0m                                 Traceback (most recent call last)",
      "Input \u001B[0;32mIn [37]\u001B[0m, in \u001B[0;36m<cell line: 1>\u001B[0;34m()\u001B[0m\n\u001B[0;32m----> 1\u001B[0m \u001B[43mwcs\u001B[49m\u001B[38;5;241;43m.\u001B[39;49m\u001B[43mwcs_pix2world\u001B[49m\u001B[43m(\u001B[49m\u001B[43m)\u001B[49m\n",
      "File \u001B[0;32m~/miniconda3/envs/decals/lib/python3.8/site-packages/astropy/wcs/wcs.py:1426\u001B[0m, in \u001B[0;36mWCS.wcs_pix2world\u001B[0;34m(self, *args, **kwargs)\u001B[0m\n\u001B[1;32m   1424\u001B[0m \u001B[38;5;28;01mif\u001B[39;00m \u001B[38;5;28mself\u001B[39m\u001B[38;5;241m.\u001B[39mwcs \u001B[38;5;129;01mis\u001B[39;00m \u001B[38;5;28;01mNone\u001B[39;00m:\n\u001B[1;32m   1425\u001B[0m     \u001B[38;5;28;01mraise\u001B[39;00m \u001B[38;5;167;01mValueError\u001B[39;00m(\u001B[38;5;124m\"\u001B[39m\u001B[38;5;124mNo basic WCS settings were created.\u001B[39m\u001B[38;5;124m\"\u001B[39m)\n\u001B[0;32m-> 1426\u001B[0m \u001B[38;5;28;01mreturn\u001B[39;00m \u001B[38;5;28;43mself\u001B[39;49m\u001B[38;5;241;43m.\u001B[39;49m\u001B[43m_array_converter\u001B[49m\u001B[43m(\u001B[49m\n\u001B[1;32m   1427\u001B[0m \u001B[43m    \u001B[49m\u001B[38;5;28;43;01mlambda\u001B[39;49;00m\u001B[43m \u001B[49m\u001B[43mxy\u001B[49m\u001B[43m,\u001B[49m\u001B[43m \u001B[49m\u001B[43mo\u001B[49m\u001B[43m:\u001B[49m\u001B[43m \u001B[49m\u001B[38;5;28;43mself\u001B[39;49m\u001B[38;5;241;43m.\u001B[39;49m\u001B[43mwcs\u001B[49m\u001B[38;5;241;43m.\u001B[39;49m\u001B[43mp2s\u001B[49m\u001B[43m(\u001B[49m\u001B[43mxy\u001B[49m\u001B[43m,\u001B[49m\u001B[43m \u001B[49m\u001B[43mo\u001B[49m\u001B[43m)\u001B[49m\u001B[43m[\u001B[49m\u001B[38;5;124;43m'\u001B[39;49m\u001B[38;5;124;43mworld\u001B[39;49m\u001B[38;5;124;43m'\u001B[39;49m\u001B[43m]\u001B[49m\u001B[43m,\u001B[49m\n\u001B[1;32m   1428\u001B[0m \u001B[43m    \u001B[49m\u001B[38;5;124;43m'\u001B[39;49m\u001B[38;5;124;43moutput\u001B[39;49m\u001B[38;5;124;43m'\u001B[39;49m\u001B[43m,\u001B[49m\u001B[43m \u001B[49m\u001B[38;5;241;43m*\u001B[39;49m\u001B[43margs\u001B[49m\u001B[43m,\u001B[49m\u001B[43m \u001B[49m\u001B[38;5;241;43m*\u001B[39;49m\u001B[38;5;241;43m*\u001B[39;49m\u001B[43mkwargs\u001B[49m\u001B[43m)\u001B[49m\n",
      "File \u001B[0;32m~/miniconda3/envs/decals/lib/python3.8/site-packages/astropy/wcs/wcs.py:1345\u001B[0m, in \u001B[0;36mWCS._array_converter\u001B[0;34m(self, func, sky, ra_dec_order, *args)\u001B[0m\n\u001B[1;32m   1339\u001B[0m         \u001B[38;5;28;01mraise\u001B[39;00m \u001B[38;5;167;01mTypeError\u001B[39;00m(\n\u001B[1;32m   1340\u001B[0m             \u001B[38;5;124m\"\u001B[39m\u001B[38;5;124mWhen providing more than two arguments, they must be \u001B[39m\u001B[38;5;124m\"\u001B[39m \u001B[38;5;241m+\u001B[39m\n\u001B[1;32m   1341\u001B[0m             \u001B[38;5;124m\"\u001B[39m\u001B[38;5;124ma 1-D array for each axis, followed by an origin.\u001B[39m\u001B[38;5;124m\"\u001B[39m)\n\u001B[1;32m   1343\u001B[0m     \u001B[38;5;28;01mreturn\u001B[39;00m _return_list_of_arrays(axes, origin)\n\u001B[0;32m-> 1345\u001B[0m \u001B[38;5;28;01mraise\u001B[39;00m \u001B[38;5;167;01mTypeError\u001B[39;00m(\n\u001B[1;32m   1346\u001B[0m     \u001B[38;5;124m\"\u001B[39m\u001B[38;5;124mWCS projection has \u001B[39m\u001B[38;5;132;01m{0}\u001B[39;00m\u001B[38;5;124m dimensions, so expected 2 (an Nx\u001B[39m\u001B[38;5;132;01m{0}\u001B[39;00m\u001B[38;5;124m array \u001B[39m\u001B[38;5;124m\"\u001B[39m\n\u001B[1;32m   1347\u001B[0m     \u001B[38;5;124m\"\u001B[39m\u001B[38;5;124mand the origin argument) or \u001B[39m\u001B[38;5;132;01m{1}\u001B[39;00m\u001B[38;5;124m arguments (the position in each \u001B[39m\u001B[38;5;124m\"\u001B[39m\n\u001B[1;32m   1348\u001B[0m     \u001B[38;5;124m\"\u001B[39m\u001B[38;5;124mdimension, and the origin argument). Instead, \u001B[39m\u001B[38;5;132;01m{2}\u001B[39;00m\u001B[38;5;124m arguments were \u001B[39m\u001B[38;5;124m\"\u001B[39m\n\u001B[1;32m   1349\u001B[0m     \u001B[38;5;124m\"\u001B[39m\u001B[38;5;124mgiven.\u001B[39m\u001B[38;5;124m\"\u001B[39m\u001B[38;5;241m.\u001B[39mformat(\n\u001B[1;32m   1350\u001B[0m         \u001B[38;5;28mself\u001B[39m\u001B[38;5;241m.\u001B[39mnaxis, \u001B[38;5;28mself\u001B[39m\u001B[38;5;241m.\u001B[39mnaxis \u001B[38;5;241m+\u001B[39m \u001B[38;5;241m1\u001B[39m, \u001B[38;5;28mlen\u001B[39m(args)))\n",
      "\u001B[0;31mTypeError\u001B[0m: WCS projection has 3 dimensions, so expected 2 (an Nx3 array and the origin argument) or 4 arguments (the position in each dimension, and the origin argument). Instead, 0 arguments were given."
     ]
    }
   ],
   "source": [
    "wcs.wcs_pix2world()"
   ],
   "metadata": {
    "collapsed": false,
    "pycharm": {
     "name": "#%%\n"
    }
   }
  },
  {
   "cell_type": "code",
   "execution_count": null,
   "outputs": [],
   "source": [],
   "metadata": {
    "collapsed": false,
    "pycharm": {
     "name": "#%%\n"
    }
   }
  }
 ],
 "metadata": {
  "kernelspec": {
   "display_name": "Python 3",
   "language": "python",
   "name": "python3"
  },
  "language_info": {
   "codemirror_mode": {
    "name": "ipython",
    "version": 2
   },
   "file_extension": ".py",
   "mimetype": "text/x-python",
   "name": "python",
   "nbconvert_exporter": "python",
   "pygments_lexer": "ipython2",
   "version": "2.7.6"
  }
 },
 "nbformat": 4,
 "nbformat_minor": 0
}