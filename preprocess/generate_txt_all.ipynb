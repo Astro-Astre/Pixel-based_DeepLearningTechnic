{
 "cells": [
  {
   "cell_type": "code",
   "execution_count": 1,
   "metadata": {
    "collapsed": true
   },
   "outputs": [],
   "source": [
    "import pandas as pd\n",
    "import os\n",
    "import matplotlib.pyplot as plt\n",
    "from sklearn.model_selection import train_test_split\n",
    "%matplotlib inline"
   ]
  },
  {
   "cell_type": "code",
   "execution_count": 2,
   "outputs": [],
   "source": [
    "# df_auto = pd.read_csv(\"/data/renhaoye/decals_2022/fits.csv\")"
   ],
   "metadata": {
    "collapsed": false,
    "pycharm": {
     "name": "#%%\n"
    }
   }
  },
  {
   "cell_type": "code",
   "execution_count": 3,
   "outputs": [],
   "source": [
    "# threshold = 0.5\n",
    "# threshold2 = 0.6\n",
    "# merger = major = df_auto.query('merging_minor_disturbance_fraction > %f '\n",
    "#                                '| merging_major_disturbance_fraction > %f '\n",
    "#                                '| merging_merger_fraction > %f '\n",
    "#                                % (threshold2, threshold2, threshold2))\n",
    "# smoothRounded = df_auto.query('smooth_or_featured_smooth_fraction >  %f '\n",
    "#                        '& how_rounded_round_fraction > %f' % (0.7, 0.8))\n",
    "# smoothInBetween = df_auto.query('smooth_or_featured_smooth_fraction >  %f '\n",
    "#                        '& how_rounded_in_between_fraction > %f' % (0.7, 0.85))\n",
    "# smoothCigarShaped = df_auto.query('smooth_or_featured_smooth_fraction > %f '\n",
    "#                                   '& how_rounded_cigar_shaped_fraction > %f' % (threshold, threshold2))\n",
    "# edgeOn = df_auto.query('smooth_or_featured_featured_or_disk_fraction > %f '\n",
    "#                             '& disk_edge_on_yes_fraction > %f'\n",
    "#                             % (threshold, 0.7))\n",
    "# diskNoBar = df_auto.query('smooth_or_featured_featured_or_disk_fraction > %f '\n",
    "#                                 '& disk_edge_on_no_fraction > %f '\n",
    "#                                 '& bar_no_fraction > %f '\n",
    "#                                 % (threshold, threshold, 0.7))\n",
    "# diskStrongBar = df_auto.query('smooth_or_featured_featured_or_disk_fraction > %f '\n",
    "#                                 '& disk_edge_on_no_fraction > %f '\n",
    "#                                 '&bar_strong_fraction > %f '\n",
    "#                                 % (threshold, threshold, threshold2))\n",
    "# merger_train, merger_test = train_test_split(merger, test_size=0.1, random_state=1926)\n",
    "# merger_train, merger_valid = train_test_split(merger_train, test_size=0.1, random_state=1926)\n",
    "#\n",
    "# smoothRounded_train, smoothRounded_test = train_test_split(smoothRounded, test_size=0.1, random_state=1926)\n",
    "# smoothRounded_train, smoothRounded_valid = train_test_split(smoothRounded_train, test_size=0.1, random_state=1926)\n",
    "#\n",
    "# smoothInBetween_train, smoothInBetween_test = train_test_split(smoothInBetween, test_size=0.1, random_state=1926)\n",
    "# smoothInBetween_train, smoothInBetween_valid = train_test_split(smoothInBetween_train, test_size=0.1, random_state=1926)\n",
    "#\n",
    "# smoothCigarShaped_train, smoothCigarShaped_test = train_test_split(smoothCigarShaped, test_size=0.1, random_state=1926)\n",
    "# smoothCigarShaped_train, smoothCigarShaped_valid = train_test_split(smoothCigarShaped_train, test_size=0.1, random_state=1926)\n",
    "#\n",
    "# edgeOn_train, edgeOn_test = train_test_split(edgeOn, test_size=0.1, random_state=1926)\n",
    "# edgeOn_train, edgeOn_valid = train_test_split(edgeOn_train, test_size=0.1, random_state=1926)\n",
    "#\n",
    "# diskNoBar_train, diskNoBar_test = train_test_split(diskNoBar, test_size=0.1, random_state=1926)\n",
    "# diskNoBar_train, diskNoBar_valid = train_test_split(diskNoBar_train, test_size=0.1, random_state=1926)\n",
    "#\n",
    "# diskStrongBar_train, diskStrongBar_test = train_test_split(diskStrongBar, test_size=0.1, random_state=1926)\n",
    "# diskStrongBar_train, diskStrongBar_valid = train_test_split(diskStrongBar_train, test_size=0.1, random_state=1926)"
   ],
   "metadata": {
    "collapsed": false,
    "pycharm": {
     "name": "#%%\n"
    }
   }
  },
  {
   "cell_type": "code",
   "execution_count": 47,
   "outputs": [],
   "source": [
    "decals_df = pd.read_csv(\"/data/renhaoye/decals_2022/dataset_decals.csv\", index_col=0)\n",
    "sdss_df = pd.read_csv(\"/data/renhaoye/decals_2022/dataset_sdss_match_decals.csv\", index_col=0)\n",
    "\n",
    "decals_dataset = [decals_df.query(\"func == 'train'\"), decals_df.query(\"func == 'test'\"), decals_df.query(\"func == 'valid'\")]\n",
    "sdss_dataset = [sdss_df.query(\"func == 'train'\"), sdss_df.query(\"func == 'test'\"), sdss_df.query(\"func == 'valid'\")]"
   ],
   "metadata": {
    "collapsed": false,
    "pycharm": {
     "name": "#%%\n"
    }
   }
  },
  {
   "cell_type": "code",
   "execution_count": 48,
   "outputs": [],
   "source": [
    "ROOT = \"/data/renhaoye/decals_2022/\"  # 根目录\n",
    "FUNC = [\"train\", \"test\", \"valid\"]  # 三类数据都做\n",
    "TAIL = [\".fits\", \"_flipped.fits\", \"_rotated.fits\", \"_shifted.fits\"]  # 数据增强后缀\n",
    "AGMTN = [True, False, False, False, False, False, True]  # 数据增强判断"
   ],
   "metadata": {
    "collapsed": false,
    "pycharm": {
     "name": "#%%\n"
    }
   }
  },
  {
   "cell_type": "code",
   "execution_count": 49,
   "outputs": [],
   "source": [
    "def decals_txt(df_list: list, name):\n",
    "    for idx in range(len(FUNC)):  # 三类数据共三轮，只有第一轮需要数据增强判断\n",
    "        with open(ROOT + \"dataset_txt/\" + name + \"-\" + FUNC[idx] + \".txt\", \"w\") as w:  # 需要输入txt的特征文件名\n",
    "            for i in range(len(df_list[idx])):  # 整个df的循环\n",
    "                label = str(df_list[idx].iloc[i].label)\n",
    "                if SDSS:\n",
    "                    temp = str(df_list[idx].iloc[i].sdss_loc).split(\".fits\")[0].split(\"/\")[-1]\n",
    "                    ra, dec = temp.split(\"_\")\n",
    "                else:\n",
    "                    ra, dec = str(df_list[idx].iloc[i].ra), str(df_list[idx].iloc[i].dec),   # 先拿坐标和标签，这一步仅适用于decals的，sdss匹配的不可以\n",
    "                if AGMTN[int(label)] and idx == 0:\n",
    "                    for tail in TAIL:\n",
    "                        w.write(DATASET_PATH + ra + \"_\" + dec + tail + \" \" + str(label) + \"\\n\")\n",
    "                else:\n",
    "                    w.write(DATASET_PATH + ra + \"_\" + dec + TAIL[0] + \" \" + str(label) +\"\\n\")"
   ],
   "metadata": {
    "collapsed": false,
    "pycharm": {
     "name": "#%%\n"
    }
   }
  },
  {
   "cell_type": "code",
   "execution_count": 52,
   "outputs": [],
   "source": [
    "SDSS = False\n",
    "DATASET_PATH = ROOT + \"in_decals/decals_agmtn_scaled/\"\n",
    "decals_txt(decals_dataset, \"decals-CLASS_7-BEST\")"
   ],
   "metadata": {
    "collapsed": false,
    "pycharm": {
     "name": "#%%\n"
    }
   }
  },
  {
   "cell_type": "code",
   "execution_count": 51,
   "outputs": [],
   "source": [
    "SDSS = True\n",
    "DATASET_PATH = ROOT + \"in_decals/sdss_agmtn_scaled/\"\n",
    "decals_txt(sdss_dataset, \"sdss-CLASS_7-BEST\")"
   ],
   "metadata": {
    "collapsed": false,
    "pycharm": {
     "name": "#%%\n"
    }
   }
  },
  {
   "cell_type": "code",
   "execution_count": 58,
   "outputs": [
    {
     "name": "stdout",
     "output_type": "stream",
     "text": [
      "[3384, 24737, 26559, 17685, 11540, 14813, 1680]\n"
     ]
    }
   ],
   "source": [
    "num = []\n",
    "for i in range(7):\n",
    "    num.append(len(decals_df.query(\"func == 'train' and label == %s\" % str(i))))\n",
    "print(num)"
   ],
   "metadata": {
    "collapsed": false,
    "pycharm": {
     "name": "#%%\n"
    }
   }
  },
  {
   "cell_type": "code",
   "execution_count": null,
   "outputs": [],
   "source": [],
   "metadata": {
    "collapsed": false,
    "pycharm": {
     "name": "#%%\n"
    }
   }
  }
 ],
 "metadata": {
  "kernelspec": {
   "display_name": "Python 3",
   "language": "python",
   "name": "python3"
  },
  "language_info": {
   "codemirror_mode": {
    "name": "ipython",
    "version": 2
   },
   "file_extension": ".py",
   "mimetype": "text/x-python",
   "name": "python",
   "nbconvert_exporter": "python",
   "pygments_lexer": "ipython2",
   "version": "2.7.6"
  }
 },
 "nbformat": 4,
 "nbformat_minor": 0
}