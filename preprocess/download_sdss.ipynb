{
 "cells": [
  {
   "cell_type": "code",
   "execution_count": 1,
   "metadata": {
    "collapsed": true
   },
   "outputs": [],
   "source": [
    "import pandas as pd\n",
    "import os"
   ]
  },
  {
   "cell_type": "code",
   "execution_count": 2,
   "outputs": [],
   "source": [
    "sdss = pd.read_csv(\"/data/renhaoye/decals_2022/sdss_in_decals.csv\")\n",
    "sdss.info()"
   ],
   "metadata": {
    "collapsed": false,
    "pycharm": {
     "name": "#%%\n"
    }
   }
  },
  {
   "cell_type": "code",
   "execution_count": 4,
   "outputs": [],
   "source": [
    "head = \"http://das.sdss.org/raw/\"\n",
    "urls = []\n",
    "bands = [\"g\", \"r\", \"z\"]\n",
    "for i in range(len(sdss)):\n",
    "    str_filed = str(sdss.iloc[i].field)\n",
    "    if len(str_filed) == 2:\n",
    "        str_filed = \"0\" + str_filed\n",
    "    for band in bands:\n",
    "        tail = \"%d/%d/corr/%d/fpC-00%s-%s%d-0%s.fit.gz\" \\\n",
    "               % (sdss.iloc[i].run, sdss.iloc[i].rerun, sdss.iloc[i].camcol, sdss.iloc[i].run, band, sdss.iloc[i].camcol, str_filed)\n",
    "        urls.append(head + tail)\n",
    "urls=list(set(urls)).sort()"
   ],
   "metadata": {
    "collapsed": false,
    "pycharm": {
     "name": "#%%\n"
    }
   }
  },
  {
   "cell_type": "code",
   "execution_count": 10,
   "outputs": [],
   "source": [
    "with open(\"/data/renhaoye/sdss_dr7_decals_overlap/sdss_urls.lis\", \"w\") as w:\n",
    "    for i in range(len(urls)):\n",
    "        w.write(urls[i] + \"\\n\")"
   ],
   "metadata": {
    "collapsed": false,
    "pycharm": {
     "name": "#%%\n"
    }
   }
  }
 ],
 "metadata": {
  "kernelspec": {
   "display_name": "Python 3",
   "language": "python",
   "name": "python3"
  },
  "language_info": {
   "codemirror_mode": {
    "name": "ipython",
    "version": 2
   },
   "file_extension": ".py",
   "mimetype": "text/x-python",
   "name": "python",
   "nbconvert_exporter": "python",
   "pygments_lexer": "ipython2",
   "version": "2.7.6"
  }
 },
 "nbformat": 4,
 "nbformat_minor": 0
}