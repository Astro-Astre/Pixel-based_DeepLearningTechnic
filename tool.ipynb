{
 "cells": [
  {
   "cell_type": "code",
   "execution_count": 1,
   "metadata": {
    "collapsed": true
   },
   "outputs": [],
   "source": [
    "import os"
   ]
  },
  {
   "cell_type": "code",
   "execution_count": 30,
   "outputs": [],
   "source": [
    "fits_dir = \"/data/renhaoye/decals_2022/in_decals/fits/\"\n",
    "fits_files = os.listdir(fits_dir)\n",
    "fits_files.sort()\n",
    "step = 7000\n",
    "iter = int(len(fits_files) / 7000)\n",
    "for batch in range(iter + 1):\n",
    "    with open(\"/data/renhaoye/decals_2022/decals_poi_7k%d.txt\" % batch, \"w\") as f:\n",
    "        if batch == iter:\n",
    "            for i in range(batch * step, len(fits_files)):\n",
    "                poi = fits_files[i].split(\".fits\")[0]\n",
    "                ra, dec = poi.split(\"_\")\n",
    "                f.write(\"A\" + str(i + 1) + \" \" + str(ra) + \" \" + str(dec) + \"\\n\")\n",
    "        else:\n",
    "            for i in range(batch * step, (batch + 1) * step):\n",
    "                poi = fits_files[i].split(\".fits\")[0]\n",
    "                ra, dec = poi.split(\"_\")\n",
    "                # f.write(str(ra) + \",\" + str(dec) + \",\" + \"1.117866\\n\")\n",
    "                f.write(\"A\" + str(i + 1) + \" \" + str(ra) + \" \" + str(dec) + \"\\n\")"
   ],
   "metadata": {
    "collapsed": false,
    "pycharm": {
     "name": "#%%\n"
    }
   }
  },
  {
   "cell_type": "code",
   "execution_count": 3,
   "outputs": [],
   "source": [
    "import numpy as np\n",
    "import astropy.units as u\n",
    "import astropy\n",
    "from astropy.coordinates import SkyCoord\n",
    "from astropy.wcs import WCS\n",
    "from astropy.io import fits\n",
    "from astroquery.gaia import Gaia\n",
    "import matplotlib.pyplot as plt\n",
    "Gaia.MAIN_GAIA_TABLE = \"gaiaedr3.gaia_source\" # Select early Data Release 3\n",
    "%matplotlib inline"
   ],
   "metadata": {
    "collapsed": false,
    "pycharm": {
     "name": "#%%\n"
    }
   }
  },
  {
   "cell_type": "code",
   "execution_count": 6,
   "outputs": [],
   "source": [
    "PATH = \"/data/renhaoye/decals_2022/\"\n",
    "hdul = fits.open(PATH + \"g.fit\")\n",
    "\n",
    "data = hdul[0].data\n",
    "header = hdul[0].header\n",
    "hdul.close()"
   ],
   "metadata": {
    "collapsed": false,
    "pycharm": {
     "name": "#%%\n"
    }
   }
  },
  {
   "cell_type": "code",
   "execution_count": 9,
   "outputs": [
    {
     "data": {
      "text/plain": "array([[1075, 1068, 1072, ..., 1071, 1066, 1069],\n       [1066, 1059, 1064, ..., 1074, 1074, 1071],\n       [1065, 1073, 1063, ..., 1064, 1064, 1070],\n       ...,\n       [1065, 1064, 1066, ..., 1066, 1074, 1068],\n       [1067, 1073, 1061, ..., 1070, 1068, 1068],\n       [1067, 1061, 1070, ..., 1075, 1068, 1071]], dtype=uint16)"
     },
     "execution_count": 9,
     "metadata": {},
     "output_type": "execute_result"
    }
   ],
   "source": [
    "data"
   ],
   "metadata": {
    "collapsed": false,
    "pycharm": {
     "name": "#%%\n"
    }
   }
  },
  {
   "cell_type": "code",
   "execution_count": 10,
   "outputs": [
    {
     "data": {
      "text/plain": "SIMPLE  =                    T                                                  \nBITPIX  =                   16                                                  \nNAXIS   =                    2                                                  \nNAXIS1  =                 2048                                                  \nNAXIS2  =                 1489                                                  \nBZERO   = 3.27680000000000E+04                                                  \nBSCALE  = 1.00000000000000E+00                                                  \nTAI     =        4583717416.32 / 1st row - Number of seconds since Nov 17 1858  \nRA      =            122.71610 / 1st row - Right ascension of telescope boresigh\nDEC     =            21.318595 / 1st row - Declination of telescope boresight (d\nSPA     =              55.317  / 1st row - Camera col position angle wrt north (\nIPA     =               1.704  / 1st row - Instrument rotator position angle (de\nIPARATE =             -0.0040  / 1st row - Instrument rotator angular velocity (\nAZ      =            296.88412 / 1st row - Azimuth  (encoder) of tele (0=N?) (de\nALT     =            68.516802 / 1st row - Altitude (encoder) of tele        (de\nFOCUS   =           -149.70000 / 1st row - Focus piston (microns?)              \nDATE-OBS= '2004-02-17'         / 1st row - TAI date                             \nTAIHMS  = '06:50:16.32'        / 1st row - TAI time (HH:MM:SS.SS) (TAI-UT = appr\nCOMMENT  TAI,RA,DEC,SPA,IPA,IPARATE,AZ,ALT,FOCUS at reading of col 0, row 0     \nBUNITS  = 'ADUs    '                                                            \nORIGIN  = 'SDSS    '                                                            \nTELESCOP= '2.5m    '                                                            \nTIMESYS = 'TAI     '                                                            \nRUN     =                 4469 / Run number                                     \nFRAME   =                   81 / Frame sequence number within the run           \nCCDLOC  =                   52 / Survey location of CCD (e.g., rowCol)          \nSTRIPE  =                   26 / Stripe index number (23 <--> eta=0)            \nSTRIP   = 'N       '           / Strip in the stripe being tracked.             \nFLAVOR  = 'science '           / Flavor of this run                             \nOBSERVER= 'jurek   '           / Observer                                       \nSYS_SCN = 'mean    '           / System of the scan great circle (e.g., mean)   \nEQNX_SCN=           2000.00    / Equinox of the scan great circle. (years)      \nNODE    =           95.00000   / RA of the great circle's ascending node (deg)  \nINCL    =           40.00000   / Great circle's inclination wrt cel. eq. (deg)  \nXBORE   =           -22.74     / Boresight x offset from the array center (mm)  \nYBORE   =           0.00       / Boresight x offset from the array center (mm)  \nOBJECT  = '26 N    '           / e.g., 'stripe 50.6 degrees, north strip'       \nEXPTIME = '53.907456'          / Exposure time (seconds)                        \nSYSTEM  = 'FK5     '           / System of the TCC coordinates (e.g., mean)     \nCCDMODE = 'DRIFT   '           / 'STARING' or 'DRIFT'                           \nC_OBS   =                26322 / CCD row clock rate (usec/row)                  \nCOLBIN  =                    1 / Binning factor perpendicular to the columns    \nROWBIN  =                    1 / Binning factor perpendicular to the rows       \nDAVERS  = 'v14_47  '           / Version of DA software                         \nSCDMETHD= 'sqrtDynamic'        / scdMethod                                      \nSCDWIDTH=                 1280 / scdDisplayWidth                                \nSCDDECMF=                    1 / scdDecimateFactor                              \nSCDOFSET=                  410 / scdDisplayOffset                               \nSCDDYNTH=                  -19 / scdDynamicThresh                               \nSCDSTTHL=                 1045 / scdStaticThreshL                               \nSCDSTTHR=                 1042 / scdStaticThreshR                               \nSCDREDSZ=                  478 / scdReduceSize                                  \nSCDSKYL =                    0 / scdSkyLeft                                     \nSCDSKYR =                    0 / scdSkyRight                                    \nCOMMENT  CCD-specific parameters                                                \nCAMROW  =                    5 / Row in the imaging camera                      \nBADLINES=                    0 / Number of bad lines in frame                   \nEQUINOX = 2.00000000000000E+03                                                  \nSOFTBIAS=                 1000 / software \"bias\" added to all DN                \nBUNIT   = 'DNs     '                                                            \nFILTER  = 'g       '           / filter used                                    \nCAMCOL  =                    2 / column in the imaging camera                   \nVERSION = 'v5_4_28 '                                                            \nDERV_VER= 'v8_16   '                                                            \nASTR_VER= 'v5_18   '                                                            \nASTRO_ID= '2004-02-20T12:30:08 27102'                                           \nBIAS_ID = 'PS      '                                                            \nFRAME_ID= '2005-12-12T11:40:07 13231'                                           \nKO_VER  = 'devel   '                                                            \nPS_ID   = '2004-02-19T16:37:01 19211 camCol 2'                                  \nATVSN   = 'v5_18   '           / ASTROTOOLS version tag                         \nRADECSYS= 'ICRS    '           / International Celestial Ref. System            \nCTYPE1  = 'RA---TAN'                                                            \nCTYPE2  = 'DEC--TAN'                                                            \nCUNIT1  = 'deg     '                                                            \nCUNIT2  = 'deg     '                                                            \nCRPIX1  = 1.02450000000000E+03 / Column Pixel Coordinate of Ref. Pixel          \nCRPIX2  = 7.44500000000000E+02 / Row Pixel Coordinate of Ref. Pixel             \nCRVAL1  = 1.22476360990000E+02 / RA at Reference Pixel                          \nCRVAL2  = 2.05271291100000E+01 / DEC at Reference Pixel                         \nCD1_1   = -6.2759788927297E-05 / RA  degrees per column pixel                   \nCD1_2   = 9.03480257081668E-05 / RA  degrees per row pixel                      \nCD2_1   = 9.03173876953128E-05 / DEC degrees per column pixel                   \nCD2_2   = 6.27544287634411E-05 / DEC degrees per row pixel                      "
     },
     "execution_count": 10,
     "metadata": {},
     "output_type": "execute_result"
    }
   ],
   "source": [
    "header"
   ],
   "metadata": {
    "collapsed": false,
    "pycharm": {
     "name": "#%%\n"
    }
   }
  },
  {
   "cell_type": "code",
   "execution_count": null,
   "outputs": [],
   "source": [],
   "metadata": {
    "collapsed": false,
    "pycharm": {
     "name": "#%%\n"
    }
   }
  },
  {
   "cell_type": "code",
   "execution_count": null,
   "outputs": [],
   "source": [
    "# 122.541511   20.486553"
   ],
   "metadata": {
    "collapsed": false,
    "pycharm": {
     "name": "#%%\n"
    }
   }
  }
 ],
 "metadata": {
  "kernelspec": {
   "display_name": "Python 3",
   "language": "python",
   "name": "python3"
  },
  "language_info": {
   "codemirror_mode": {
    "name": "ipython",
    "version": 2
   },
   "file_extension": ".py",
   "mimetype": "text/x-python",
   "name": "python",
   "nbconvert_exporter": "python",
   "pygments_lexer": "ipython2",
   "version": "2.7.6"
  }
 },
 "nbformat": 4,
 "nbformat_minor": 0
}