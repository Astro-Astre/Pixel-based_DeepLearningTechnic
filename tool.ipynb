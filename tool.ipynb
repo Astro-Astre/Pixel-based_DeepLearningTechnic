{
 "cells": [
  {
   "cell_type": "code",
   "execution_count": null,
   "metadata": {
    "collapsed": true,
    "pycharm": {
     "name": "#%%\n"
    }
   },
   "outputs": [],
   "source": [
    "import os"
   ]
  },
  {
   "cell_type": "markdown",
   "source": [
    "http://cas.sdss.org/dr7/en/tools/crossid/crossid.asp\n",
    "上述网站可以根据ra，dec返回run，rerun，camcol，field信息，这些信息可以根据对应在http://das.sdss.org/raw/中对应下载到\n",
    "但是上述网站一次只能上传100KB的文件，经测试，200KB是最大承受范围，下面用来切割坐标列表，7000一组"
   ],
   "metadata": {
    "collapsed": false
   }
  },
  {
   "cell_type": "code",
   "execution_count": null,
   "outputs": [],
   "source": [
    "fits_dir = \"/data/renhaoye/decals_2022/in_decals/fits/\"\n",
    "fits_files = os.listdir(fits_dir)\n",
    "fits_files.sort()\n",
    "step = 7000\n",
    "iter = int(len(fits_files) / 7000)\n",
    "for batch in range(iter + 1):\n",
    "    with open(\"/data/renhaoye/decals_2022/decals_poi_7k%d.txt\" % batch, \"w\") as f:\n",
    "        if batch == iter:\n",
    "            for i in range(batch * step, len(fits_files)):\n",
    "                poi = fits_files[i].split(\".fits\")[0]\n",
    "                ra, dec = poi.split(\"_\")\n",
    "                f.write(\"A\" + str(i + 1) + \" \" + str(ra) + \" \" + str(dec) + \"\\n\")\n",
    "        else:\n",
    "            for i in range(batch * step, (batch + 1) * step):\n",
    "                poi = fits_files[i].split(\".fits\")[0]\n",
    "                ra, dec = poi.split(\"_\")\n",
    "                # f.write(str(ra) + \",\" + str(dec) + \",\" + \"1.117866\\n\")\n",
    "                f.write(\"A\" + str(i + 1) + \" \" + str(ra) + \" \" + str(dec) + \"\\n\")"
   ],
   "metadata": {
    "collapsed": false,
    "pycharm": {
     "name": "#%%\n"
    }
   }
  },
  {
   "cell_type": "markdown",
   "source": [
    "切割图像"
   ],
   "metadata": {
    "collapsed": false
   }
  },
  {
   "cell_type": "code",
   "execution_count": null,
   "outputs": [],
   "source": [
    "import numpy as np\n",
    "import astropy.units as u\n",
    "import astropy\n",
    "import pandas as pd\n",
    "from astropy.coordinates import SkyCoord\n",
    "from astropy.wcs import WCS\n",
    "from astropy.io import fits\n",
    "from astroquery.gaia import Gaia\n",
    "import matplotlib.pyplot as plt\n",
    "Gaia.MAIN_GAIA_TABLE = \"gaiaedr3.gaia_source\" # Select early Data Release 3\n",
    "%matplotlib inline"
   ],
   "metadata": {
    "collapsed": false,
    "pycharm": {
     "name": "#%%\n"
    }
   }
  },
  {
   "cell_type": "code",
   "execution_count": null,
   "outputs": [],
   "source": [
    "PATH = \"/data/renhaoye/decals_2022/\"\n",
    "hdul = fits.open(PATH + \"g.fit\")\n",
    "\n",
    "data = hdul[0].data\n",
    "header = hdul[0].header\n",
    "wcsobj = WCS(hdul[0].header)\n",
    "hdul.close()"
   ],
   "metadata": {
    "collapsed": false,
    "pycharm": {
     "name": "#%%\n"
    }
   }
  },
  {
   "cell_type": "code",
   "execution_count": null,
   "outputs": [],
   "source": [
    "ra, dec = wcsobj.all_world2pix([[122.541511, 20.486553]], 0)[0]"
   ],
   "metadata": {
    "collapsed": false,
    "pycharm": {
     "name": "#%%\n"
    }
   }
  },
  {
   "cell_type": "code",
   "execution_count": null,
   "outputs": [],
   "source": [
    "sdss = pd.read_csv(\"/data/renhaoye/decals_2022/sdss_in_decals.csv\")"
   ],
   "metadata": {
    "collapsed": false,
    "pycharm": {
     "name": "#%%\n"
    }
   }
  },
  {
   "cell_type": "code",
   "execution_count": null,
   "outputs": [],
   "source": [
    "x = sdss.iloc[1]\n",
    "type(x)"
   ],
   "metadata": {
    "collapsed": false,
    "pycharm": {
     "name": "#%%\n"
    }
   }
  },
  {
   "cell_type": "code",
   "execution_count": null,
   "outputs": [],
   "source": [
    "sdss.info()"
   ],
   "metadata": {
    "collapsed": false,
    "pycharm": {
     "name": "#%%\n"
    }
   }
  },
  {
   "cell_type": "code",
   "execution_count": 172,
   "outputs": [],
   "source": [
    "import warnings\n",
    "warnings.filterwarnings(\"ignore\")\n",
    "class Cut:\n",
    "    def __init__(self, info):\n",
    "        assert type(info)==pd.core.series.Series, \"please input pd.core.series.Series like: df.iloc[index]\"\n",
    "        self.ra = info.ra\n",
    "        self.dec = info.dec\n",
    "        self.run = info.run\n",
    "        self.rerun = info.rerun\n",
    "        self.camcol = info.camcol\n",
    "        self.field = info.field\n",
    "        self.cutout = np.zeros((3, 256, 256))\n",
    "    def __call__(self, *args, **kwargs):\n",
    "        if len(str(self.field)) == 2:\n",
    "            self.filed = \"0\" + self.field\n",
    "        raw_path = \"/data/renhaoye/sdss_dr7_decals_overlap/raw/\"\n",
    "        bands = [\"g\", \"r\", \"z\"]\n",
    "        # files = []\n",
    "        # for band in bands:\n",
    "        #     files.append(raw_path + \"fpC-00%s-%s%d-0%s.fit\" % (self.run, band, self.camcol, self.field))\n",
    "        files = [\"/data/renhaoye/decals_2022/g.fit\", \"/data/renhaoye/decals_2022/r.fit\", \"/data/renhaoye/decals_2022/z.fit\"]\n",
    "        for i in range(len(files)):\n",
    "            with fits.open(files[i]) as hdul:\n",
    "                data = hdul[0].data\n",
    "                wcs = WCS(hdul[0].header)\n",
    "                # x, y = wcs.all_world2pix([[self.ra, self.dec]],0)[0]\n",
    "                y, x = wcs.all_world2pix([[122.541511, 20.486553]], 0)[0]\n",
    "                # assert x == np.nan or y == np.nan, \"source not found in fit\"\n",
    "                x, y = int(x), int(y)\n",
    "                left_upper_x, left_upper_y = x-128, y-128\n",
    "                self.cutout[i] = data[left_upper_x:left_upper_x + 256, left_upper_y:left_upper_y+256]"
   ],
   "metadata": {
    "collapsed": false,
    "pycharm": {
     "name": "#%%\n"
    }
   }
  },
  {
   "cell_type": "code",
   "execution_count": 173,
   "outputs": [
    {
     "name": "stdout",
     "output_type": "stream",
     "text": [
      "[[[1060. 1067. 1068. ... 1060. 1065. 1075.]\n",
      "  [1072. 1068. 1072. ... 1065. 1074. 1067.]\n",
      "  [1061. 1066. 1064. ... 1076. 1068. 1071.]\n",
      "  ...\n",
      "  [1064. 1075. 1066. ... 1074. 1063. 1067.]\n",
      "  [1066. 1068. 1063. ... 1070. 1066. 1064.]\n",
      "  [1061. 1076. 1070. ... 1070. 1068. 1066.]]\n",
      "\n",
      " [[1113. 1105. 1108. ... 1100. 1103. 1107.]\n",
      "  [1113. 1112. 1108. ... 1108. 1101. 1104.]\n",
      "  [1108. 1108. 1109. ... 1106. 1107. 1109.]\n",
      "  ...\n",
      "  [1111. 1112. 1099. ... 1100. 1095. 1114.]\n",
      "  [1100. 1112. 1113. ... 1115. 1111. 1100.]\n",
      "  [1103. 1103. 1108. ... 1112. 1108. 1103.]]\n",
      "\n",
      " [[1105. 1102. 1098. ... 1093. 1089. 1090.]\n",
      "  [1094. 1104. 1101. ... 1103. 1104. 1104.]\n",
      "  [1112. 1101. 1090. ... 1101. 1104. 1101.]\n",
      "  ...\n",
      "  [1103. 1104. 1099. ... 1094. 1101. 1094.]\n",
      "  [1100. 1106. 1105. ... 1105. 1098. 1094.]\n",
      "  [1100. 1101. 1101. ... 1105. 1095. 1092.]]]\n"
     ]
    }
   ],
   "source": [
    "a = Cut(x)\n",
    "a()\n",
    "print(a.cutout)"
   ],
   "metadata": {
    "collapsed": false,
    "pycharm": {
     "name": "#%%\n"
    }
   }
  },
  {
   "cell_type": "code",
   "execution_count": 174,
   "outputs": [],
   "source": [
    "def save_fits(data: np.ndarray, filename: str):\n",
    "    \"\"\"\n",
    "    将ndarray保存成fits文件\n",
    "    :param data: 待保存数据\n",
    "    :param filename: 保存文件名\n",
    "    :return:\n",
    "    \"\"\"\n",
    "    if len(data.shape) == 2:\n",
    "        hdu = fits.PrimaryHDU(data)\n",
    "        hdulist = fits.HDUList([hdu])\n",
    "        hdulist.writeto(filename)\n",
    "        hdulist.close()\n",
    "    elif data.shape[-1] == 3:\n",
    "        g, r, z = data[:, :, 0], data[:, :, 1], data[:, :, 2]\n",
    "        data = np.array((g, r, z))\n",
    "        hdu = fits.PrimaryHDU(data)\n",
    "        hdulist = fits.HDUList([hdu])\n",
    "        hdulist.writeto(filename)\n",
    "        hdulist.close()\n",
    "    elif data.shape[0] == 3:\n",
    "        hdu = fits.PrimaryHDU(data)\n",
    "        hdulist = fits.HDUList([hdu])\n",
    "        hdulist.writeto(filename)\n",
    "        hdulist.close()\n",
    "    else:\n",
    "        raise RuntimeError"
   ],
   "metadata": {
    "collapsed": false,
    "pycharm": {
     "name": "#%%\n"
    }
   }
  },
  {
   "cell_type": "code",
   "execution_count": 175,
   "outputs": [],
   "source": [
    "save_fits(a.cutout, \"/data/renhaoye/1.fits\")"
   ],
   "metadata": {
    "collapsed": false,
    "pycharm": {
     "name": "#%%\n"
    }
   }
  },
  {
   "cell_type": "code",
   "execution_count": null,
   "outputs": [],
   "source": [],
   "metadata": {
    "collapsed": false,
    "pycharm": {
     "name": "#%%\n"
    }
   }
  }
 ],
 "metadata": {
  "kernelspec": {
   "display_name": "Python 3",
   "language": "python",
   "name": "python3"
  },
  "language_info": {
   "codemirror_mode": {
    "name": "ipython",
    "version": 2
   },
   "file_extension": ".py",
   "mimetype": "text/x-python",
   "name": "python",
   "nbconvert_exporter": "python",
   "pygments_lexer": "ipython2",
   "version": "2.7.6"
  }
 },
 "nbformat": 4,
 "nbformat_minor": 0
}