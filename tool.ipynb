{
 "cells": [
  {
   "cell_type": "code",
   "execution_count": 1,
   "metadata": {
    "collapsed": true,
    "pycharm": {
     "name": "#%%\n"
    }
   },
   "outputs": [],
   "source": [
    "import os"
   ]
  },
  {
   "cell_type": "markdown",
   "source": [
    "http://cas.sdss.org/dr7/en/tools/crossid/crossid.asp\n",
    "上述网站可以根据ra，dec返回run，rerun，camcol，field信息，这些信息可以根据对应在http://das.sdss.org/raw/中对应下载到\n",
    "但是上述网站一次只能上传100KB的文件，经测试，200KB是最大承受范围，下面用来切割坐标列表，7000一组"
   ],
   "metadata": {
    "collapsed": false
   }
  },
  {
   "cell_type": "code",
   "execution_count": null,
   "outputs": [],
   "source": [
    "fits_dir = \"/data/renhaoye/decals_2022/in_decals/fits/\"\n",
    "fits_files = os.listdir(fits_dir)\n",
    "fits_files.sort()\n",
    "step = 7000\n",
    "iter = int(len(fits_files) / 7000)\n",
    "for batch in range(iter + 1):\n",
    "    with open(\"/data/renhaoye/decals_2022/decals_poi_7k%d.txt\" % batch, \"w\") as f:\n",
    "        if batch == iter:\n",
    "            for i in range(batch * step, len(fits_files)):\n",
    "                poi = fits_files[i].split(\".fits\")[0]\n",
    "                ra, dec = poi.split(\"_\")\n",
    "                f.write(\"A\" + str(i + 1) + \" \" + str(ra) + \" \" + str(dec) + \"\\n\")\n",
    "        else:\n",
    "            for i in range(batch * step, (batch + 1) * step):\n",
    "                poi = fits_files[i].split(\".fits\")[0]\n",
    "                ra, dec = poi.split(\"_\")\n",
    "                # f.write(str(ra) + \",\" + str(dec) + \",\" + \"1.117866\\n\")\n",
    "                f.write(\"A\" + str(i + 1) + \" \" + str(ra) + \" \" + str(dec) + \"\\n\")"
   ],
   "metadata": {
    "collapsed": false,
    "pycharm": {
     "name": "#%%\n"
    }
   }
  },
  {
   "cell_type": "markdown",
   "source": [
    "切割图像"
   ],
   "metadata": {
    "collapsed": false
   }
  },
  {
   "cell_type": "code",
   "execution_count": 2,
   "outputs": [],
   "source": [
    "import numpy as np\n",
    "import astropy.units as u\n",
    "import astropy\n",
    "import pandas as pd\n",
    "from astropy.coordinates import SkyCoord\n",
    "from astropy.wcs import WCS\n",
    "from astropy.io import fits\n",
    "# from astroquery.gaia import Gaia\n",
    "import matplotlib.pyplot as plt\n",
    "# Gaia.MAIN_GAIA_TABLE = \"gaiaedr3.gaia_source\" # Select early Data Release 3\n",
    "%matplotlib inline"
   ],
   "metadata": {
    "collapsed": false,
    "pycharm": {
     "name": "#%%\n"
    }
   }
  },
  {
   "cell_type": "code",
   "execution_count": null,
   "outputs": [],
   "source": [
    "PATH = \"/data/renhaoye/decals_2022/\"\n",
    "hdul = fits.open(PATH + \"g.fit\")\n",
    "\n",
    "data = hdul[0].data\n",
    "header = hdul[0].header\n",
    "wcsobj = WCS(hdul[0].header)\n",
    "hdul.close()"
   ],
   "metadata": {
    "collapsed": false,
    "pycharm": {
     "name": "#%%\n"
    }
   }
  },
  {
   "cell_type": "code",
   "execution_count": null,
   "outputs": [],
   "source": [
    "ra, dec = wcsobj.all_world2pix([[122.541511, 20.486553]], 0)[0]"
   ],
   "metadata": {
    "collapsed": false,
    "pycharm": {
     "name": "#%%\n"
    }
   }
  },
  {
   "cell_type": "code",
   "execution_count": 3,
   "outputs": [],
   "source": [
    "sdss = pd.read_csv(\"/data/renhaoye/decals_2022/sdss_in_decals.csv\")"
   ],
   "metadata": {
    "collapsed": false,
    "pycharm": {
     "name": "#%%\n"
    }
   }
  },
  {
   "cell_type": "code",
   "execution_count": 5,
   "outputs": [
    {
     "name": "stdout",
     "output_type": "stream",
     "text": [
      "<class 'pandas.core.frame.DataFrame'>\n",
      "RangeIndex: 299657 entries, 0 to 299656\n",
      "Data columns (total 14 columns):\n",
      " #   Column      Non-Null Count   Dtype  \n",
      "---  ------      --------------   -----  \n",
      " 0   col0        299657 non-null  object \n",
      " 1   objID       299657 non-null  float64\n",
      " 2   ra          299657 non-null  float64\n",
      " 3   dec         299657 non-null  float64\n",
      " 4   run         299657 non-null  int64  \n",
      " 5   rerun       299657 non-null  int64  \n",
      " 6   camcol      299657 non-null  int64  \n",
      " 7   field       299657 non-null  int64  \n",
      " 8   type        299657 non-null  object \n",
      " 9   modelMag_u  299657 non-null  float64\n",
      " 10  modelMag_g  299657 non-null  float64\n",
      " 11  modelMag_r  299657 non-null  float64\n",
      " 12  modelMag_i  299657 non-null  float64\n",
      " 13  modelMag_z  299657 non-null  float64\n",
      "dtypes: float64(8), int64(4), object(2)\n",
      "memory usage: 32.0+ MB\n"
     ]
    }
   ],
   "source": [
    "sdss.info()"
   ],
   "metadata": {
    "collapsed": false,
    "pycharm": {
     "name": "#%%\n"
    }
   }
  },
  {
   "cell_type": "code",
   "execution_count": 68,
   "outputs": [],
   "source": [
    "import warnings\n",
    "warnings.filterwarnings(\"ignore\")\n",
    "class Cut:\n",
    "    def __init__(self, info):\n",
    "        assert type(info)==pd.core.series.Series, \"please input pd.core.series.Series like: df.iloc[index]\"\n",
    "        self.ra = info.ra\n",
    "        self.dec = info.dec\n",
    "        self.run = info.run\n",
    "        self.rerun = info.rerun\n",
    "        self.camcol = info.camcol\n",
    "        self.field = info.field\n",
    "        self.cutout = np.zeros((3, 256, 256))\n",
    "    def __call__(self, *args, **kwargs):\n",
    "        new_field = str(self.field)\n",
    "        if len(new_field) == 2:\n",
    "            new_field = \"0\" + new_field\n",
    "        raw_path = \"/data/renhaoye/sdss_dr7_decals_overlap/raw/\"\n",
    "        bands = [\"g\", \"r\", \"z\"]\n",
    "        files = []\n",
    "        for band in bands:\n",
    "            files.append(raw_path + \"fpC-00%s-%s%d-0%s.fit\" % (self.run, band, self.camcol, new_field))\n",
    "        # files = [\"/data/renhaoye/decals_2022/g.fit\", \"/data/renhaoye/decals_2022/r.fit\", \"/data/renhaoye/decals_2022/z.fit\"]\n",
    "        for i in range(len(files)):\n",
    "            with fits.open(files[i]) as hdul:\n",
    "                data = hdul[0].data\n",
    "                # print(data.shape)\n",
    "                wcs = WCS(hdul[0].header)\n",
    "                # print(hdul.info())\n",
    "                y, x = wcs.all_world2pix([[self.ra, self.dec]],0)[0]\n",
    "                # y, x = wcs.all_world2pix([[122.541511, 20.486553]], 0)[0]\n",
    "                # assert x == np.nan or y == np.nan, \"source not found in fit\"\n",
    "                x, y = int(x), int(y)\n",
    "                # print(x, y)\n",
    "                left_upper_x, left_upper_y = x - 128, y - 128\n",
    "                # print(left_upper_x, left_upper_y)\n",
    "                if left_upper_x > 1233 or left_upper_x < 0 or (left_upper_y > 1790) or left_upper_y<0:\n",
    "                    self.cutout[i] = np.zeros((256, 256))\n",
    "                else:\n",
    "                    self.cutout[i] = data[left_upper_x:left_upper_x + 256, left_upper_y:left_upper_y+256]\n",
    "        # self.cutout = np.array((self.cutout[0], self.cutout[1], self.cutout[2]))"
   ],
   "metadata": {
    "collapsed": false,
    "pycharm": {
     "name": "#%%\n"
    }
   }
  },
  {
   "cell_type": "code",
   "execution_count": 92,
   "outputs": [],
   "source": [
    "def save_fits(data: np.ndarray, filename: str):\n",
    "    \"\"\"\n",
    "    将ndarray保存成fits文件\n",
    "    :param data: 待保存数据\n",
    "    :param filename: 保存文件名\n",
    "    :return:\n",
    "    \"\"\"\n",
    "    if len(data.shape) == 2:\n",
    "        hdu = fits.PrimaryHDU(data)\n",
    "        hdulist = fits.HDUList([hdu])\n",
    "        hdulist.writeto(filename, overwrite=True)\n",
    "        hdulist.close()\n",
    "    elif data.shape[-1] == 3:\n",
    "        g, r, z = data[:, :, 0], data[:, :, 1], data[:, :, 2]\n",
    "        data = np.array((g, r, z))\n",
    "        hdu = fits.PrimaryHDU(data)\n",
    "        hdulist = fits.HDUList([hdu])\n",
    "        hdulist.writeto(filename, overwrite=True)\n",
    "        hdulist.close()\n",
    "    elif data.shape[0] == 3:\n",
    "        hdu = fits.PrimaryHDU(data)\n",
    "        hdulist = fits.HDUList([hdu])\n",
    "        hdulist.writeto(filename, overwrite=True)\n",
    "        hdulist.close()\n",
    "    else:\n",
    "        raise RuntimeError"
   ],
   "metadata": {
    "collapsed": false,
    "pycharm": {
     "name": "#%%\n"
    }
   }
  },
  {
   "cell_type": "code",
   "execution_count": 93,
   "outputs": [
    {
     "name": "stderr",
     "output_type": "stream",
     "text": [
      "  2%|█▍                                                                          | 5759/299657 [10:09<8:38:41,  9.44it/s]\n"
     ]
    },
    {
     "ename": "KeyboardInterrupt",
     "evalue": "",
     "output_type": "error",
     "traceback": [
      "\u001B[0;31m---------------------------------------------------------------------------\u001B[0m",
      "\u001B[0;31mKeyboardInterrupt\u001B[0m                         Traceback (most recent call last)",
      "Input \u001B[0;32mIn [93]\u001B[0m, in \u001B[0;36m<cell line: 3>\u001B[0;34m()\u001B[0m\n\u001B[1;32m      3\u001B[0m \u001B[38;5;28;01mfor\u001B[39;00m i \u001B[38;5;129;01min\u001B[39;00m tqdm(\u001B[38;5;28mrange\u001B[39m(\u001B[38;5;28mlen\u001B[39m(sdss))):\n\u001B[1;32m      4\u001B[0m     a \u001B[38;5;241m=\u001B[39m Cut(sdss\u001B[38;5;241m.\u001B[39miloc[i])\n\u001B[0;32m----> 5\u001B[0m     \u001B[43ma\u001B[49m\u001B[43m(\u001B[49m\u001B[43m)\u001B[49m\n\u001B[1;32m      6\u001B[0m     \u001B[38;5;66;03m# max 2048*1489\u001B[39;00m\n\u001B[1;32m      7\u001B[0m     \u001B[38;5;28;01mif\u001B[39;00m np\u001B[38;5;241m.\u001B[39mmax(a\u001B[38;5;241m.\u001B[39mcutout[\u001B[38;5;241m0\u001B[39m,:,:]) \u001B[38;5;241m!=\u001B[39m \u001B[38;5;241m0.\u001B[39m \u001B[38;5;129;01mand\u001B[39;00m np\u001B[38;5;241m.\u001B[39mmax(a\u001B[38;5;241m.\u001B[39mcutout[\u001B[38;5;241m1\u001B[39m,:,:]) \u001B[38;5;241m!=\u001B[39m \u001B[38;5;241m0.\u001B[39m \u001B[38;5;129;01mand\u001B[39;00m np\u001B[38;5;241m.\u001B[39mmax(a\u001B[38;5;241m.\u001B[39mcutout[\u001B[38;5;241m2\u001B[39m,:,:]) \u001B[38;5;241m!=\u001B[39m \u001B[38;5;241m0.\u001B[39m:\n",
      "Input \u001B[0;32mIn [68]\u001B[0m, in \u001B[0;36mCut.__call__\u001B[0;34m(self, *args, **kwargs)\u001B[0m\n\u001B[1;32m     25\u001B[0m data \u001B[38;5;241m=\u001B[39m hdul[\u001B[38;5;241m0\u001B[39m]\u001B[38;5;241m.\u001B[39mdata\n\u001B[1;32m     26\u001B[0m \u001B[38;5;66;03m# print(data.shape)\u001B[39;00m\n\u001B[0;32m---> 27\u001B[0m wcs \u001B[38;5;241m=\u001B[39m \u001B[43mWCS\u001B[49m\u001B[43m(\u001B[49m\u001B[43mhdul\u001B[49m\u001B[43m[\u001B[49m\u001B[38;5;241;43m0\u001B[39;49m\u001B[43m]\u001B[49m\u001B[38;5;241;43m.\u001B[39;49m\u001B[43mheader\u001B[49m\u001B[43m)\u001B[49m\n\u001B[1;32m     28\u001B[0m \u001B[38;5;66;03m# print(hdul.info())\u001B[39;00m\n\u001B[1;32m     29\u001B[0m y, x \u001B[38;5;241m=\u001B[39m wcs\u001B[38;5;241m.\u001B[39mall_world2pix([[\u001B[38;5;28mself\u001B[39m\u001B[38;5;241m.\u001B[39mra, \u001B[38;5;28mself\u001B[39m\u001B[38;5;241m.\u001B[39mdec]],\u001B[38;5;241m0\u001B[39m)[\u001B[38;5;241m0\u001B[39m]\n",
      "File \u001B[0;32m~/miniconda3/envs/decals/lib/python3.8/site-packages/astropy/wcs/wcs.py:478\u001B[0m, in \u001B[0;36mWCS.__init__\u001B[0;34m(self, header, fobj, key, minerr, relax, naxis, keysel, colsel, fix, translate_units, _do_set)\u001B[0m\n\u001B[1;32m    475\u001B[0m sip \u001B[38;5;241m=\u001B[39m \u001B[38;5;28mself\u001B[39m\u001B[38;5;241m.\u001B[39m_read_sip_kw(header, wcskey\u001B[38;5;241m=\u001B[39mkey)\n\u001B[1;32m    476\u001B[0m \u001B[38;5;28mself\u001B[39m\u001B[38;5;241m.\u001B[39m_remove_sip_kw(header)\n\u001B[0;32m--> 478\u001B[0m header_string \u001B[38;5;241m=\u001B[39m \u001B[43mheader\u001B[49m\u001B[38;5;241;43m.\u001B[39;49m\u001B[43mtostring\u001B[49m\u001B[43m(\u001B[49m\u001B[43m)\u001B[49m\n\u001B[1;32m    479\u001B[0m header_string \u001B[38;5;241m=\u001B[39m header_string\u001B[38;5;241m.\u001B[39mreplace(\u001B[38;5;124m'\u001B[39m\u001B[38;5;124mEND\u001B[39m\u001B[38;5;124m'\u001B[39m \u001B[38;5;241m+\u001B[39m \u001B[38;5;124m'\u001B[39m\u001B[38;5;124m \u001B[39m\u001B[38;5;124m'\u001B[39m \u001B[38;5;241m*\u001B[39m \u001B[38;5;241m77\u001B[39m, \u001B[38;5;124m'\u001B[39m\u001B[38;5;124m'\u001B[39m)\n\u001B[1;32m    481\u001B[0m \u001B[38;5;28;01mif\u001B[39;00m \u001B[38;5;28misinstance\u001B[39m(header_string, \u001B[38;5;28mstr\u001B[39m):\n",
      "File \u001B[0;32m~/miniconda3/envs/decals/lib/python3.8/site-packages/astropy/io/fits/header.py:690\u001B[0m, in \u001B[0;36mHeader.tostring\u001B[0;34m(self, sep, endcard, padding)\u001B[0m\n\u001B[1;32m    688\u001B[0m lines \u001B[38;5;241m=\u001B[39m []\n\u001B[1;32m    689\u001B[0m \u001B[38;5;28;01mfor\u001B[39;00m card \u001B[38;5;129;01min\u001B[39;00m \u001B[38;5;28mself\u001B[39m\u001B[38;5;241m.\u001B[39m_cards:\n\u001B[0;32m--> 690\u001B[0m     s \u001B[38;5;241m=\u001B[39m \u001B[38;5;28;43mstr\u001B[39;49m\u001B[43m(\u001B[49m\u001B[43mcard\u001B[49m\u001B[43m)\u001B[49m\n\u001B[1;32m    691\u001B[0m     \u001B[38;5;66;03m# Cards with CONTINUE cards may be longer than 80 chars; so break\u001B[39;00m\n\u001B[1;32m    692\u001B[0m     \u001B[38;5;66;03m# them into multiple lines\u001B[39;00m\n\u001B[1;32m    693\u001B[0m     \u001B[38;5;28;01mwhile\u001B[39;00m s:\n",
      "File \u001B[0;32m~/miniconda3/envs/decals/lib/python3.8/site-packages/astropy/io/fits/card.py:206\u001B[0m, in \u001B[0;36mCard.__str__\u001B[0;34m(self)\u001B[0m\n\u001B[1;32m    205\u001B[0m \u001B[38;5;28;01mdef\u001B[39;00m \u001B[38;5;21m__str__\u001B[39m(\u001B[38;5;28mself\u001B[39m):\n\u001B[0;32m--> 206\u001B[0m     \u001B[38;5;28;01mreturn\u001B[39;00m \u001B[38;5;28;43mself\u001B[39;49m\u001B[38;5;241;43m.\u001B[39;49m\u001B[43mimage\u001B[49m\n",
      "File \u001B[0;32m~/miniconda3/envs/decals/lib/python3.8/site-packages/astropy/io/fits/card.py:503\u001B[0m, in \u001B[0;36mCard.image\u001B[0;34m(self)\u001B[0m\n\u001B[1;32m    497\u001B[0m \u001B[38;5;124;03m\"\"\"\u001B[39;00m\n\u001B[1;32m    498\u001B[0m \u001B[38;5;124;03mThe card \"image\", that is, the 80 byte character string that represents\u001B[39;00m\n\u001B[1;32m    499\u001B[0m \u001B[38;5;124;03mthis card in an actual FITS header.\u001B[39;00m\n\u001B[1;32m    500\u001B[0m \u001B[38;5;124;03m\"\"\"\u001B[39;00m\n\u001B[1;32m    502\u001B[0m \u001B[38;5;28;01mif\u001B[39;00m \u001B[38;5;28mself\u001B[39m\u001B[38;5;241m.\u001B[39m_image \u001B[38;5;129;01mand\u001B[39;00m \u001B[38;5;129;01mnot\u001B[39;00m \u001B[38;5;28mself\u001B[39m\u001B[38;5;241m.\u001B[39m_verified:\n\u001B[0;32m--> 503\u001B[0m     \u001B[38;5;28;43mself\u001B[39;49m\u001B[38;5;241;43m.\u001B[39;49m\u001B[43mverify\u001B[49m\u001B[43m(\u001B[49m\u001B[38;5;124;43m'\u001B[39;49m\u001B[38;5;124;43mfix+warn\u001B[39;49m\u001B[38;5;124;43m'\u001B[39;49m\u001B[43m)\u001B[49m\n\u001B[1;32m    504\u001B[0m \u001B[38;5;28;01mif\u001B[39;00m \u001B[38;5;28mself\u001B[39m\u001B[38;5;241m.\u001B[39m_image \u001B[38;5;129;01mis\u001B[39;00m \u001B[38;5;28;01mNone\u001B[39;00m \u001B[38;5;129;01mor\u001B[39;00m \u001B[38;5;28mself\u001B[39m\u001B[38;5;241m.\u001B[39m_modified:\n\u001B[1;32m    505\u001B[0m     \u001B[38;5;28mself\u001B[39m\u001B[38;5;241m.\u001B[39m_image \u001B[38;5;241m=\u001B[39m \u001B[38;5;28mself\u001B[39m\u001B[38;5;241m.\u001B[39m_format_image()\n",
      "File \u001B[0;32m~/miniconda3/envs/decals/lib/python3.8/site-packages/astropy/io/fits/verify.py:73\u001B[0m, in \u001B[0;36m_Verify.verify\u001B[0;34m(self, option)\u001B[0m\n\u001B[1;32m     70\u001B[0m \u001B[38;5;28;01mif\u001B[39;00m opt \u001B[38;5;241m==\u001B[39m \u001B[38;5;124m'\u001B[39m\u001B[38;5;124mignore\u001B[39m\u001B[38;5;124m'\u001B[39m:\n\u001B[1;32m     71\u001B[0m     \u001B[38;5;28;01mreturn\u001B[39;00m\n\u001B[0;32m---> 73\u001B[0m errs \u001B[38;5;241m=\u001B[39m \u001B[38;5;28;43mself\u001B[39;49m\u001B[38;5;241;43m.\u001B[39;49m\u001B[43m_verify\u001B[49m\u001B[43m(\u001B[49m\u001B[43mopt\u001B[49m\u001B[43m)\u001B[49m\n\u001B[1;32m     75\u001B[0m \u001B[38;5;66;03m# Break the verify option into separate options related to reporting of\u001B[39;00m\n\u001B[1;32m     76\u001B[0m \u001B[38;5;66;03m# errors, and fixing of fixable errors\u001B[39;00m\n\u001B[1;32m     77\u001B[0m \u001B[38;5;28;01mif\u001B[39;00m \u001B[38;5;124m'\u001B[39m\u001B[38;5;124m+\u001B[39m\u001B[38;5;124m'\u001B[39m \u001B[38;5;129;01min\u001B[39;00m opt:\n",
      "File \u001B[0;32m~/miniconda3/envs/decals/lib/python3.8/site-packages/astropy/io/fits/card.py:1084\u001B[0m, in \u001B[0;36mCard._verify\u001B[0;34m(self, option)\u001B[0m\n\u001B[1;32m   1082\u001B[0m \u001B[38;5;28;01mdef\u001B[39;00m \u001B[38;5;21m_verify\u001B[39m(\u001B[38;5;28mself\u001B[39m, option\u001B[38;5;241m=\u001B[39m\u001B[38;5;124m'\u001B[39m\u001B[38;5;124mwarn\u001B[39m\u001B[38;5;124m'\u001B[39m):\n\u001B[1;32m   1083\u001B[0m     errs \u001B[38;5;241m=\u001B[39m []\n\u001B[0;32m-> 1084\u001B[0m     fix_text \u001B[38;5;241m=\u001B[39m \u001B[38;5;124mf\u001B[39m\u001B[38;5;124m'\u001B[39m\u001B[38;5;124mFixed \u001B[39m\u001B[38;5;132;01m{\u001B[39;00m\u001B[38;5;28mself\u001B[39m\u001B[38;5;241m.\u001B[39mkeyword\u001B[38;5;132;01m!r}\u001B[39;00m\u001B[38;5;124m card to meet the FITS standard.\u001B[39m\u001B[38;5;124m'\u001B[39m\n\u001B[1;32m   1086\u001B[0m     \u001B[38;5;66;03m# Don't try to verify cards that already don't meet any recognizable\u001B[39;00m\n\u001B[1;32m   1087\u001B[0m     \u001B[38;5;66;03m# standard\u001B[39;00m\n\u001B[1;32m   1088\u001B[0m     \u001B[38;5;28;01mif\u001B[39;00m \u001B[38;5;28mself\u001B[39m\u001B[38;5;241m.\u001B[39m_invalid:\n",
      "\u001B[0;31mKeyboardInterrupt\u001B[0m: "
     ]
    }
   ],
   "source": [
    "from tqdm import tqdm\n",
    "# x = sdss.iloc[1]\n",
    "for i in tqdm(range(len(sdss))):\n",
    "    a = Cut(sdss.iloc[i])\n",
    "    a()\n",
    "    # max 2048*1489\n",
    "    if np.max(a.cutout[0,:,:]) != 0. and np.max(a.cutout[1,:,:]) != 0. and np.max(a.cutout[2,:,:]) != 0.:\n",
    "        ra = str(a.ra).split(\".\")[0] + \".\" + str(a.ra).split(\".\")[1][0:6]\n",
    "        dec = str(a.dec).split(\".\")[0] + \".\" + str(a.dec).split(\".\")[1][0:6]\n",
    "        save_fits(a.cutout, \"/data/renhaoye/test/%s_%s.fits\" % (ra, dec))"
   ],
   "metadata": {
    "collapsed": false,
    "pycharm": {
     "name": "#%%\n"
    }
   }
  },
  {
   "cell_type": "code",
   "execution_count": 79,
   "outputs": [
    {
     "data": {
      "text/plain": "numpy.float64"
     },
     "execution_count": 79,
     "metadata": {},
     "output_type": "execute_result"
    }
   ],
   "source": [
    "type(a.ra)"
   ],
   "metadata": {
    "collapsed": false,
    "pycharm": {
     "name": "#%%\n"
    }
   }
  },
  {
   "cell_type": "code",
   "execution_count": null,
   "outputs": [],
   "source": [
    "num = 0\n",
    "for item in max:\n",
    "    if item == 0:\n",
    "        num += 1\n",
    "num"
   ],
   "metadata": {
    "collapsed": false,
    "pycharm": {
     "name": "#%%\n"
    }
   }
  },
  {
   "cell_type": "code",
   "execution_count": 174,
   "outputs": [],
   "source": [
    "def save_fits(data: np.ndarray, filename: str):\n",
    "    \"\"\"\n",
    "    将ndarray保存成fits文件\n",
    "    :param data: 待保存数据\n",
    "    :param filename: 保存文件名\n",
    "    :return:\n",
    "    \"\"\"\n",
    "    if len(data.shape) == 2:\n",
    "        hdu = fits.PrimaryHDU(data)\n",
    "        hdulist = fits.HDUList([hdu])\n",
    "        hdulist.writeto(filename)\n",
    "        hdulist.close()\n",
    "    elif data.shape[-1] == 3:\n",
    "        g, r, z = data[:, :, 0], data[:, :, 1], data[:, :, 2]\n",
    "        data = np.array((g, r, z))\n",
    "        hdu = fits.PrimaryHDU(data)\n",
    "        hdulist = fits.HDUList([hdu])\n",
    "        hdulist.writeto(filename)\n",
    "        hdulist.close()\n",
    "    elif data.shape[0] == 3:\n",
    "        hdu = fits.PrimaryHDU(data)\n",
    "        hdulist = fits.HDUList([hdu])\n",
    "        hdulist.writeto(filename)\n",
    "        hdulist.close()\n",
    "    else:\n",
    "        raise RuntimeError"
   ],
   "metadata": {
    "collapsed": false,
    "pycharm": {
     "name": "#%%\n"
    }
   }
  },
  {
   "cell_type": "code",
   "execution_count": 175,
   "outputs": [],
   "source": [
    "save_fits(a.cutout, \"/data/renhaoye/1.fits\")"
   ],
   "metadata": {
    "collapsed": false,
    "pycharm": {
     "name": "#%%\n"
    }
   }
  },
  {
   "cell_type": "code",
   "execution_count": 7,
   "outputs": [],
   "source": [
    "test = []\n",
    "with open(\"/data/renhaoye/sdss_dr7_decals_overlap/done_index.txt\", \"r\") as r:\n",
    "    for i in r:\n",
    "        test.append(i.split(\"\\n\")[0])"
   ],
   "metadata": {
    "collapsed": false,
    "pycharm": {
     "name": "#%%\n"
    }
   }
  },
  {
   "cell_type": "code",
   "execution_count": 8,
   "outputs": [
    {
     "data": {
      "text/plain": "217970"
     },
     "execution_count": 8,
     "metadata": {},
     "output_type": "execute_result"
    }
   ],
   "source": [
    "len(test)"
   ],
   "metadata": {
    "collapsed": false,
    "pycharm": {
     "name": "#%%\n"
    }
   }
  },
  {
   "cell_type": "code",
   "execution_count": 9,
   "outputs": [
    {
     "data": {
      "text/plain": "['11238',\n '37460',\n '44952',\n '29968',\n '14984',\n '22476',\n '48698',\n '26222',\n '3746',\n '18730',\n '63682',\n '59936',\n '52444',\n '71174',\n '67428',\n '11239',\n '22477',\n '71175',\n '33716',\n '56191',\n '41207',\n '7493',\n '11240',\n '37461',\n '29969',\n '14985',\n '48699',\n '63683',\n '26223',\n '52445',\n '3747',\n '18731',\n '22479',\n '56192',\n '11241',\n '33718',\n '41208',\n '7494',\n '44954',\n '59938',\n '56193',\n '37462',\n '22480',\n '14986',\n '29970',\n '63684',\n '26224',\n '3748',\n '52446',\n '71180',\n '18732',\n '11242',\n '48700',\n '33719',\n '67430',\n '56194',\n '44955',\n '41209',\n '59939',\n '37463',\n '22481',\n '14987',\n '63685',\n '26225',\n '52447',\n '3749',\n '71181',\n '48701',\n '11243',\n '6',\n '18733',\n '33720',\n '7496',\n '67431',\n '29972',\n '56195',\n '44956',\n '41210',\n '37464',\n '59940',\n '22482',\n '14988',\n '26226',\n '52448',\n '11244',\n '48702',\n '3750',\n '7',\n '71182',\n '33721',\n '67432',\n '29973',\n '44957',\n '56196',\n '63687',\n '37465',\n '41211',\n '59941',\n '22483',\n '18735',\n '14989',\n '7498',\n '26227',\n '48703',\n '52449',\n '11245',\n '8',\n '3751',\n '33722',\n '71183',\n '67433',\n '29974',\n '44958',\n '56197',\n '37466',\n '41212',\n '59942',\n '22484',\n '7499',\n '18736',\n '26228',\n '14990',\n '48704',\n '63689',\n '11246',\n '33723',\n '3752',\n '71184',\n '67434',\n '29975',\n '37467',\n '56198',\n '59943',\n '52451',\n '10',\n '22485',\n '7500',\n '14991',\n '26229',\n '18737',\n '41214',\n '48705',\n '11247',\n '44960',\n '67435',\n '71185',\n '29976',\n '3754',\n '63691',\n '22486',\n '52452',\n '59944',\n '33725',\n '7501',\n '3755',\n '14992',\n '26230',\n '18738',\n '41216',\n '48706',\n '37469',\n '11248',\n '56200',\n '71186',\n '29977',\n '3756',\n '41217',\n '59945',\n '33726',\n '44962',\n '63692',\n '7502',\n '67437',\n '14993',\n '18739',\n '3757',\n '48707',\n '11249',\n '56201',\n '41218',\n '71187',\n '52454',\n '29978',\n '3758',\n '37471',\n '26232',\n '59946',\n '33727',\n '63693',\n '7503',\n '67438',\n '44963',\n '41219',\n '14994',\n '22489',\n '11250',\n '48708',\n '15',\n '52455',\n '29979',\n '71188',\n '37472',\n '59947',\n '56203',\n '63694',\n '44964',\n '7504',\n '14995',\n '22490',\n '11251',\n '16',\n '3762',\n '41221',\n '26234',\n '52456',\n '18742',\n '33729',\n '67440',\n '29980',\n '71189',\n '56204',\n '48710',\n '41222',\n '7505',\n '44965',\n '22491',\n '3764',\n '14996',\n '17',\n '37474',\n '59949',\n '52457',\n '63696',\n '26235',\n '18743',\n '33730',\n '29981',\n '41223',\n '11253',\n '56205',\n '22492',\n '44966',\n '7506',\n '3765',\n '14997',\n '67442',\n '37475',\n '59950',\n '63697',\n '71191',\n '26236',\n '48712',\n '18744',\n '29982',\n '11254',\n '41224',\n '56206',\n '22493',\n '19',\n '7507',\n '44967',\n '33732',\n '3766',\n '37476',\n '67443',\n '59951',\n '48713',\n '71192',\n '26237',\n '18745',\n '29983',\n '52460',\n '11255',\n '41225',\n '56207',\n '22494',\n '7508',\n '63699',\n '33733',\n '44968',\n '37477',\n '3767',\n '59952',\n '67444',\n '48714',\n '29984',\n '26238',\n '15000',\n '71193',\n '21',\n '52461',\n '11256',\n '41226',\n '56208',\n '7509',\n '63700',\n '33734',\n '37478',\n '44969',\n '18747',\n '67445',\n '3768',\n '48715',\n '26239',\n '29985',\n '71194',\n '22',\n '22496',\n '52462',\n '11257',\n '59954',\n '7510',\n '41227',\n '56209',\n '63701',\n '37479',\n '33735',\n '44970',\n '67446',\n '48716',\n '29986',\n '26240',\n '22497',\n '71195',\n '11258',\n '52463',\n '23',\n '15003',\n '18749',\n '59955',\n '56210',\n '63702',\n '7511',\n '37480',\n '33736',\n '3770',\n '41228',\n '44971',\n '67447',\n '48717',\n '29987',\n '26241',\n '22498',\n '52464',\n '59956',\n '15004',\n '18750',\n '24',\n '56211',\n '7512',\n '63703',\n '37481',\n '33737',\n '3771',\n '44972',\n '41229',\n '67448',\n '48718',\n '11260',\n '29988',\n '26242',\n '22499',\n '52465',\n '59957',\n '15005',\n '18751',\n '25',\n '56212',\n '63704',\n '7513',\n '33738',\n '44973',\n '71198',\n '3772',\n '41230',\n '67449',\n '11261',\n '48719',\n '26243',\n '22500',\n '52466',\n '59958',\n '15006',\n '26',\n '63705',\n '7514',\n '56213',\n '33739',\n '44974',\n '29990',\n '71199',\n '41231',\n '3773',\n '11262',\n '48720',\n '26244',\n '22501',\n '37485',\n '59959',\n '63706',\n '15007',\n '56214',\n '27',\n '44975',\n '33740',\n '29991',\n '18754',\n '52468',\n '71200',\n '41232',\n '48721',\n '11263',\n '3774',\n '22502',\n '26245',\n '7516',\n '37486',\n '63707',\n '15008',\n '28',\n '56215',\n '67453',\n '33741',\n '29992',\n '18755',\n '52469',\n '41233',\n '48722',\n '26246',\n '3775',\n '22503',\n '7517',\n '37487',\n '44977',\n '63708',\n '15009',\n '56216',\n '11265',\n '59962',\n '33742',\n '67454',\n '29993',\n '18756',\n '52470',\n '48723',\n '26247',\n '22504',\n '3776',\n '7518',\n '71203',\n '63709',\n '15010',\n '11266',\n '59963',\n '56217',\n '67455',\n '41235',\n '37489',\n '29994',\n '18757',\n '52471',\n '48724',\n '26248',\n '22505',\n '7519',\n '33744',\n '3777',\n '71204',\n '63710',\n '11267',\n '59964',\n '15011',\n '44980',\n '37490',\n '41236',\n '29995',\n '52472',\n '22506',\n '26249',\n '7520',\n '33745',\n '67457',\n '3778',\n '63711',\n '33',\n '18759',\n '44981',\n '11268',\n '59965',\n '48726',\n '37491',\n '29996',\n '41237',\n '56220',\n '52473',\n '71206',\n '22507',\n '26250',\n '15013',\n '33746',\n '7521',\n '63712',\n '3779',\n '34',\n '18760',\n '37492',\n '48727',\n '29997',\n '41238',\n '52474',\n '67459',\n '56221',\n '71207',\n '26251',\n '44983',\n '15014',\n '7522',\n '33747',\n '59967',\n '63713',\n '3780',\n '48728',\n '29998',\n '41239',\n '52475',\n '56222',\n '71208',\n '36',\n '44984',\n '26252',\n '18762',\n '33748',\n '59968',\n '22510',\n '63714',\n '3781',\n '67461',\n '48729',\n '37495',\n '29999',\n '52476',\n '41240',\n '7524',\n '37',\n '26253',\n '11273',\n '44985',\n '18763',\n '33749',\n '22511',\n '67462',\n '48730',\n '3782',\n '15017',\n '56224',\n '52477',\n '37496',\n '30000',\n '71211',\n '18764',\n '41241',\n '7525',\n '38',\n '44986',\n '11274',\n '26254',\n '33750',\n '22512',\n '3783',\n '15018',\n '63717',\n '59972',\n '37497',\n '52478',\n '56225',\n '30001',\n '48732',\n '71214',\n '7526',\n '39',\n '67464',\n '26255',\n '44987',\n '11275',\n '22513',\n '59973',\n '33751',\n '3784',\n '15019',\n '63718',\n '18766',\n '71215',\n '37498',\n '41243',\n '52479',\n '56226',\n '59974',\n '30002',\n '48733',\n '40',\n '44988',\n '67465',\n '26256',\n '22514',\n '71216',\n '11276',\n '33752',\n '59975',\n '3785',\n '63719',\n '15021',\n '18767',\n '48734',\n '41244',\n '7528',\n '71217',\n '41',\n '30003',\n '67466',\n '44989',\n '59976',\n '26257',\n '15022',\n '37500',\n '11277',\n '52481',\n '56228',\n '71218',\n '33753',\n '3786',\n '48736',\n '18768',\n '7529',\n '59977',\n '22516',\n '15023',\n '42',\n '71219',\n '67467',\n '44990',\n '37501',\n '48737',\n '63721',\n '26258',\n '11278',\n '56229',\n '59978',\n '41246',\n '33754',\n '15024',\n '3787',\n '71220',\n '30005',\n '48738',\n '7530',\n '22517',\n '43',\n '59979',\n '52483',\n '71221',\n '44991',\n '15025',\n '63722',\n '48739',\n '18770',\n '56230',\n '41247',\n '33755',\n '59980',\n '71222',\n '30006',\n '37503',\n '15026',\n '7531',\n '22518',\n '11280',\n '48740',\n '44',\n '52484',\n '63723',\n '3789',\n '71223',\n '67470',\n '18771',\n '15027',\n '59981',\n '48741',\n '33756',\n '41248',\n '26261',\n '37504',\n '30007',\n '7532',\n '44993',\n '22519',\n '11281',\n '56232',\n '52486',\n '59982',\n '45',\n '15028',\n '63724',\n '3790',\n '71224',\n '67471',\n '48743',\n '18772',\n '56233',\n '41249',\n '26262',\n '52487',\n '37505',\n '59983',\n '15029',\n '30008',\n '7533',\n '44994',\n '22520',\n '11282',\n '48744',\n '71226',\n '56234',\n '63725',\n '33758',\n '3791',\n '52488',\n '59984',\n '67472',\n '15030',\n '18773',\n '48745',\n '37506',\n '71227',\n '56235',\n '7534',\n '22521',\n '44995',\n '11283',\n '59985',\n '3792',\n '71228',\n '26264',\n '52490',\n '41251',\n '56236',\n '48',\n '30010',\n '15032',\n '18774',\n '37507',\n '59986',\n '63727',\n '7535',\n '71229',\n '22522',\n '33760',\n '44996',\n '11284',\n '48748',\n '56237',\n '52491',\n '67474',\n '15033',\n '3793',\n '59987',\n '49',\n '26265',\n '71230',\n '41252',\n '30011',\n '48749',\n '56238',\n '18775',\n '52492',\n '63728',\n '15034',\n '33761',\n '11285',\n '59988',\n '71231',\n '67475',\n '48750',\n '56239',\n '3794',\n '52493',\n '50',\n '15035',\n '22524',\n '7537',\n '26266',\n '44998',\n '41253',\n '59989',\n '71232',\n '18776',\n '48751',\n '63729',\n '11286',\n '52494',\n '33762',\n '67476',\n '56241',\n '59990',\n '30013',\n '3795',\n '37511',\n '15037',\n '71234',\n '22525',\n '7538',\n '26267',\n '44999',\n '52495',\n '41254',\n '48753',\n '56242',\n '63730',\n '59991',\n '33763',\n '67477',\n '52',\n '71235',\n '15038',\n '52496',\n '30014',\n '48754',\n '3796',\n '59992',\n '7539',\n '22526',\n '26268',\n '45000',\n '11288',\n '41255',\n '15039',\n '63731',\n '37513',\n '67478',\n '33764',\n '18779',\n '53',\n '59993',\n '56245',\n '30015',\n '52498',\n '48756',\n '3797',\n '15040',\n '22527',\n '7540',\n '26269',\n '11289',\n '45001',\n '59994',\n '71239',\n '56246',\n '63732',\n '48757',\n '52499',\n '37514',\n '33765',\n '15041',\n '54',\n '18780',\n '30016',\n '71240',\n '41257',\n '59995',\n '7541',\n '56247',\n '26270',\n '52500',\n '45002',\n '11290',\n '22528',\n '15042',\n '63733',\n '48759',\n '71241',\n '37515',\n '59996',\n '55',\n '3799',\n '56248',\n '33766',\n '18781',\n '30017',\n '48760',\n '15043',\n '71242',\n '7542',\n '52501',\n '45004',\n '22529',\n '26271',\n '37516',\n '63734',\n '71243',\n '59998',\n '15044',\n '3800',\n '67482',\n '56',\n '56250',\n '18782',\n '11292',\n '26272',\n '48762',\n '7543',\n '71244',\n '41260',\n '52502',\n '22530',\n '59999',\n '15045',\n '37517',\n '33768',\n '56251',\n '63735',\n '26273',\n '3801',\n '67483',\n '45006',\n '18783',\n '48764',\n '7544',\n '56252',\n '30020',\n '26274',\n '41261',\n '60001',\n '37518',\n '52503',\n '15047',\n '71247',\n '33769',\n '58',\n '63736',\n '11294',\n '48765',\n '56253',\n '3802',\n '67484',\n '26275',\n '45007',\n '22532',\n '18784',\n '15048',\n '7545',\n '30021',\n '37519',\n '60003',\n '52504',\n '41262',\n '56254',\n '71249',\n '26276',\n '11295',\n '15049',\n '67485',\n '3803',\n '45008',\n '48768',\n '22533',\n '18785',\n '71250',\n '56255',\n '7546',\n '63738',\n '30022',\n '33771',\n '60',\n '52505',\n '15050',\n '41263',\n '48769',\n '26278',\n '71251',\n '56256',\n '67486',\n '45009',\n '60006',\n '22534',\n '15051',\n '18786',\n '48770',\n '71252',\n '63739',\n '11297',\n '52506',\n '30023',\n '33772',\n '26279',\n '41264',\n '37522',\n '60007',\n '3805',\n '15052',\n '48771',\n '71253',\n ...]"
     },
     "execution_count": 9,
     "metadata": {},
     "output_type": "execute_result"
    }
   ],
   "source": [
    "test"
   ],
   "metadata": {
    "collapsed": false,
    "pycharm": {
     "name": "#%%\n"
    }
   }
  },
  {
   "cell_type": "code",
   "execution_count": null,
   "outputs": [],
   "source": [],
   "metadata": {
    "collapsed": false,
    "pycharm": {
     "name": "#%%\n"
    }
   }
  }
 ],
 "metadata": {
  "kernelspec": {
   "display_name": "Python 3",
   "language": "python",
   "name": "python3"
  },
  "language_info": {
   "codemirror_mode": {
    "name": "ipython",
    "version": 2
   },
   "file_extension": ".py",
   "mimetype": "text/x-python",
   "name": "python",
   "nbconvert_exporter": "python",
   "pygments_lexer": "ipython2",
   "version": "2.7.6"
  }
 },
 "nbformat": 4,
 "nbformat_minor": 0
}